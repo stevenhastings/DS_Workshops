{
  "nbformat": 4,
  "nbformat_minor": 0,
  "metadata": {
    "colab": {
      "provenance": [],
      "collapsed_sections": [],
      "authorship_tag": "ABX9TyO9zZ4RvK4sIyJuIrKWEvXq",
      "include_colab_link": true
    },
    "kernelspec": {
      "name": "python3",
      "display_name": "Python 3"
    },
    "language_info": {
      "name": "python"
    }
  },
  "cells": [
    {
      "cell_type": "markdown",
      "metadata": {
        "id": "view-in-github",
        "colab_type": "text"
      },
      "source": [
        "<a href=\"https://colab.research.google.com/github/stevenhastings/DS_Workshops/blob/main/Advanced_OOP_with_Python_Classes.ipynb\" target=\"_parent\"><img src=\"https://colab.research.google.com/assets/colab-badge.svg\" alt=\"Open In Colab\"/></a>"
      ]
    },
    {
      "cell_type": "markdown",
      "source": [
        "### The Basics"
      ],
      "metadata": {
        "id": "LbG4cHSu8sY-"
      }
    },
    {
      "cell_type": "code",
      "source": [
        "class MyClass:\n",
        "    pass\n",
        "\n",
        "instance = MyClass()"
      ],
      "metadata": {
        "id": "Waltr1Tz85xY"
      },
      "execution_count": 1,
      "outputs": []
    },
    {
      "cell_type": "markdown",
      "source": [
        "### `def __init__(self)`"
      ],
      "metadata": {
        "id": "KsSq0G_l9Zeb"
      }
    },
    {
      "cell_type": "code",
      "source": [
        "class Name:\n",
        "\n",
        "    def __init__(self, name):\n",
        "        self.name = name\n",
        "\n",
        "name_obj = Name(\"John\")\n",
        "print(name_obj.name)"
      ],
      "metadata": {
        "colab": {
          "base_uri": "https://localhost:8080/"
        },
        "id": "1gu6bbOY9CBc",
        "outputId": "8767e55d-f766-423b-9dc1-3f891fc31c9b"
      },
      "execution_count": 2,
      "outputs": [
        {
          "output_type": "stream",
          "name": "stdout",
          "text": [
            "John\n"
          ]
        }
      ]
    },
    {
      "cell_type": "markdown",
      "source": [
        "### `def __call__(self):`"
      ],
      "metadata": {
        "id": "1DjElO6a9i5Y"
      }
    },
    {
      "cell_type": "code",
      "source": [
        "class Name:\n",
        "\n",
        "    def __init__(self, name):\n",
        "        self.name = name\n",
        "\n",
        "    def __call__(self):\n",
        "        return 42\n",
        "\n",
        "name_obj = Name(\"John\")\n",
        "name_obj()"
      ],
      "metadata": {
        "colab": {
          "base_uri": "https://localhost:8080/"
        },
        "id": "vkoAgBPJ9UbS",
        "outputId": "517a4fd0-13c1-4336-fc28-fd34f56327c1"
      },
      "execution_count": 4,
      "outputs": [
        {
          "output_type": "execute_result",
          "data": {
            "text/plain": [
              "42"
            ]
          },
          "metadata": {},
          "execution_count": 4
        }
      ]
    },
    {
      "cell_type": "markdown",
      "source": [
        "### `def __str__(self):`"
      ],
      "metadata": {
        "id": "N_J-uFPA9wcx"
      }
    },
    {
      "cell_type": "code",
      "source": [
        "class Name:\n",
        "\n",
        "    def __init__(self, name):\n",
        "        self.name = name\n",
        "\n",
        "    def __call__(self):\n",
        "        return 42\n",
        "\n",
        "    def __str__(self):\n",
        "        return self.name\n",
        "\n",
        "name_obj = Name(\"John\")\n",
        "print(name_obj)"
      ],
      "metadata": {
        "colab": {
          "base_uri": "https://localhost:8080/"
        },
        "id": "gLQdAnpL90-q",
        "outputId": "3e4e2397-c056-48c9-8ab1-dbda72092f79"
      },
      "execution_count": 5,
      "outputs": [
        {
          "output_type": "stream",
          "name": "stdout",
          "text": [
            "John\n"
          ]
        }
      ]
    },
    {
      "cell_type": "markdown",
      "source": [
        "### `def __repr__(self):`"
      ],
      "metadata": {
        "id": "eCdu9yOk-Ey4"
      }
    },
    {
      "cell_type": "code",
      "source": [
        "class Name:\n",
        "\n",
        "    def __init__(self, name):\n",
        "        self.name = name\n",
        "\n",
        "    def __call__(self):\n",
        "        return 42\n",
        "\n",
        "    def __str__(self):\n",
        "        return self.name\n",
        "    \n",
        "    def __repr__(self):\n",
        "        return self.__str__()\n",
        "\n",
        "name_obj = Name(\"John\")\n",
        "name_obj"
      ],
      "metadata": {
        "colab": {
          "base_uri": "https://localhost:8080/"
        },
        "id": "4YsNcSOM-Axz",
        "outputId": "6b89422c-1cab-4666-eaa0-ea91af539d17"
      },
      "execution_count": 6,
      "outputs": [
        {
          "output_type": "execute_result",
          "data": {
            "text/plain": [
              "John"
            ]
          },
          "metadata": {},
          "execution_count": 6
        }
      ]
    },
    {
      "cell_type": "code",
      "source": [
        "print(name_obj)\n",
        "str(name_obj)"
      ],
      "metadata": {
        "colab": {
          "base_uri": "https://localhost:8080/",
          "height": 52
        },
        "id": "eRidCYEO-R5_",
        "outputId": "0ae08d0d-24e6-4b19-cc0a-e03e07aa31f3"
      },
      "execution_count": 7,
      "outputs": [
        {
          "output_type": "stream",
          "name": "stdout",
          "text": [
            "John\n"
          ]
        },
        {
          "output_type": "execute_result",
          "data": {
            "text/plain": [
              "'John'"
            ],
            "application/vnd.google.colaboratory.intrinsic+json": {
              "type": "string"
            }
          },
          "metadata": {},
          "execution_count": 7
        }
      ]
    },
    {
      "cell_type": "code",
      "source": [
        "repr(name_obj)"
      ],
      "metadata": {
        "colab": {
          "base_uri": "https://localhost:8080/",
          "height": 35
        },
        "id": "voWhy28--Yhv",
        "outputId": "3a8cdd89-4942-4f63-914a-8693208efa46"
      },
      "execution_count": 8,
      "outputs": [
        {
          "output_type": "execute_result",
          "data": {
            "text/plain": [
              "'John'"
            ],
            "application/vnd.google.colaboratory.intrinsic+json": {
              "type": "string"
            }
          },
          "metadata": {},
          "execution_count": 8
        }
      ]
    },
    {
      "cell_type": "markdown",
      "source": [
        "### `def __int__(self):`"
      ],
      "metadata": {
        "id": "GrS_z5Sq-ZlP"
      }
    },
    {
      "cell_type": "code",
      "source": [
        "class Name:\n",
        "\n",
        "    def __init__(self, name):\n",
        "        self.name = name\n",
        "\n",
        "    def __call__(self):\n",
        "        return 42\n",
        "\n",
        "    def __str__(self):\n",
        "        return self.name\n",
        "\n",
        "    def __repr__(self):\n",
        "        return self.__str__()\n",
        "\n",
        "    def __int__(self):\n",
        "        return 42\n",
        "\n",
        "\n",
        "name_obj = Name(\"John\")\n",
        "int(name_obj)"
      ],
      "metadata": {
        "colab": {
          "base_uri": "https://localhost:8080/"
        },
        "id": "qPjnbKPY_AOY",
        "outputId": "a2c8cf14-2138-4b82-8029-65eb4b53f4f1"
      },
      "execution_count": 9,
      "outputs": [
        {
          "output_type": "execute_result",
          "data": {
            "text/plain": [
              "42"
            ]
          },
          "metadata": {},
          "execution_count": 9
        }
      ]
    },
    {
      "cell_type": "markdown",
      "source": [
        "### New Class"
      ],
      "metadata": {
        "id": "vyPIVWhF_ZUJ"
      }
    },
    {
      "cell_type": "code",
      "source": [
        "class Printable:\n",
        "    class_var = 42\n",
        "\n",
        "    def __str__(self):\n",
        "        return f\"The answer {self.class_var}\"\n",
        "\n",
        "\n",
        "print(Printable())"
      ],
      "metadata": {
        "colab": {
          "base_uri": "https://localhost:8080/"
        },
        "id": "4Re_X043_Mpq",
        "outputId": "cf31a389-e9d5-4880-ab8a-bdc7a427476b"
      },
      "execution_count": 10,
      "outputs": [
        {
          "output_type": "stream",
          "name": "stdout",
          "text": [
            "The answer 42\n"
          ]
        }
      ]
    },
    {
      "cell_type": "markdown",
      "source": [
        "### Inheritance"
      ],
      "metadata": {
        "id": "Gv3eo5P9_ylh"
      }
    },
    {
      "cell_type": "code",
      "source": [
        "class StarFighter:\n",
        "\n",
        "    def fire(self):\n",
        "        return 10\n",
        "\n",
        "class IonCanon:\n",
        "\n",
        "    def fire(self):\n",
        "        return 100\n",
        "\n",
        "#### -------------------------------------------------     MULTIPLE INHERITENCE IS NOT GOOD, EVER!    -----------------------------\n",
        "class JunkYardShip(StarFighter, IonCanon): # Don't do this...\n",
        "    \"\"\" I have a bad feeling about this. \"\"\"\n",
        "    pass\n",
        "#-----------------------------------------------------------------------------------------------------------------------------------------------\n",
        "\n",
        "class StarDestroyer(StarFighter): # Do this instead...\n",
        "    \"\"\" This class uses composition to gain\n",
        "    the full fire power of the IonCanon. \"\"\"\n",
        "    primary_weapon = IonCanon()\n",
        "\n",
        "    def fire(self):\n",
        "        return self.primary_weapon.fire()\n",
        "\n",
        "\n",
        "fighter = StarFighter()\n",
        "print(f\"StarFighter: {fighter.fire()}\")\n",
        "\n",
        "junk_ship = JunkYardShip()\n",
        "print(f\"JunkYardShip: {junk_ship.fire()}\")\n",
        "\n",
        "destroyer = StarDestroyer()\n",
        "print(f\"StarDestroyer: {destroyer.fire()}\")"
      ],
      "metadata": {
        "colab": {
          "base_uri": "https://localhost:8080/"
        },
        "id": "BfgykiZK_75E",
        "outputId": "066f384e-6817-45e4-92cd-3b5bb40d73c9"
      },
      "execution_count": 11,
      "outputs": [
        {
          "output_type": "stream",
          "name": "stdout",
          "text": [
            "StarFighter: 10\n",
            "JunkYardShip: 10\n",
            "StarDestroyer: 100\n"
          ]
        }
      ]
    },
    {
      "cell_type": "markdown",
      "source": [
        "### Good Inheritence"
      ],
      "metadata": {
        "id": "dzOAsL1uAxSw"
      }
    },
    {
      "cell_type": "code",
      "source": [
        "# Don't instantiate the Bass Class\n",
        "class Character:\n",
        "    \"\"\"Base Class\"\"\"\n",
        "    health = 10\n",
        "\n",
        "class Wizard(Character):\n",
        "    \"\"\"Derived Class\"\"\"\n",
        "    mana = 20\n",
        "\n",
        "class Fighter(Character):\n",
        "    \"\"\"Derived Class\"\"\"\n",
        "    power = 15\n",
        "\n",
        "\n",
        "wizard_object = Wizard()\n",
        "print(\"Wizard Health: \", wizard_object.health)\n",
        "print(\"Wizard Mana: \", wizard_object.mana)\n",
        "print('\\n')\n",
        "fighter_object = Fighter()\n",
        "print(\"Fighter Health: \", fighter_object.health)\n",
        "print(\"Fighter Power: \", fighter_object.power)\n"
      ],
      "metadata": {
        "colab": {
          "base_uri": "https://localhost:8080/"
        },
        "id": "SO0B206uBKLU",
        "outputId": "b76991fd-3f23-4e01-f719-abcfd50913b5"
      },
      "execution_count": 13,
      "outputs": [
        {
          "output_type": "stream",
          "name": "stdout",
          "text": [
            "Wizard Health:  10\n",
            "Wizard Mana:  20\n",
            "\n",
            "\n",
            "Fighter Health:  10\n",
            "Fighter Power:  15\n"
          ]
        }
      ]
    },
    {
      "cell_type": "markdown",
      "source": [
        "### Polymorphism:\n",
        "* *the idea that you can have two classes that have the same fields, the same methods but they're different in certain ways. But, the poly part is that you can exchange one for the other without disrupting any other part of your application. Inheritence is one way to get Polymorphism.*"
      ],
      "metadata": {
        "id": "DPllic5bBURC"
      }
    },
    {
      "cell_type": "markdown",
      "source": [
        "#### Monsters Class"
      ],
      "metadata": {
        "id": "PYUTMU03CYYy"
      }
    },
    {
      "cell_type": "code",
      "source": [
        "import random\n",
        "\n",
        "def dice(rolls, sides):\n",
        "    return sum(random.randint(1, sides) for _ in range(rolls))\n",
        "\n",
        "class Monster:\n",
        "    creature_type = \"Monster\"\n",
        "    hit_dice = 8\n",
        "    damage_dice = 6\n",
        "    names = (\"Goblin\", \"Troll\", \"Giant\", \"Zombie\", \"Ghoul\", \"Vampire\")\n",
        "\n",
        "    def __init__(self, level=1):\n",
        "        self.level = level\n",
        "        self.name = self.random_name()\n",
        "        self.total_health = dice(self.level, self.hit_dice)\n",
        "        self.current_health = self.total_health \n",
        "\n",
        "    def take_damage(self, amount):\n",
        "        print(f\"{self.name} takes {amount} damage!\")\n",
        "        self.current_health -= amount\n",
        "\n",
        "    def deal_damage(self):\n",
        "        return dice(self.level, self.damage_dice)\n",
        "\n",
        "    def __str__(self):\n",
        "        output = (\n",
        "            f\"{self.creature_type}: {self.name}\",\n",
        "            f\"Level: {self.level}\",\n",
        "            f\"Health: {self.current_health}/{self.total_health}\",\n",
        "        )\n",
        "        return \"\\n\".join(output)\n",
        "\n",
        "    def random_name(self):\n",
        "        return random.choice(self.names)\n",
        "\n",
        "class Boss(Monster):\n",
        "    creature_type = \"Boss\"\n",
        "    hit_dice = 12\n",
        "    damage_dice = 8\n",
        "    names = (\n",
        "        \"The Loch Ness Monster\", \"Godzilla\", \"Nero the Sunblade\",\n",
        "        \"The Spider Queen\", \"Palladia Morris\", \"The Blood Countess\",\n",
        "    )"
      ],
      "metadata": {
        "id": "b_WzN_26CcNl"
      },
      "execution_count": 14,
      "outputs": []
    },
    {
      "cell_type": "code",
      "source": [
        "some_monster = Monster(10)\n",
        "print(some_monster, '\\n')\n",
        "\n",
        "dungeon_boss = Boss(20)\n",
        "print(dungeon_boss, '\\n')"
      ],
      "metadata": {
        "colab": {
          "base_uri": "https://localhost:8080/"
        },
        "id": "Opodu1t-D9sU",
        "outputId": "f76bd9fd-a469-4076-89d7-8c9930d0ef47"
      },
      "execution_count": 15,
      "outputs": [
        {
          "output_type": "stream",
          "name": "stdout",
          "text": [
            "Monster: Ghoul\n",
            "Level: 10\n",
            "Health: 40/40 \n",
            "\n",
            "Boss: The Loch Ness Monster\n",
            "Level: 20\n",
            "Health: 143/143 \n",
            "\n"
          ]
        }
      ]
    },
    {
      "cell_type": "markdown",
      "source": [
        "### Class Scope"
      ],
      "metadata": {
        "id": "kX-8NMAtEFKl"
      }
    },
    {
      "cell_type": "code",
      "source": [
        "class ClassScope:\n",
        "    # self does not exist yet.\n",
        "    class_variable = \"class_variable\"\n",
        "\n",
        "    def __init__(self):\n",
        "        \"\"\"\n",
        "        Local scope inside a mothod is just like function scope.\n",
        "        However, methods also have access to class scope and instance \n",
        "        scope through 'self'. \"\"\"\n",
        "\n",
        "        self.instance_variable = \"instance_variable\"\n",
        "    \n",
        "    def instance_method(self):\n",
        "        \"\"\" this is a regular Instance Method.\n",
        "        We have access to everything from here.\n",
        "        Don't over think it, most of the time this is what\n",
        "        you want. While it is common to modify instance variables\n",
        "        here, it is not wise to declare them here. Use the \n",
        "        '__init__()' method for that. Use instance methods, like \n",
        "        this one, to read and update instance variables.\"\"\"\n",
        "\n",
        "        return self.instance_variable + \": via instance method\"\n",
        "\n",
        "    @classmethod\n",
        "    def class_method(cls):\n",
        "        \"\"\" this is a Class Method!\n",
        "        It's more restricted than regular methods. INstead of 'self'\n",
        "        parameter we use the 'cls' parameter. This is a convention to \n",
        "        indicate that we expect this method to live in a class that might\n",
        "        ,possible, never be instantiated. This is the whole point of having \n",
        "        class methods. This ability comes at a cost: everything we access\n",
        "        from this scope must live in the class itself, not an instance. ONly\n",
        "        static methods, class methods and class variables are accessible here. \"\"\"\n",
        "\n",
        "        return cls.class_variable + \": via class method\"\n",
        "\n",
        "    @staticmethod\n",
        "    def selfless_method():\n",
        "        \"\"\" This is a Static Method.\n",
        "        It's way more restricted than regular methods.\n",
        "        Static methods have no concept of 'self' or 'cls' and cannot\n",
        "        access anything... This is a prime candidate to refactor \n",
        "        into a function. \"\"\"\n",
        "\n",
        "        local_variable = \"local_variable\"\n",
        "        return local_variable + \": via static method\""
      ],
      "metadata": {
        "id": "64OL91IjEMLK"
      },
      "execution_count": 16,
      "outputs": []
    },
    {
      "cell_type": "code",
      "source": [
        "# Class Scope\n",
        "print(\"From the Class:\")\n",
        "print(ClassScope.class_variable)\n",
        "print(ClassScope.class_method())\n",
        "print(ClassScope.selfless_method())\n",
        "print('\\n\\n')\n",
        "# Instance Scope\n",
        "print(\"From the Instance:\")\n",
        "instance_object = ClassScope()\n",
        "print(instance_object.instance_variable)\n",
        "print(instance_object.instance_method())\n",
        "print(instance_object.class_variable)\n",
        "print(instance_object.class_method())\n",
        "print(instance_object.selfless_method())"
      ],
      "metadata": {
        "colab": {
          "base_uri": "https://localhost:8080/"
        },
        "id": "_3XmGI5THcS5",
        "outputId": "1dabe77a-0ff3-451c-f0c0-85b54944a8d7"
      },
      "execution_count": 17,
      "outputs": [
        {
          "output_type": "stream",
          "name": "stdout",
          "text": [
            "From the Class:\n",
            "class_variable\n",
            "class_variable: via class method\n",
            "local_variable: via static method\n",
            "\n",
            "\n",
            "\n",
            "From the Instance:\n",
            "instance_variable\n",
            "instance_variable: via instance method\n",
            "class_variable\n",
            "class_variable: via class method\n",
            "local_variable: via static method\n"
          ]
        }
      ]
    },
    {
      "cell_type": "markdown",
      "source": [
        "### `super().__init__()`"
      ],
      "metadata": {
        "id": "oSv3IterIMWL"
      }
    },
    {
      "cell_type": "code",
      "source": [
        "class Player:\n",
        "\n",
        "    def __init__(self, name, level):\n",
        "        self.Name = name\n",
        "        self.Class = 'Villager'\n",
        "        self.Level = min(max(1, level), 20) # Min: 1, Max: 20\n",
        "        self.Health = self.Level * 8\n",
        "\n",
        "    def __str__(self):\n",
        "        _fields = (f\"{k}: {v}\" for k, v in self.__dict__.items())\n",
        "        return '\\n '.join(_fields) + '\\n'\n",
        "\n",
        "class Wizard(Player):\n",
        "\n",
        "    def __init__(self, name, level, school):\n",
        "        super().__init__(name, level)\n",
        "        self.Class = f\"Wizard of {school}\"\n",
        "        self.Mana = self.Level * 10\n",
        "\n",
        "\n",
        "print(Player(\"George\", 1))\n",
        "print(Wizard(\"Jim Darkmagic\", level=10, school=\"Illusion\"))"
      ],
      "metadata": {
        "id": "geHqyaG9Hc5M"
      },
      "execution_count": null,
      "outputs": []
    },
    {
      "cell_type": "code",
      "source": [
        "class Foo(type):\n",
        "    def __new__(cls, name, bases, clsdict):\n",
        "        print(f\"A New {cls.__qualname__} named {name}!\")\n",
        "        return super().__new__(cls, name, bases, clsdict)\n",
        "\n",
        "class Bar(metaclass=Foo):\n",
        "    '''if foo must be declared as a metaclass \"metaclass=Foo\"\n",
        "    This will not work the same if we just inherit from Foo. '''\n",
        "    pass\n",
        "\n",
        "class Baz(Bar):\n",
        "    \"\"\" Now we can inherit from Bar and get the same behavior. \"\"\"\n",
        "    pass\n",
        "\n",
        "b = Bar()\n",
        "z = Baz()"
      ],
      "metadata": {
        "id": "-FUz3jR_HoSF"
      },
      "execution_count": null,
      "outputs": []
    },
    {
      "cell_type": "markdown",
      "source": [
        "\n",
        "\n",
        "---\n",
        "\n",
        "\n",
        "\n",
        "---\n",
        "\n",
        "\n",
        "\n",
        "---\n",
        "\n",
        "\n",
        "\n",
        "---\n",
        "\n",
        "\n",
        "\n",
        "---\n",
        "\n",
        "\n",
        "\n",
        "---\n",
        "\n"
      ],
      "metadata": {
        "id": "nNzQ5vLdJ5q5"
      }
    },
    {
      "cell_type": "markdown",
      "source": [
        "## How Kanye West Taught Object Oriented Programming and the Importance of Naming Conventions in Python."
      ],
      "metadata": {
        "id": "eNSqn_VHH2kx"
      }
    },
    {
      "cell_type": "code",
      "execution_count": null,
      "metadata": {
        "colab": {
          "base_uri": "https://localhost:8080/"
        },
        "id": "-9uwXr8pB0o-",
        "outputId": "412bdafc-e838-4975-9ebd-d129139f4e3a"
      },
      "outputs": [
        {
          "output_type": "stream",
          "name": "stdout",
          "text": [
            "dylan\n",
            "1.0\n",
            "1.0\n"
          ]
        }
      ],
      "source": [
        "class Objectivistic:\n",
        "    def __init__(kanyewest, name, grades):\n",
        "        kanyewest.flume = name\n",
        "        kanyewest.malkmus = grades\n",
        "\n",
        "    def average_grade(kanyewest):\n",
        "        return sum(kanyewest.malkmus) / len(kanyewest.malkmus)\n",
        "\n",
        "royal = Objectivistic(\"dylan\", (100, 100, 88, 99, 33))\n",
        "spektor = Objectivistic(\"simon\", (1, 1, 1, 1, 1))\n",
        "\n",
        "print(royal.flume)\n",
        "print(spektor.average_grade())\n",
        "## the same as ...\n",
        "print(Objectivistic.average_grade(spektor))"
      ]
    },
    {
      "cell_type": "code",
      "source": [
        "class Objectivistic:\n",
        "\n",
        "    def __init__(self, name, grades):\n",
        "        self.name = name\n",
        "        self.grades = grades\n",
        "\n",
        "    def average_grade(self):\n",
        "        return sum(self.grades) / len(self.grades)\n",
        "\n",
        "royal = Objectivistic(\"Dylan\", (100, 100, 44, 66, 88, 94))\n",
        "specs = Objectivistic(\"Simon\", (1, 2, 3, 4, 5))\n",
        "\n",
        "print(royal.name)\n",
        "print(specs.average_grade())\n",
        "## same as ...\n",
        "print(Objectivistic.average_grade(specs))"
      ],
      "metadata": {
        "id": "OirDbkDsCB6d",
        "colab": {
          "base_uri": "https://localhost:8080/"
        },
        "outputId": "f774615f-bb82-4a52-f49a-2ec8a5f4cae8"
      },
      "execution_count": null,
      "outputs": [
        {
          "output_type": "stream",
          "name": "stdout",
          "text": [
            "Dylan\n",
            "3.0\n",
            "3.0\n"
          ]
        }
      ]
    },
    {
      "cell_type": "markdown",
      "source": [
        "\n",
        "\n",
        "---\n",
        "\n",
        "\n",
        "\n",
        "---\n",
        "\n",
        "\n",
        "\n",
        "---\n",
        "\n",
        "\n",
        "\n",
        "---\n",
        "\n",
        "\n",
        "\n",
        "---\n",
        "\n",
        "\n",
        "\n",
        "---\n",
        "\n"
      ],
      "metadata": {
        "id": "q4r7Te5_J8cO"
      }
    },
    {
      "cell_type": "markdown",
      "source": [
        "### More on Classes"
      ],
      "metadata": {
        "id": "beIk3qSb9QkC"
      }
    },
    {
      "cell_type": "code",
      "source": [
        "class Employee:\n",
        "    \n",
        "    def __init__(self, first, last, pay):\n",
        "        self.first = first\n",
        "        self.last = last\n",
        "        self.pay = pay\n",
        "        self.email = first + \".\" + last + \"@company.com\"\n",
        "\n",
        "    def fullname(self):\n",
        "        return f\"{self.first} {self.last}\"\n",
        "\n",
        "emp_1 = Employee(\"Steven\", \"Hastings\", 50000)\n",
        "emp_2 = Employee(\"Test\", \"User\", 60000)\n"
      ],
      "metadata": {
        "id": "yxFZzohZKDAQ"
      },
      "execution_count": 23,
      "outputs": []
    },
    {
      "cell_type": "code",
      "source": [
        "print(emp_1.email)\n",
        "print(emp_2.email)\n",
        "print(emp_2.fullname())"
      ],
      "metadata": {
        "colab": {
          "base_uri": "https://localhost:8080/"
        },
        "id": "70a_7lqHLDSI",
        "outputId": "837350d5-1088-4b5d-9eda-f2d5feabf449"
      },
      "execution_count": 24,
      "outputs": [
        {
          "output_type": "stream",
          "name": "stdout",
          "text": [
            "Steven.Hastings@company.com\n",
            "Test.User@company.com\n",
            "Test User\n"
          ]
        }
      ]
    },
    {
      "cell_type": "code",
      "source": [
        "emp_1.fullname()"
      ],
      "metadata": {
        "colab": {
          "base_uri": "https://localhost:8080/",
          "height": 35
        },
        "id": "48ibX1pVLFnx",
        "outputId": "fdde34d1-ce83-410c-e76b-39bbc6227f64"
      },
      "execution_count": 25,
      "outputs": [
        {
          "output_type": "execute_result",
          "data": {
            "text/plain": [
              "'Steven Hastings'"
            ],
            "application/vnd.google.colaboratory.intrinsic+json": {
              "type": "string"
            }
          },
          "metadata": {},
          "execution_count": 25
        }
      ]
    },
    {
      "cell_type": "code",
      "source": [
        "print(Employee.fullname(emp_1))"
      ],
      "metadata": {
        "colab": {
          "base_uri": "https://localhost:8080/"
        },
        "id": "WxbE46XxLii5",
        "outputId": "4c81ff58-6190-456b-ab39-dc8c71612729"
      },
      "execution_count": 26,
      "outputs": [
        {
          "output_type": "stream",
          "name": "stdout",
          "text": [
            "Steven Hastings\n"
          ]
        }
      ]
    },
    {
      "cell_type": "markdown",
      "source": [
        "### More on Class Variables"
      ],
      "metadata": {
        "id": "MvnjLPTgLwea"
      }
    },
    {
      "cell_type": "code",
      "source": [
        "class Employee:\n",
        "    # class variables\n",
        "    num_of_emps = 0\n",
        "    raise_amount = 1.04\n",
        "\n",
        "    def __init__(self, first, last, pay):\n",
        "        self.first = first\n",
        "        self.last = last\n",
        "        self.pay = pay\n",
        "        self.email = first + \".\" + last + \"@company.com\"\n",
        "\n",
        "        Employee.num_of_emps += 1\n",
        "\n",
        "    def fullname(self):\n",
        "        return f\"{self.first} {self.last}\"\n",
        "\n",
        "    def apply_raise(self):\n",
        "        self.pay = int(self.pay * self.raise_amount)\n",
        "        \n",
        "emp_1 = Employee(\"Steven\", \"Hastings\", 50000)\n",
        "emp_2 = Employee(\"Test\", \"User\", 60000)"
      ],
      "metadata": {
        "id": "ig8edU1fLk6E"
      },
      "execution_count": 36,
      "outputs": []
    },
    {
      "cell_type": "code",
      "source": [
        "print(emp_1.pay)\n",
        "emp_1.apply_raise()"
      ],
      "metadata": {
        "colab": {
          "base_uri": "https://localhost:8080/"
        },
        "id": "0rn-0_i9L6eD",
        "outputId": "5146fb00-37fe-42c5-85d3-75c947e40318"
      },
      "execution_count": 31,
      "outputs": [
        {
          "output_type": "stream",
          "name": "stdout",
          "text": [
            "50000\n"
          ]
        }
      ]
    },
    {
      "cell_type": "code",
      "source": [
        "print(emp_1.pay)\n",
        "print(Employee.raise_amount)\n",
        "print(emp_1.raise_amount)\n",
        "print(emp_2.raise_amount)\n",
        "print(emp_1.__dict__)\n",
        "print(Employee.__dict__)\n",
        "print(Employee.num_of_emps)"
      ],
      "metadata": {
        "colab": {
          "base_uri": "https://localhost:8080/"
        },
        "id": "vxp7TyBFL-P7",
        "outputId": "06702b3a-ddea-401f-967f-63ffebabe40f"
      },
      "execution_count": 38,
      "outputs": [
        {
          "output_type": "stream",
          "name": "stdout",
          "text": [
            "50000\n",
            "1.04\n",
            "1.04\n",
            "1.04\n",
            "{'first': 'Steven', 'last': 'Hastings', 'pay': 50000, 'email': 'Steven.Hastings@company.com'}\n",
            "{'__module__': '__main__', 'num_of_emps': 2, 'raise_amount': 1.04, '__init__': <function Employee.__init__ at 0x7f8088263200>, 'fullname': <function Employee.fullname at 0x7f8088263b90>, 'apply_raise': <function Employee.apply_raise at 0x7f8088263320>, '__dict__': <attribute '__dict__' of 'Employee' objects>, '__weakref__': <attribute '__weakref__' of 'Employee' objects>, '__doc__': None}\n",
            "2\n"
          ]
        }
      ]
    },
    {
      "cell_type": "markdown",
      "source": [
        "### More on Inheritence"
      ],
      "metadata": {
        "id": "L7iXO9WrM4sI"
      }
    },
    {
      "cell_type": "code",
      "source": [
        "class Employee:\n",
        "    # class variables\n",
        "    raise_amount = 1.04\n",
        "\n",
        "    def __init__(self, first, last, pay):\n",
        "        self.first = first\n",
        "        self.last = last\n",
        "        self.pay = pay\n",
        "        self.email = first + \".\" + last + \"@company.com\"\n",
        "\n",
        "\n",
        "    def fullname(self):\n",
        "        return f\"{self.first} {self.last}\"\n",
        "\n",
        "    def apply_raise(self):\n",
        "        self.pay = int(self.pay * self.raise_amount)\n",
        "\n",
        "class Developer(Employee):\n",
        "    raise_amount = 1.10\n",
        "\n",
        "    def __init__(self, first, last, pay, prog_lang):\n",
        "        super().__init__(first, last, pay)\n",
        "        self.prog_lang = prog_lang\n",
        "\n",
        "class Manager(Employee):\n",
        "\n",
        "    def __init__(self, first, last, pay, employees=None):\n",
        "        super().__init__(first, last, pay)\n",
        "        if employees is None:\n",
        "            self.employees = []\n",
        "        else:\n",
        "            self.employees = employees\n",
        "\n",
        "    def add_emp(self, emp):\n",
        "        if emp not in self.employees:\n",
        "            self.employees.append(emp)\n",
        "\n",
        "    def remove_emp(self, emp):\n",
        "        if emp in self.employees:\n",
        "            self.employees.remove(emp)\n",
        "\n",
        "    def print_emps(self):\n",
        "        for emp in self.employees:\n",
        "            print('-->', emp.fullname())\n",
        "\n",
        "dev_1 = Developer('Steven', 'Hastings', 50000, 'Python')\n",
        "dev_2 = Developer('Test', 'Employee', 60000, 'Julia')\n",
        "        \n",
        "emp_1 = Employee(\"Steven\", \"Hastings\", 50000)\n",
        "emp_2 = Employee(\"Test\", \"User\", 60000)\n",
        "\n",
        "mgr_1 = Manager('Sue', 'Smith', 90000, [dev_1])"
      ],
      "metadata": {
        "id": "zxur4i8-NDmU"
      },
      "execution_count": 51,
      "outputs": []
    },
    {
      "cell_type": "code",
      "source": [
        "print(dev_1.pay)\n",
        "dev_1.apply_raise()\n",
        "print(dev_1.pay)\n",
        "print(dev_1.prog_lang)\n",
        "print(dev_2.prog_lang)\n",
        "\n",
        "print(mgr_1.email)\n",
        "mgr_1.add_emp(dev_2)\n",
        "mgr_1.remove_emp(dev_1)\n",
        "mgr_1.print_emps()"
      ],
      "metadata": {
        "colab": {
          "base_uri": "https://localhost:8080/"
        },
        "id": "fFB-pZ09NiRw",
        "outputId": "21ebcc13-61a4-4678-8ec3-090d38ea4b38"
      },
      "execution_count": 52,
      "outputs": [
        {
          "output_type": "stream",
          "name": "stdout",
          "text": [
            "50000\n",
            "55000\n",
            "Python\n",
            "Julia\n",
            "Sue.Smith@company.com\n",
            "--> Test Employee\n"
          ]
        }
      ]
    },
    {
      "cell_type": "code",
      "source": [
        "print(isinstance(mgr_1, Manager))\n",
        "print(isinstance(mgr_1, Employee))\n",
        "print(isinstance(mgr_1, Developer))\n",
        "print('\\n')\n",
        "print(issubclass(Manager, Developer))\n",
        "print(issubclass(Manager, Employee))\n",
        "print(issubclass(Manager, Manager))"
      ],
      "metadata": {
        "colab": {
          "base_uri": "https://localhost:8080/"
        },
        "id": "JikN6XR5Pbu-",
        "outputId": "0c2ff109-ee31-4df7-b573-240f857d5ce8"
      },
      "execution_count": 57,
      "outputs": [
        {
          "output_type": "stream",
          "name": "stdout",
          "text": [
            "True\n",
            "True\n",
            "False\n",
            "\n",
            "\n",
            "False\n",
            "True\n",
            "True\n"
          ]
        }
      ]
    },
    {
      "cell_type": "code",
      "source": [
        "print(help(Developer))"
      ],
      "metadata": {
        "colab": {
          "base_uri": "https://localhost:8080/"
        },
        "id": "0xtikIaQNbWm",
        "outputId": "ee60e045-17e8-4cac-901c-117f1ddf834f"
      },
      "execution_count": 42,
      "outputs": [
        {
          "output_type": "stream",
          "name": "stdout",
          "text": [
            "Help on class Developer in module __main__:\n",
            "\n",
            "class Developer(Employee)\n",
            " |  Developer(first, last, pay)\n",
            " |  \n",
            " |  Method resolution order:\n",
            " |      Developer\n",
            " |      Employee\n",
            " |      builtins.object\n",
            " |  \n",
            " |  Methods inherited from Employee:\n",
            " |  \n",
            " |  __init__(self, first, last, pay)\n",
            " |      Initialize self.  See help(type(self)) for accurate signature.\n",
            " |  \n",
            " |  apply_raise(self)\n",
            " |  \n",
            " |  fullname(self)\n",
            " |  \n",
            " |  ----------------------------------------------------------------------\n",
            " |  Data descriptors inherited from Employee:\n",
            " |  \n",
            " |  __dict__\n",
            " |      dictionary for instance variables (if defined)\n",
            " |  \n",
            " |  __weakref__\n",
            " |      list of weak references to the object (if defined)\n",
            " |  \n",
            " |  ----------------------------------------------------------------------\n",
            " |  Data and other attributes inherited from Employee:\n",
            " |  \n",
            " |  raise_amount = 1.04\n",
            "\n",
            "None\n"
          ]
        }
      ]
    },
    {
      "cell_type": "markdown",
      "source": [
        "### Special Methods. . . *Magic Methods*. . . *Dunder Methods*"
      ],
      "metadata": {
        "id": "YO_V9HAeNccy"
      }
    },
    {
      "cell_type": "code",
      "source": [
        "class Employee:\n",
        "    # class variables\n",
        "    raise_amount = 1.04\n",
        "\n",
        "    def __init__(self, first, last, pay):\n",
        "        self.first = first\n",
        "        self.last = last\n",
        "        self.pay = pay\n",
        "        self.email = first + \".\" + last + \"@company.com\"\n",
        "\n",
        "\n",
        "    def fullname(self):\n",
        "        return f\"{self.first} {self.last}\"\n",
        "\n",
        "    def apply_raise(self):\n",
        "        self.pay = int(self.pay * self.raise_amount)\n",
        "\n",
        "    def __repr__(self):\n",
        "        return \"Employee('{}', '{}', {})\".format(self.first, self.last, self.pay)\n",
        "\n",
        "    def __str__(self):\n",
        "        return f\"{self.fullname()} - {self.email}\"\n",
        "\n",
        "    def __add__(self, other):\n",
        "        return self.pay + other.pay\n",
        "\n",
        "    def __len__(self):\n",
        "        return len(self.fullname())\n",
        "\n",
        "emp1 = Employee('steve', 'hastings', 50000)\n",
        "emp2 = Employee('test', 'employee', 60000)"
      ],
      "metadata": {
        "id": "XMw4oYDSQHHp"
      },
      "execution_count": 69,
      "outputs": []
    },
    {
      "cell_type": "code",
      "source": [
        "print(emp1)\n",
        "print(emp1.__repr__())\n",
        "print(emp1.__str__())\n",
        "print(emp1 + emp2)\n",
        "print(len('test'))\n",
        "print('test'.__len__())\n",
        "print(len(emp1))"
      ],
      "metadata": {
        "colab": {
          "base_uri": "https://localhost:8080/"
        },
        "id": "AMKGew6wQuRg",
        "outputId": "a8a57891-71f9-4531-8ce5-3619ba089530"
      },
      "execution_count": 70,
      "outputs": [
        {
          "output_type": "stream",
          "name": "stdout",
          "text": [
            "steve hastings - steve.hastings@company.com\n",
            "Employee('steve', 'hastings', 50000)\n",
            "steve hastings - steve.hastings@company.com\n",
            "110000\n",
            "4\n",
            "4\n",
            "14\n"
          ]
        }
      ]
    },
    {
      "cell_type": "code",
      "source": [
        "print(int.__add__(1,2))"
      ],
      "metadata": {
        "colab": {
          "base_uri": "https://localhost:8080/"
        },
        "id": "7Yb8iuPeQ4g6",
        "outputId": "0944aeb1-599c-463e-95c8-05b541556951"
      },
      "execution_count": 64,
      "outputs": [
        {
          "output_type": "stream",
          "name": "stdout",
          "text": [
            "3\n"
          ]
        }
      ]
    },
    {
      "cell_type": "code",
      "source": [
        "print(str.__add__('ste','ven'))"
      ],
      "metadata": {
        "colab": {
          "base_uri": "https://localhost:8080/"
        },
        "id": "VIJNqbP2RTzB",
        "outputId": "1222385f-5d33-4e7e-d177-abd4322ef22e"
      },
      "execution_count": 65,
      "outputs": [
        {
          "output_type": "stream",
          "name": "stdout",
          "text": [
            "steven\n"
          ]
        }
      ]
    },
    {
      "cell_type": "markdown",
      "source": [
        "### Property Decorators"
      ],
      "metadata": {
        "id": "L4J4PqzoRX73"
      }
    },
    {
      "cell_type": "code",
      "source": [
        "class Employee:\n",
        "    # class variables\n",
        "    raise_amount = 1.04\n",
        "\n",
        "    def __init__(self, first, last):\n",
        "        self.first = first\n",
        "        self.last = last\n",
        "    \n",
        "    @property\n",
        "    def email(self):\n",
        "        return f\"{self.first}.{self.last}@email.com\"\n",
        "\n",
        "    @property \n",
        "    def fullname(self):\n",
        "        return f\"{self.first} {self.last}\"\n",
        "\n",
        "    #######################################  DECORATOR  #######################################\n",
        "    @fullname.setter\n",
        "    def fullname(self,name):\n",
        "        first, last = name.split(' ')\n",
        "        self.first = first\n",
        "        self.last = last\n",
        "\n",
        "    @fullname.deleter\n",
        "    def fullname(self):\n",
        "        print('Delete Name!')\n",
        "        self.first = None\n",
        "        self.last = None\n",
        "\n",
        "\n",
        "\n",
        "emp1 = Employee(\"John\", \"Smith\")"
      ],
      "metadata": {
        "id": "G8juxCyGSDQE"
      },
      "execution_count": 82,
      "outputs": []
    },
    {
      "cell_type": "code",
      "source": [
        "print(emp1.first)\n",
        "print(emp1.email)\n",
        "print(emp1.fullname)\n",
        "emp1.first = 'tom'\n",
        "print(emp1.first)\n",
        "print(emp1.email)\n",
        "print(emp1.fullname)\n",
        "emp1.fullname = 'Steven Hastings'\n",
        "print(emp1.first)\n",
        "print(emp1.email)\n",
        "print(emp1.fullname)\n",
        "del emp1.fullname"
      ],
      "metadata": {
        "colab": {
          "base_uri": "https://localhost:8080/"
        },
        "id": "FpFP_85bSPhd",
        "outputId": "3cc25c51-6ed9-4863-9700-2ff817575598"
      },
      "execution_count": 83,
      "outputs": [
        {
          "output_type": "stream",
          "name": "stdout",
          "text": [
            "John\n",
            "John.Smith@email.com\n",
            "John Smith\n",
            "tom\n",
            "tom.Smith@email.com\n",
            "tom Smith\n",
            "Steven\n",
            "Steven.Hastings@email.com\n",
            "Steven Hastings\n",
            "Delete Name!\n"
          ]
        }
      ]
    },
    {
      "cell_type": "markdown",
      "source": [
        "# Create Your Own Iterator Class"
      ],
      "metadata": {
        "id": "-OveSJLySbBZ"
      }
    },
    {
      "cell_type": "code",
      "source": [
        "class Sentence:\n",
        "\n",
        "    def __init__(self, sentence):\n",
        "        self.sentence = sentence\n",
        "        self.index = 0\n",
        "        self.words = self.sentence.split()\n",
        "\n",
        "    def __iter__(self):\n",
        "        return self\n",
        "\n",
        "    def __next__(self):\n",
        "        if self.index >= len(self.words):\n",
        "            raise StopIteration\n",
        "        \n",
        "        index = self.index\n",
        "        self.index += 1\n",
        "        \n",
        "        return self.words[index]\n",
        "\n",
        "my_sentence = Sentence('This is a test')"
      ],
      "metadata": {
        "id": "_gfCDrCTU0sh"
      },
      "execution_count": 86,
      "outputs": []
    },
    {
      "cell_type": "code",
      "source": [
        "print(next(my_sentence))"
      ],
      "metadata": {
        "colab": {
          "base_uri": "https://localhost:8080/"
        },
        "id": "V59fTqdvVybo",
        "outputId": "8db94f26-787a-4d55-d1c7-a0fe630c979a"
      },
      "execution_count": 87,
      "outputs": [
        {
          "output_type": "stream",
          "name": "stdout",
          "text": [
            "This\n"
          ]
        }
      ]
    },
    {
      "cell_type": "code",
      "source": [
        "for word in my_sentence:\n",
        "    print(word)"
      ],
      "metadata": {
        "colab": {
          "base_uri": "https://localhost:8080/"
        },
        "id": "w2R4baqWV5BC",
        "outputId": "8c6fd781-6635-4f94-90bf-358bbbc5fd22"
      },
      "execution_count": 88,
      "outputs": [
        {
          "output_type": "stream",
          "name": "stdout",
          "text": [
            "is\n",
            "a\n",
            "test\n"
          ]
        }
      ]
    },
    {
      "cell_type": "markdown",
      "source": [
        "### Writing your own Generator Function"
      ],
      "metadata": {
        "id": "MO1FHygnWEV1"
      }
    },
    {
      "cell_type": "code",
      "source": [
        "class Sentence:\n",
        "\n",
        "    def __init__(self, sentence):\n",
        "        self.sentence = sentence\n",
        "        self.index = 0\n",
        "        self.words = self.sentence.split()\n",
        "\n",
        "    def __iter__(self):\n",
        "        return self\n",
        "\n",
        "    def __next__(self):\n",
        "        if self.index >= len(self.words):\n",
        "            raise StopIteration\n",
        "        \n",
        "        index = self.index\n",
        "        self.index += 1\n",
        "        \n",
        "        return self.words[index]\n",
        "\n",
        "def sentence(sentence):\n",
        "    for word in sentence.split():\n",
        "        yield word \n",
        "\n",
        "my_sentence = Sentence('This is a test')"
      ],
      "metadata": {
        "id": "KgE1Zzb0V8GJ"
      },
      "execution_count": 93,
      "outputs": []
    },
    {
      "cell_type": "code",
      "source": [
        "my_sentence = sentence('this is a test')"
      ],
      "metadata": {
        "id": "0kPwHhtFWXwJ"
      },
      "execution_count": 94,
      "outputs": []
    },
    {
      "cell_type": "code",
      "source": [
        "print(next(my_sentence))\n",
        "print(next(my_sentence))\n",
        "print(next(my_sentence))\n",
        "print(next(my_sentence))"
      ],
      "metadata": {
        "colab": {
          "base_uri": "https://localhost:8080/"
        },
        "id": "t8IbyTdUWbpi",
        "outputId": "5af00c93-9c7b-4649-8e5a-a0a8a8bb397c"
      },
      "execution_count": 95,
      "outputs": [
        {
          "output_type": "stream",
          "name": "stdout",
          "text": [
            "this\n",
            "is\n",
            "a\n",
            "test\n"
          ]
        }
      ]
    },
    {
      "cell_type": "markdown",
      "source": [
        "#### Stop Iteration"
      ],
      "metadata": {
        "id": "8qQ52K7EWlYV"
      }
    },
    {
      "cell_type": "code",
      "source": [
        "print(next(my_sentence))"
      ],
      "metadata": {
        "colab": {
          "base_uri": "https://localhost:8080/",
          "height": 167
        },
        "id": "UziwmHtjWebb",
        "outputId": "1f96cfec-2de6-4057-a343-50c15f475937"
      },
      "execution_count": 96,
      "outputs": [
        {
          "output_type": "error",
          "ename": "StopIteration",
          "evalue": "ignored",
          "traceback": [
            "\u001b[0;31m---------------------------------------------------------------------------\u001b[0m",
            "\u001b[0;31mStopIteration\u001b[0m                             Traceback (most recent call last)",
            "\u001b[0;32m<ipython-input-96-3c12f184b1bf>\u001b[0m in \u001b[0;36m<module>\u001b[0;34m\u001b[0m\n\u001b[0;32m----> 1\u001b[0;31m \u001b[0mprint\u001b[0m\u001b[0;34m(\u001b[0m\u001b[0mnext\u001b[0m\u001b[0;34m(\u001b[0m\u001b[0mmy_sentence\u001b[0m\u001b[0;34m)\u001b[0m\u001b[0;34m)\u001b[0m\u001b[0;34m\u001b[0m\u001b[0;34m\u001b[0m\u001b[0m\n\u001b[0m",
            "\u001b[0;31mStopIteration\u001b[0m: "
          ]
        }
      ]
    },
    {
      "cell_type": "markdown",
      "source": [
        "\n",
        "\n",
        "---\n",
        "\n",
        "\n",
        "\n",
        "---\n",
        "\n",
        "\n",
        "\n",
        "---\n",
        "\n",
        "\n",
        "\n",
        "---\n",
        "\n",
        "\n",
        "\n",
        "---\n",
        "\n",
        "\n",
        "\n",
        "---\n",
        "\n"
      ],
      "metadata": {
        "id": "nBbvieRvXKj2"
      }
    },
    {
      "cell_type": "markdown",
      "source": [
        "### Teclado OOP Refresher"
      ],
      "metadata": {
        "id": "ol8LW1N-XfmU"
      }
    },
    {
      "cell_type": "code",
      "source": [
        "class Student:\n",
        "    def __init__(self):\n",
        "        self.name = \"ralph\"\n",
        "        self.grades = (90, 90, 93, 78, 91)\n",
        "    \n",
        "    def average(self):\n",
        "        return sum(self.grades) / len(self.grades)\n",
        "\n",
        "student = Student()"
      ],
      "metadata": {
        "id": "0m5yGAIAWkRQ"
      },
      "execution_count": 99,
      "outputs": []
    },
    {
      "cell_type": "code",
      "source": [
        "print(student.name)\n",
        "print(student.grades)\n",
        "\n",
        "print(Student.average(student))\n",
        "print(student.average())"
      ],
      "metadata": {
        "colab": {
          "base_uri": "https://localhost:8080/"
        },
        "id": "YNyeMIP1YEEj",
        "outputId": "d1dcf448-a271-46c4-c047-a8c6e82e8782"
      },
      "execution_count": 101,
      "outputs": [
        {
          "output_type": "stream",
          "name": "stdout",
          "text": [
            "ralph\n",
            "(90, 90, 93, 78, 91)\n",
            "88.4\n",
            "88.4\n"
          ]
        }
      ]
    },
    {
      "cell_type": "markdown",
      "source": [
        "# `__str__():` `__init__():` `__repr__():` Magic Man"
      ],
      "metadata": {
        "id": "HvRXwf85YHlT"
      }
    },
    {
      "cell_type": "code",
      "source": [
        "class Person:\n",
        "\n",
        "    def __init__(self, name, age):\n",
        "        self.name = name\n",
        "        self.age = age\n",
        "    \n",
        "    # def __str__(self):\n",
        "    #     return \"hi i'm bobby\"\n",
        "    \n",
        "    def __repr__(self):\n",
        "        return f\"<Person({self.name}, {self.age})>\"\n",
        "\n",
        "bob = Person(\"bob\", 35)\n"
      ],
      "metadata": {
        "id": "Np19rykCZFmc"
      },
      "execution_count": 108,
      "outputs": []
    },
    {
      "cell_type": "code",
      "source": [
        "print(bob)"
      ],
      "metadata": {
        "colab": {
          "base_uri": "https://localhost:8080/"
        },
        "id": "HTOYY-mPZOS3",
        "outputId": "d8a6c91d-38ca-4eef-c393-5c7fef473805"
      },
      "execution_count": 103,
      "outputs": [
        {
          "output_type": "stream",
          "name": "stdout",
          "text": [
            "<__main__.Person object at 0x7f8094808090>\n"
          ]
        }
      ]
    },
    {
      "cell_type": "markdown",
      "source": [
        "__str__"
      ],
      "metadata": {
        "id": "Zy82iiqgZnhG"
      }
    },
    {
      "cell_type": "code",
      "source": [
        "print(bob)"
      ],
      "metadata": {
        "colab": {
          "base_uri": "https://localhost:8080/"
        },
        "id": "5eM9c-SFZPC6",
        "outputId": "098082b7-adb7-4458-9c35-6dc272a84eb1"
      },
      "execution_count": 105,
      "outputs": [
        {
          "output_type": "stream",
          "name": "stdout",
          "text": [
            "hi i'm bobby\n"
          ]
        }
      ]
    },
    {
      "cell_type": "markdown",
      "source": [
        "repr"
      ],
      "metadata": {
        "id": "T0qQS7k-Zmmi"
      }
    },
    {
      "cell_type": "code",
      "source": [
        "print(bob)"
      ],
      "metadata": {
        "colab": {
          "base_uri": "https://localhost:8080/"
        },
        "id": "C9XGPu8JZW9o",
        "outputId": "ff59c8ff-5ecf-4af6-8fd7-d432b0fd6b61"
      },
      "execution_count": 109,
      "outputs": [
        {
          "output_type": "stream",
          "name": "stdout",
          "text": [
            "<Person(bob, 35)>\n"
          ]
        }
      ]
    },
    {
      "cell_type": "markdown",
      "source": [
        "### More on Classmethods and Staticmethods"
      ],
      "metadata": {
        "id": "bvJVDncUZi25"
      }
    },
    {
      "cell_type": "code",
      "source": [
        "class ClassTest:\n",
        "\n",
        "    def instance_method(self):\n",
        "        \"\"\"Instance methods are used for most things.\n",
        "        When you want to use an action that uses the data \n",
        "        inside of the object. Also if you want to call a method \n",
        "        to modify the data inside the self or the object then instance\n",
        "        methods would be used. \"\"\"\n",
        "\n",
        "        print(f\"Called instance_method of {self}\")\n",
        "\n",
        "    @classmethod\n",
        "    \"\"\" Used often as 'factories' \"\"\"\n",
        "    def class_method(cls):\n",
        "        print(f\"Called class_method of {cls}\")\n",
        "\n",
        "    @staticmethod\n",
        "    \"\"\" Used to place a method inside of a class. \"\"\"\n",
        "    def static_method():\n",
        "        print(\"Called static_method.\")\n",
        "\n",
        "########## CREATING AN OBJECT OF CLASSTEST OR CREATING AN INSTANCE OF CLASSTEST\n",
        "test = ClassTest()\n"
      ],
      "metadata": {
        "id": "vjEj1bkDZwmi"
      },
      "execution_count": 119,
      "outputs": []
    },
    {
      "cell_type": "code",
      "source": [
        "ClassTest.class_method()"
      ],
      "metadata": {
        "colab": {
          "base_uri": "https://localhost:8080/"
        },
        "id": "ZLBQo52gZ9Bw",
        "outputId": "efd0442b-5ebf-4db3-95ef-d501db1f63dd"
      },
      "execution_count": 118,
      "outputs": [
        {
          "output_type": "stream",
          "name": "stdout",
          "text": [
            "Called class_method of <class '__main__.ClassTest'>\n"
          ]
        }
      ]
    },
    {
      "cell_type": "code",
      "source": [
        "ClassTest.static_method()"
      ],
      "metadata": {
        "colab": {
          "base_uri": "https://localhost:8080/"
        },
        "id": "jcbWPYNiaGCz",
        "outputId": "0c0f6107-e2ba-4138-ad1b-5b98c17ba621"
      },
      "execution_count": 120,
      "outputs": [
        {
          "output_type": "stream",
          "name": "stdout",
          "text": [
            "Called static_method.\n"
          ]
        }
      ]
    },
    {
      "cell_type": "code",
      "source": [
        "class Book:\n",
        "\n",
        "    # class method\n",
        "    TYPES = (\"hardcover\", \"paperback\")\n",
        "\n",
        "    def __init__(self, name, book_type, weight):\n",
        "        self.name = name\n",
        "        self.book_type = book_type\n",
        "        self.weight = weight\n",
        "\n",
        "    def __repr__(self):\n",
        "        return f\"<Book {self.name}, {self.book_type}, weighing {self.weight}g>\"\n",
        "\n",
        "    @classmethod\n",
        "    def hardcover(cls, name, page_weight):\n",
        "        return Book(name, Book.TYPES[0], page_weight + 100)\n",
        "\n",
        "    @classmethod\n",
        "    def paperback(cls, name, page_weight):\n",
        "        return Book(name, Book.TYPES[1], page_weight)\n",
        "\n",
        "book = Book.hardcover(\"harry potter\", 1500)\n",
        "light = Book.paperback(\"python 101\", 600)"
      ],
      "metadata": {
        "id": "bMKqe7c2aWNy"
      },
      "execution_count": 124,
      "outputs": []
    },
    {
      "cell_type": "code",
      "source": [
        "print(book)\n",
        "print(light)"
      ],
      "metadata": {
        "colab": {
          "base_uri": "https://localhost:8080/"
        },
        "id": "1g9WwjWjbcCD",
        "outputId": "2fd64db2-ca33-45db-d5ab-33782cfefe4c"
      },
      "execution_count": 125,
      "outputs": [
        {
          "output_type": "stream",
          "name": "stdout",
          "text": [
            "<Book harry potter, hardcover, weighing 1600g>\n",
            "<Book python 101, paperback, weighing 600g>\n"
          ]
        }
      ]
    },
    {
      "cell_type": "markdown",
      "source": [
        "### More on Class Inheritence"
      ],
      "metadata": {
        "id": "B-t31Fh8bcqA"
      }
    },
    {
      "cell_type": "code",
      "source": [
        "class Device:\n",
        "\n",
        "    def __init__(self, name, connected_by):\n",
        "        self.name = name\n",
        "        self.connected_by = connected_by\n",
        "        self.connected = True\n",
        "\n",
        "    def __str__(self):\n",
        "        return f\"Device {self.name!r} ({self.connected_by})\"\n",
        "\n",
        "    def disconnect(self):\n",
        "        self.connected = False\n",
        "        print(\"Disconnected.\")\n",
        "\n",
        "# Inheritence\n",
        "class Printer(Device):\n",
        "\n",
        "    def __init__(self, name, connected_by, capacity):\n",
        "        super().__init__(name, connected_by)\n",
        "        self.capacity = capacity\n",
        "        self.remaining_pages = capacity\n",
        "\n",
        "    def __str__(self):\n",
        "        return f\"{super().__str__()} ({self.remaining_pages} pages remaining)\"\n",
        "\n",
        "    def print(self, pages):\n",
        "        if not self.connected:\n",
        "            print(\"Your printer is not connected\")\n",
        "            return \n",
        "        print(\"printing {pages} pages.\")\n",
        "        self.remaining_pages -= pages\n",
        "\n",
        "\n",
        "printer = Printer(\"Printer\", \"USB\", 500)\n",
        "printer.print(20)"
      ],
      "metadata": {
        "colab": {
          "base_uri": "https://localhost:8080/"
        },
        "id": "zZZIBr1Qc1QR",
        "outputId": "3319dcf8-d803-40cb-be2a-04aab57c55b7"
      },
      "execution_count": 134,
      "outputs": [
        {
          "output_type": "stream",
          "name": "stdout",
          "text": [
            "printing {pages} pages.\n"
          ]
        }
      ]
    },
    {
      "cell_type": "code",
      "source": [
        "print(printer)\n",
        "printer.disconnect()"
      ],
      "metadata": {
        "colab": {
          "base_uri": "https://localhost:8080/"
        },
        "id": "fnRtCHAIc3nr",
        "outputId": "2125be98-0d39-49c4-b1d9-60897b887db9"
      },
      "execution_count": 137,
      "outputs": [
        {
          "output_type": "stream",
          "name": "stdout",
          "text": [
            "Device 'Printer' (USB) (480 pages remaining)\n",
            "Disconnected.\n"
          ]
        }
      ]
    },
    {
      "cell_type": "markdown",
      "source": [
        "### More on Class Composition\n",
        "* Used more than Inheritence\n",
        "* In *Inheritence*: a book is a bookshelf\n",
        "* In *Composition*: a bookshelf has books"
      ],
      "metadata": {
        "id": "G6V--Kfod_Nf"
      }
    },
    {
      "cell_type": "code",
      "source": [
        "class BookShelf:\n",
        "\n",
        "    def __init__(self, *books):\n",
        "        self.books = books\n",
        "\n",
        "    def __str__(self):\n",
        "        return f\"bookshelf with {len(self.books)} books.\"\n",
        "\n",
        "\n",
        "class Book:\n",
        "\n",
        "    def __init__(self, name):\n",
        "        self.name = name\n",
        "\n",
        "    def __str__(self):\n",
        "        return f\"Book {self.name}\"\n",
        "\n",
        "book = Book(\"harry potter\")\n",
        "book2 = Book(\"Python 101\")\n",
        "shelf = BookShelf(book, book2)"
      ],
      "metadata": {
        "id": "9ZnfkD9HelF4"
      },
      "execution_count": 149,
      "outputs": []
    },
    {
      "cell_type": "code",
      "source": [
        "print(book)\n",
        "print(book2)\n",
        "print(shelf)"
      ],
      "metadata": {
        "colab": {
          "base_uri": "https://localhost:8080/"
        },
        "id": "YSqo3_HwgwaP",
        "outputId": "b00927cb-1d1b-4284-b961-10dd98fc1d68"
      },
      "execution_count": 152,
      "outputs": [
        {
          "output_type": "stream",
          "name": "stdout",
          "text": [
            "Book harry potter\n",
            "Book Python 101\n",
            "bookshelf with 2 books.\n"
          ]
        }
      ]
    },
    {
      "cell_type": "markdown",
      "source": [
        "# Custom Error Classes"
      ],
      "metadata": {
        "id": "UTPAaRiigw4d"
      }
    },
    {
      "cell_type": "code",
      "source": [
        "class TooManyPagesReadError(ValueError):\n",
        "    pass\n",
        "\n",
        "class Book:\n",
        "    def __init__(self, name: str, page_count: int):\n",
        "        self.name = name\n",
        "        self.page_count = page_count\n",
        "        self.pages_read = 0\n",
        "\n",
        "    def __repr__(self):\n",
        "        return (\n",
        "            f\"<Book {self.name}, read {self.pages_read} pages out of {self.page_count}>\"\n",
        "        )\n",
        "\n",
        "    def read(self, pages: int):\n",
        "        if self.pages_read + pages > self.page_count:\n",
        "            raise TooManyPagesReadError(\n",
        "                f\"You tried to read {self.pages_read + pages} pages, \\\n",
        "                but this book only has {self.page_count} pages.\"\n",
        "            )\n",
        "        self.pages_read += pages\n",
        "        print(f\"You have now read {self.pages_read} pages out of {self.page_count}.\")\n",
        "\n",
        "\n",
        "python101 = Book(\"Python 101\", 50)"
      ],
      "metadata": {
        "id": "bdpRSzlJiRvu"
      },
      "execution_count": 159,
      "outputs": []
    },
    {
      "cell_type": "code",
      "source": [
        "python101.read(35)"
      ],
      "metadata": {
        "colab": {
          "base_uri": "https://localhost:8080/"
        },
        "id": "0Ru_oDOGjX7p",
        "outputId": "0745da3f-ea20-46fd-90a7-ea20f3ad7e92"
      },
      "execution_count": 160,
      "outputs": [
        {
          "output_type": "stream",
          "name": "stdout",
          "text": [
            "You have now read 35 pages out of 50.\n"
          ]
        }
      ]
    },
    {
      "cell_type": "code",
      "source": [
        "python101.read(50)"
      ],
      "metadata": {
        "colab": {
          "base_uri": "https://localhost:8080/",
          "height": 288
        },
        "id": "3FVd_l-kjZ8c",
        "outputId": "5d171c2c-b8de-41c0-b477-dde3df6964c8"
      },
      "execution_count": 161,
      "outputs": [
        {
          "output_type": "error",
          "ename": "TooManyPagesReadError",
          "evalue": "ignored",
          "traceback": [
            "\u001b[0;31m---------------------------------------------------------------------------\u001b[0m",
            "\u001b[0;31mTooManyPagesReadError\u001b[0m                     Traceback (most recent call last)",
            "\u001b[0;32m<ipython-input-161-989702fb633a>\u001b[0m in \u001b[0;36m<module>\u001b[0;34m\u001b[0m\n\u001b[0;32m----> 1\u001b[0;31m \u001b[0mpython101\u001b[0m\u001b[0;34m.\u001b[0m\u001b[0mread\u001b[0m\u001b[0;34m(\u001b[0m\u001b[0;36m50\u001b[0m\u001b[0;34m)\u001b[0m\u001b[0;34m\u001b[0m\u001b[0;34m\u001b[0m\u001b[0m\n\u001b[0m",
            "\u001b[0;32m<ipython-input-159-2108d4ddc93b>\u001b[0m in \u001b[0;36mread\u001b[0;34m(self, pages)\u001b[0m\n\u001b[1;32m     17\u001b[0m             raise TooManyPagesReadError(\n\u001b[1;32m     18\u001b[0m                 \u001b[0mf\u001b[0m\u001b[0;31m\"\u001b[0m\u001b[0mYou\u001b[0m \u001b[0mtried\u001b[0m \u001b[0mto\u001b[0m \u001b[0mread\u001b[0m \u001b[0;34m{\u001b[0m\u001b[0mself\u001b[0m\u001b[0;34m.\u001b[0m\u001b[0mpages_read\u001b[0m \u001b[0;34m+\u001b[0m \u001b[0mpages\u001b[0m\u001b[0;34m}\u001b[0m \u001b[0mpages\u001b[0m\u001b[0;34m,\u001b[0m\u001b[0;31m \u001b[0m\u001b[0;31m\\\u001b[0m\u001b[0;34m\u001b[0m\u001b[0;34m\u001b[0m\u001b[0m\n\u001b[0;32m---> 19\u001b[0;31m                 \u001b[0mbut\u001b[0m \u001b[0mthis\u001b[0m \u001b[0mbook\u001b[0m \u001b[0monly\u001b[0m \u001b[0mhas\u001b[0m \u001b[0;34m{\u001b[0m\u001b[0mself\u001b[0m\u001b[0;34m.\u001b[0m\u001b[0mpage_count\u001b[0m\u001b[0;34m}\u001b[0m \u001b[0mpages\u001b[0m\u001b[0;34m.\u001b[0m\u001b[0;31m\"\u001b[0m\u001b[0;34m\u001b[0m\u001b[0;34m\u001b[0m\u001b[0m\n\u001b[0m\u001b[1;32m     20\u001b[0m             )\n\u001b[1;32m     21\u001b[0m         \u001b[0mself\u001b[0m\u001b[0;34m.\u001b[0m\u001b[0mpages_read\u001b[0m \u001b[0;34m+=\u001b[0m \u001b[0mpages\u001b[0m\u001b[0;34m\u001b[0m\u001b[0;34m\u001b[0m\u001b[0m\n",
            "\u001b[0;31mTooManyPagesReadError\u001b[0m: You tried to read 85 pages,                 but this book only has 50 pages."
          ]
        }
      ]
    },
    {
      "cell_type": "code",
      "source": [
        "class Store:\n",
        "    def __init__(self, name):\n",
        "        self.name = name \n",
        "        self.items = []\n",
        "\n",
        "    def add_item(self, name, price):\n",
        "        item = {'name': name, \"price\": price}\n",
        "        self.items.append(item)\n",
        "\n",
        "    def stock_price(self):\n",
        "        return sum([item['price'] for item in self.items])"
      ],
      "metadata": {
        "id": "VIBHOv_wkNHY"
      },
      "execution_count": 182,
      "outputs": []
    },
    {
      "cell_type": "code",
      "source": [
        "store = Store(\"Yonkers\")\n",
        "print(store.name)\n",
        "store.add_item('Perfume', 25)"
      ],
      "metadata": {
        "colab": {
          "base_uri": "https://localhost:8080/"
        },
        "id": "iDPIyReOmEkS",
        "outputId": "e79bc538-e7b1-4613-d71c-625b9a335a24"
      },
      "execution_count": 183,
      "outputs": [
        {
          "output_type": "stream",
          "name": "stdout",
          "text": [
            "Yonkers\n"
          ]
        }
      ]
    },
    {
      "cell_type": "code",
      "source": [
        "print(store.items)"
      ],
      "metadata": {
        "colab": {
          "base_uri": "https://localhost:8080/"
        },
        "id": "lk_GYuLAmPDv",
        "outputId": "9bba1294-81ae-4a8d-9a25-b8219c74931c"
      },
      "execution_count": 184,
      "outputs": [
        {
          "output_type": "stream",
          "name": "stdout",
          "text": [
            "[{'name': 'Perfume', 'price': 25}]\n"
          ]
        }
      ]
    },
    {
      "cell_type": "code",
      "source": [
        "class Store:\n",
        "    def __init__(self, name):\n",
        "        self.name = name \n",
        "        self.items = []\n",
        "\n",
        "    def add_item(self, name, price):\n",
        "        self.items.append({'name': name, \"price\": price})\n",
        "\n",
        "    def stock_price(self):\n",
        "        total = 0\n",
        "        return sum([item['price'] for item in self.items])\n",
        "    \n",
        "    @classmethod\n",
        "    def franchise(cls, store):\n",
        "        new_store = Store(store.name + \"- franchise\")\n",
        "\n",
        "    @staticmethod\n",
        "    def store_details(store):\n",
        "        return '{}, total stock price: {}'.format(store.name, int(store.stock_price()))\n",
        "\n",
        "store = Store(\"Test\")\n",
        "store2 = Store(\"Amazon\")\n",
        "store2.add_item(\"keyboard\", 160)"
      ],
      "metadata": {
        "id": "b-S5b_v_mXMw"
      },
      "execution_count": 186,
      "outputs": []
    },
    {
      "cell_type": "code",
      "source": [
        "Store.franchise(store)"
      ],
      "metadata": {
        "id": "AbNez6yAn_-S"
      },
      "execution_count": 187,
      "outputs": []
    },
    {
      "cell_type": "code",
      "source": [
        "Store.franchise(store2)"
      ],
      "metadata": {
        "id": "KVVML3x8oQUS"
      },
      "execution_count": 188,
      "outputs": []
    },
    {
      "cell_type": "code",
      "source": [
        "Store.store_details(store)"
      ],
      "metadata": {
        "colab": {
          "base_uri": "https://localhost:8080/",
          "height": 35
        },
        "id": "OMlPfKI8oSu-",
        "outputId": "815932dc-de0f-49ee-a4bf-bea78378cbd2"
      },
      "execution_count": 189,
      "outputs": [
        {
          "output_type": "execute_result",
          "data": {
            "text/plain": [
              "'Test, total stock price: 0'"
            ],
            "application/vnd.google.colaboratory.intrinsic+json": {
              "type": "string"
            }
          },
          "metadata": {},
          "execution_count": 189
        }
      ]
    },
    {
      "cell_type": "code",
      "source": [
        "Store.store_details(store2)"
      ],
      "metadata": {
        "colab": {
          "base_uri": "https://localhost:8080/",
          "height": 35
        },
        "id": "3TPYGEhBoVJb",
        "outputId": "19cba4f6-319e-4fca-81c9-948e3526a994"
      },
      "execution_count": 190,
      "outputs": [
        {
          "output_type": "execute_result",
          "data": {
            "text/plain": [
              "'Amazon, total stock price: 160'"
            ],
            "application/vnd.google.colaboratory.intrinsic+json": {
              "type": "string"
            }
          },
          "metadata": {},
          "execution_count": 190
        }
      ]
    },
    {
      "cell_type": "code",
      "source": [
        "class Sphere():\n",
        "\n",
        "    def __init__(self, radius):\n",
        "        self.radius = radius\n",
        "\n",
        "    def volume(self):\n",
        "        return (4/3) * 3.14 * (self.radius**3)\n",
        "\n",
        "    def surface_area(self):\n",
        "        return 4 * 3.14 * self.radius**2\n",
        "\n",
        "s = Sphere(3)"
      ],
      "metadata": {
        "id": "GIw4jyWqoWsV"
      },
      "execution_count": 191,
      "outputs": []
    },
    {
      "cell_type": "code",
      "source": [
        "s.surface_area()"
      ],
      "metadata": {
        "colab": {
          "base_uri": "https://localhost:8080/"
        },
        "id": "ZHHgNqOjpUTt",
        "outputId": "54156c8d-04a6-40ef-fe04-91fed91770d0"
      },
      "execution_count": 192,
      "outputs": [
        {
          "output_type": "execute_result",
          "data": {
            "text/plain": [
              "113.04"
            ]
          },
          "metadata": {},
          "execution_count": 192
        }
      ]
    },
    {
      "cell_type": "code",
      "source": [
        "s.volume()"
      ],
      "metadata": {
        "colab": {
          "base_uri": "https://localhost:8080/"
        },
        "id": "gu_M2fx8pVsi",
        "outputId": "5647426c-2e2f-4b88-8c89-852b6009dcb1"
      },
      "execution_count": 193,
      "outputs": [
        {
          "output_type": "execute_result",
          "data": {
            "text/plain": [
              "113.03999999999999"
            ]
          },
          "metadata": {},
          "execution_count": 193
        }
      ]
    },
    {
      "cell_type": "code",
      "source": [
        "import random \n",
        "\n",
        "class GuessingGame:\n",
        "\n",
        "    def __init__(self):\n",
        "        \n",
        "        self.rand_choice = random.randint(0,10)\n",
        "\n",
        "    def reset_random(self):\n",
        "        print('Resetting random number')\n",
        "        self.rand_choice = random.randint(0,10)\n",
        "\n",
        "    def guess(self):\n",
        "\n",
        "        user_guess = int(input(\"Please input random number: \"))\n",
        "\n",
        "        if user_guess == self.rand_choice:\n",
        "            print(\"CORRECT!\")\n",
        "        elif user_guess < self.rand_choice:\n",
        "            print(\"wrong, guess higher\")\n",
        "\n",
        "        else:\n",
        "            print('wrong, guess lower.')"
      ],
      "metadata": {
        "id": "KRA6JMFGpWoE"
      },
      "execution_count": 201,
      "outputs": []
    },
    {
      "cell_type": "code",
      "source": [
        "g = GuessingGame()\n",
        "g.rand_choice"
      ],
      "metadata": {
        "colab": {
          "base_uri": "https://localhost:8080/"
        },
        "id": "m44frHoUpzyZ",
        "outputId": "fa0b2c48-6bb7-4c6c-d812-d1c0117d7d1d"
      },
      "execution_count": 202,
      "outputs": [
        {
          "output_type": "execute_result",
          "data": {
            "text/plain": [
              "4"
            ]
          },
          "metadata": {},
          "execution_count": 202
        }
      ]
    },
    {
      "cell_type": "code",
      "source": [
        "g.reset_random()"
      ],
      "metadata": {
        "colab": {
          "base_uri": "https://localhost:8080/"
        },
        "id": "Mi97D6oVp2JX",
        "outputId": "c0c03eda-22f0-4aa3-8b9a-c3b5779724d4"
      },
      "execution_count": 203,
      "outputs": [
        {
          "output_type": "stream",
          "name": "stdout",
          "text": [
            "Resetting random number\n"
          ]
        }
      ]
    },
    {
      "cell_type": "code",
      "source": [
        "g.rand_choice"
      ],
      "metadata": {
        "colab": {
          "base_uri": "https://localhost:8080/"
        },
        "id": "DnK-wgnWp3MI",
        "outputId": "bdeb1e25-c5e4-413a-a93b-4db26bf0ba0f"
      },
      "execution_count": 204,
      "outputs": [
        {
          "output_type": "execute_result",
          "data": {
            "text/plain": [
              "7"
            ]
          },
          "metadata": {},
          "execution_count": 204
        }
      ]
    },
    {
      "cell_type": "code",
      "source": [
        "g.guess()"
      ],
      "metadata": {
        "colab": {
          "base_uri": "https://localhost:8080/"
        },
        "id": "drfW9aCip50L",
        "outputId": "5441347a-b6e7-440c-e126-a15b3e3af923"
      },
      "execution_count": 205,
      "outputs": [
        {
          "output_type": "stream",
          "name": "stdout",
          "text": [
            "Please input random number: 4\n",
            "wrong, guess higher\n"
          ]
        }
      ]
    },
    {
      "cell_type": "code",
      "source": [
        "g.guess()"
      ],
      "metadata": {
        "colab": {
          "base_uri": "https://localhost:8080/"
        },
        "id": "I4QujO5cp6cf",
        "outputId": "b225b19e-df33-440c-d824-b852c0f837cb"
      },
      "execution_count": 206,
      "outputs": [
        {
          "output_type": "stream",
          "name": "stdout",
          "text": [
            "Please input random number: 8\n",
            "wrong, guess lower.\n"
          ]
        }
      ]
    },
    {
      "cell_type": "code",
      "source": [
        "g.guess()"
      ],
      "metadata": {
        "colab": {
          "base_uri": "https://localhost:8080/"
        },
        "id": "iK5sWrrzp8g6",
        "outputId": "8026e451-eb5d-46b6-9973-9b60c6fefbec"
      },
      "execution_count": 207,
      "outputs": [
        {
          "output_type": "stream",
          "name": "stdout",
          "text": [
            "Please input random number: 7\n",
            "CORRECT!\n"
          ]
        }
      ]
    },
    {
      "cell_type": "code",
      "source": [],
      "metadata": {
        "id": "z7E_GQryp_Pi"
      },
      "execution_count": null,
      "outputs": []
    }
  ]
}