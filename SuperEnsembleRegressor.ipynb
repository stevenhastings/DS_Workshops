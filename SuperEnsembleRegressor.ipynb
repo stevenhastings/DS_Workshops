{
  "nbformat": 4,
  "nbformat_minor": 0,
  "metadata": {
    "colab": {
      "provenance": [],
      "collapsed_sections": [],
      "authorship_tag": "ABX9TyMrSh/aqxAZStDZ5rEmemzM",
      "include_colab_link": true
    },
    "kernelspec": {
      "name": "python3",
      "display_name": "Python 3"
    },
    "language_info": {
      "name": "python"
    }
  },
  "cells": [
    {
      "cell_type": "markdown",
      "metadata": {
        "id": "view-in-github",
        "colab_type": "text"
      },
      "source": [
        "<a href=\"https://colab.research.google.com/github/stevenhastings/DS_Workshops/blob/main/SuperEnsembleRegressor.ipynb\" target=\"_parent\"><img src=\"https://colab.research.google.com/assets/colab-badge.svg\" alt=\"Open In Colab\"/></a>"
      ]
    },
    {
      "cell_type": "markdown",
      "source": [
        "# ***README.md***\n",
        "# Labs Data Science Workshop: Super Ensemble Regressor\n",
        "\n",
        "## Workshop Lesson Plan\n",
        "- [Lesson Plan](lesson_plan.md) - Flow and Timing\n",
        "- [Lesson Notebook](lesson.ipynb) - Workshop Material"
      ],
      "metadata": {
        "id": "ho1-2O4VeY9D"
      }
    },
    {
      "cell_type": "markdown",
      "source": [
        "# ***install.sh***"
      ],
      "metadata": {
        "id": "iSudSoixeuG_"
      }
    },
    {
      "cell_type": "code",
      "source": [
        "python -m pip install --upgrade pip\n",
        "pip install -r requirements.txt"
      ],
      "metadata": {
        "id": "SwBYcAj_eewk"
      },
      "execution_count": null,
      "outputs": []
    },
    {
      "cell_type": "markdown",
      "source": [
        "# ***lesson_plan.md***\n",
        "\n",
        "# Labs Data Science Workshop: Super Ensemble Regressor\n",
        "## Instructor Notes\n",
        "\n",
        "This lesson plan is aimed at preparing instructors to deliver a high quality live session to learners who have already prepared to work on the project by setting up any prerequisites before coming to class. The contents of this file are for the instructor only.\n",
        "\n",
        "\n",
        "### 0. Instructor Prep List (Prior to Workshop)\n",
        "- [ ] Read through `lesson_plan.md` to understand the timing and flow of the workshop.\n",
        "- [ ] Read through the `lesson.ipynb` and make sure you understand all topics covered.\n",
        "- [ ] Make sure the lesson notebook runs from top to bottom without errors.\n",
        "\n",
        "\n",
        "---\n",
        "### 1. Engage Classroom (1-2 min.)\n",
        "- ***Remind learners of classroom expectations during live workshops***\n",
        "- ***Pick one activity*** to help build an online community here at BloomTech and get learners excited for live instruction:\n",
        "  - ***Icebreaker:*** Fun activity that helps learners get to know one another\n",
        "  - ***Pulse Check:*** Pose a question for learners to gauge how they are feeling/get a pulse on how where they are at this point in the course\n",
        "  - ***Do Now:*** Pose a question that involves no guidance from you. Used to activate students’ learning for the lesson, surface prior knowledge from pre-work, and familiarize students with today’s content\n",
        "  - ***Celebrations:*** Share a learner celebration, job offer, remind students why they are putting in all this hard work\n",
        "\n",
        "\n",
        "---\n",
        "### 2. Getting Started (3-5 min.)\n",
        "- Highlight the key concepts that will be covered during the live session.\n",
        "  - Regressor\n",
        "  - Ensemble\n",
        "- Identify **new** topics that will be shown during this workshop.\n",
        "  - Super Ensemble\n",
        "- Explain how these concepts are critical on the job.\n",
        "  - Often \"real world\" problems are far more complex than toy problems and sometimes, you just need a bigger hammer.\n",
        "  - Knowing what you can do when the usual strategies fail is a good way to standout on the job.\n",
        "\n",
        "\n",
        "---\n",
        "### 3. What Are We Building? (2-3 min.)\n",
        "Show an example of the finished product if applicable.\n",
        "\n",
        "\n",
        "---\n",
        "### 4. Let’s Build (30-40 min.)\n",
        "Follow the lesson as described in the `lesson.ipynb` file.\n",
        "\n",
        "\n",
        "---\n",
        "### 5. Wrap Up (7-10 min.)\n",
        "- ***Answer*** learner questions\n",
        "- ***Restate*** key concepts of this workshop\n",
        "  - When your Regressor just isn't big enough.\n",
        "  - Combine various speciality models into one well-rounded model.\n",
        "  - Try hyperparameter tuning first, it's often more rewarding and costs less.\n",
        "- ***Suggest*** resources for continued learning\n",
        "  - [Python | python.org](https://docs.python.org)"
      ],
      "metadata": {
        "id": "WAoz08gAf5K6"
      }
    },
    {
      "cell_type": "markdown",
      "source": [
        "# ***requirements.txt***\n",
        "* joblib\n",
        "* scikit-learn\n",
        "* pandas\n",
        "* jupyter\n",
        "* numpy"
      ],
      "metadata": {
        "id": "UvWRe9ZCfDc9"
      }
    },
    {
      "cell_type": "markdown",
      "source": [
        "# ***Data File***"
      ],
      "metadata": {
        "id": "mNKNn-whgqZY"
      }
    },
    {
      "cell_type": "code",
      "source": [
        "data_path = \"https://raw.githubusercontent.com/stevenhastings/SuperEnsembleRegressor/main/data/dataset.csv\"\n",
        "data_path2 = \"https://raw.githubusercontent.com/stevenhastings/SuperEnsembleRegressor/main/data/dataset2.csv\"\n",
        "data_path3 = \"https://raw.githubusercontent.com/stevenhastings/SuperEnsembleRegressor/main/data/dataset3.csv\"\n",
        "d1 = pd.read_csv(data_path)\n",
        "d2 = pd.read_csv(data_path2)\n",
        "d3 = pd.read_csv(data_path3)"
      ],
      "metadata": {
        "id": "dobK3uHiguzV"
      },
      "execution_count": 18,
      "outputs": []
    },
    {
      "cell_type": "markdown",
      "source": [
        "* gen_data.py"
      ],
      "metadata": {
        "id": "ELgsZivdhLsQ"
      }
    },
    {
      "cell_type": "code",
      "source": [
        "import os\n",
        "from string import ascii_uppercase\n",
        "\n",
        "import numpy as np\n",
        "from pandas import DataFrame\n",
        "from sklearn import datasets\n",
        "\n",
        "\n",
        "n_features = 7\n",
        "n_samples = 5000\n",
        "n_outliers = 1000\n",
        "target = \"Target\"\n",
        "features = list(ascii_uppercase)[:n_features]\n",
        "\n",
        "X, y, coef = datasets.make_regression(\n",
        "    n_samples=n_samples,\n",
        "    n_features=n_features,\n",
        "    n_informative=1,\n",
        "    noise=10,\n",
        "    coef=True,\n",
        "    random_state=42,\n",
        ")\n",
        "np.random.seed(0)\n",
        "X[:n_outliers] = 3 + 0.5 * np.random.normal(size=(n_outliers, 1))\n",
        "y[:n_outliers] = -3 + 10 * np.random.normal(size=n_outliers)\n",
        "\n",
        "df = DataFrame(data=X, columns=features)\n",
        "df[target] = y\n",
        "df.head()\n",
        "\n",
        "df.to_csv(os.path.join(\"dataset3.csv\"), index=False)"
      ],
      "metadata": {
        "id": "YZJyZAXlhJmq"
      },
      "execution_count": 19,
      "outputs": []
    },
    {
      "cell_type": "markdown",
      "source": [
        "\n",
        "\n",
        "---\n",
        "\n",
        "\n",
        "\n",
        "---\n",
        "\n",
        "\n",
        "\n",
        "---\n",
        "\n",
        "\n",
        "\n",
        "---\n",
        "\n",
        "\n",
        "\n",
        "---\n",
        "\n"
      ],
      "metadata": {
        "id": "zhn5yCkngSKF"
      }
    },
    {
      "cell_type": "markdown",
      "source": [
        "# Begin Follow Along\n",
        "\n",
        "### Gen_Data.py"
      ],
      "metadata": {
        "id": "7wKIt2rRnLXt"
      }
    },
    {
      "cell_type": "code",
      "source": [
        "import os\n",
        "from string import ascii_uppercase\n",
        "\n",
        "import numpy as np\n",
        "import pandas as pd\n",
        "from sklearn import datasets\n",
        "\n",
        "n_features = 7\n",
        "n_samples = 5000\n",
        "n_outliers = 1000\n",
        "target = \"Target\"\n",
        "features = list(ascii_uppercase)[:n_features]\n",
        "\n",
        "X, y, coef = datasets.make_regression(\n",
        "    n_samples=n_samples,\n",
        "    n_features=n_features,\n",
        "    n_informative=1,\n",
        "    noise=10,\n",
        "    coef=True,\n",
        "    random_state=42,\n",
        ")\n",
        "np.random.seed(0)\n",
        "X[:n_outliers] = 3 + 0.5 * np.random.normal(size=(n_outliers, 1))\n",
        "y[:n_outliers] = -3 + 10 * np.random.normal(size=n_outliers)\n",
        "\n",
        "df = pd.DataFrame(data=X, columns=features)\n",
        "df[target] = y\n",
        "df.head()\n",
        "\n",
        "df.to_csv(os.path.join(\"dataset3.csv\"), index=False)"
      ],
      "metadata": {
        "id": "fG9a1q68nTGB"
      },
      "execution_count": 1,
      "outputs": []
    },
    {
      "cell_type": "markdown",
      "source": [
        "# Regressor_Ensembles.ipynb"
      ],
      "metadata": {
        "id": "N9jZMU-znHoC"
      }
    },
    {
      "cell_type": "code",
      "execution_count": 2,
      "metadata": {
        "colab": {
          "base_uri": "https://localhost:8080/",
          "height": 206
        },
        "id": "cQgAelyPmXuI",
        "outputId": "69c4d45b-5f10-41c0-c33c-f64c5b3916ef"
      },
      "outputs": [
        {
          "output_type": "execute_result",
          "data": {
            "text/plain": [
              "          A         B         C         D         E         F         G  \\\n",
              "0  3.882026  3.882026  3.882026  3.882026  3.882026  3.882026  3.882026   \n",
              "1  3.200079  3.200079  3.200079  3.200079  3.200079  3.200079  3.200079   \n",
              "2  3.489369  3.489369  3.489369  3.489369  3.489369  3.489369  3.489369   \n",
              "3  4.120447  4.120447  4.120447  4.120447  4.120447  4.120447  4.120447   \n",
              "4  3.933779  3.933779  3.933779  3.933779  3.933779  3.933779  3.933779   \n",
              "\n",
              "     Target  \n",
              "0  2.559627  \n",
              "1  5.924739  \n",
              "2 -7.223148  \n",
              "3 -1.952860  \n",
              "4 -0.719467  "
            ],
            "text/html": [
              "\n",
              "  <div id=\"df-e23ae623-79e8-4c22-9954-4504268aea9d\">\n",
              "    <div class=\"colab-df-container\">\n",
              "      <div>\n",
              "<style scoped>\n",
              "    .dataframe tbody tr th:only-of-type {\n",
              "        vertical-align: middle;\n",
              "    }\n",
              "\n",
              "    .dataframe tbody tr th {\n",
              "        vertical-align: top;\n",
              "    }\n",
              "\n",
              "    .dataframe thead th {\n",
              "        text-align: right;\n",
              "    }\n",
              "</style>\n",
              "<table border=\"1\" class=\"dataframe\">\n",
              "  <thead>\n",
              "    <tr style=\"text-align: right;\">\n",
              "      <th></th>\n",
              "      <th>A</th>\n",
              "      <th>B</th>\n",
              "      <th>C</th>\n",
              "      <th>D</th>\n",
              "      <th>E</th>\n",
              "      <th>F</th>\n",
              "      <th>G</th>\n",
              "      <th>Target</th>\n",
              "    </tr>\n",
              "  </thead>\n",
              "  <tbody>\n",
              "    <tr>\n",
              "      <th>0</th>\n",
              "      <td>3.882026</td>\n",
              "      <td>3.882026</td>\n",
              "      <td>3.882026</td>\n",
              "      <td>3.882026</td>\n",
              "      <td>3.882026</td>\n",
              "      <td>3.882026</td>\n",
              "      <td>3.882026</td>\n",
              "      <td>2.559627</td>\n",
              "    </tr>\n",
              "    <tr>\n",
              "      <th>1</th>\n",
              "      <td>3.200079</td>\n",
              "      <td>3.200079</td>\n",
              "      <td>3.200079</td>\n",
              "      <td>3.200079</td>\n",
              "      <td>3.200079</td>\n",
              "      <td>3.200079</td>\n",
              "      <td>3.200079</td>\n",
              "      <td>5.924739</td>\n",
              "    </tr>\n",
              "    <tr>\n",
              "      <th>2</th>\n",
              "      <td>3.489369</td>\n",
              "      <td>3.489369</td>\n",
              "      <td>3.489369</td>\n",
              "      <td>3.489369</td>\n",
              "      <td>3.489369</td>\n",
              "      <td>3.489369</td>\n",
              "      <td>3.489369</td>\n",
              "      <td>-7.223148</td>\n",
              "    </tr>\n",
              "    <tr>\n",
              "      <th>3</th>\n",
              "      <td>4.120447</td>\n",
              "      <td>4.120447</td>\n",
              "      <td>4.120447</td>\n",
              "      <td>4.120447</td>\n",
              "      <td>4.120447</td>\n",
              "      <td>4.120447</td>\n",
              "      <td>4.120447</td>\n",
              "      <td>-1.952860</td>\n",
              "    </tr>\n",
              "    <tr>\n",
              "      <th>4</th>\n",
              "      <td>3.933779</td>\n",
              "      <td>3.933779</td>\n",
              "      <td>3.933779</td>\n",
              "      <td>3.933779</td>\n",
              "      <td>3.933779</td>\n",
              "      <td>3.933779</td>\n",
              "      <td>3.933779</td>\n",
              "      <td>-0.719467</td>\n",
              "    </tr>\n",
              "  </tbody>\n",
              "</table>\n",
              "</div>\n",
              "      <button class=\"colab-df-convert\" onclick=\"convertToInteractive('df-e23ae623-79e8-4c22-9954-4504268aea9d')\"\n",
              "              title=\"Convert this dataframe to an interactive table.\"\n",
              "              style=\"display:none;\">\n",
              "        \n",
              "  <svg xmlns=\"http://www.w3.org/2000/svg\" height=\"24px\"viewBox=\"0 0 24 24\"\n",
              "       width=\"24px\">\n",
              "    <path d=\"M0 0h24v24H0V0z\" fill=\"none\"/>\n",
              "    <path d=\"M18.56 5.44l.94 2.06.94-2.06 2.06-.94-2.06-.94-.94-2.06-.94 2.06-2.06.94zm-11 1L8.5 8.5l.94-2.06 2.06-.94-2.06-.94L8.5 2.5l-.94 2.06-2.06.94zm10 10l.94 2.06.94-2.06 2.06-.94-2.06-.94-.94-2.06-.94 2.06-2.06.94z\"/><path d=\"M17.41 7.96l-1.37-1.37c-.4-.4-.92-.59-1.43-.59-.52 0-1.04.2-1.43.59L10.3 9.45l-7.72 7.72c-.78.78-.78 2.05 0 2.83L4 21.41c.39.39.9.59 1.41.59.51 0 1.02-.2 1.41-.59l7.78-7.78 2.81-2.81c.8-.78.8-2.07 0-2.86zM5.41 20L4 18.59l7.72-7.72 1.47 1.35L5.41 20z\"/>\n",
              "  </svg>\n",
              "      </button>\n",
              "      \n",
              "  <style>\n",
              "    .colab-df-container {\n",
              "      display:flex;\n",
              "      flex-wrap:wrap;\n",
              "      gap: 12px;\n",
              "    }\n",
              "\n",
              "    .colab-df-convert {\n",
              "      background-color: #E8F0FE;\n",
              "      border: none;\n",
              "      border-radius: 50%;\n",
              "      cursor: pointer;\n",
              "      display: none;\n",
              "      fill: #1967D2;\n",
              "      height: 32px;\n",
              "      padding: 0 0 0 0;\n",
              "      width: 32px;\n",
              "    }\n",
              "\n",
              "    .colab-df-convert:hover {\n",
              "      background-color: #E2EBFA;\n",
              "      box-shadow: 0px 1px 2px rgba(60, 64, 67, 0.3), 0px 1px 3px 1px rgba(60, 64, 67, 0.15);\n",
              "      fill: #174EA6;\n",
              "    }\n",
              "\n",
              "    [theme=dark] .colab-df-convert {\n",
              "      background-color: #3B4455;\n",
              "      fill: #D2E3FC;\n",
              "    }\n",
              "\n",
              "    [theme=dark] .colab-df-convert:hover {\n",
              "      background-color: #434B5C;\n",
              "      box-shadow: 0px 1px 3px 1px rgba(0, 0, 0, 0.15);\n",
              "      filter: drop-shadow(0px 1px 2px rgba(0, 0, 0, 0.3));\n",
              "      fill: #FFFFFF;\n",
              "    }\n",
              "  </style>\n",
              "\n",
              "      <script>\n",
              "        const buttonEl =\n",
              "          document.querySelector('#df-e23ae623-79e8-4c22-9954-4504268aea9d button.colab-df-convert');\n",
              "        buttonEl.style.display =\n",
              "          google.colab.kernel.accessAllowed ? 'block' : 'none';\n",
              "\n",
              "        async function convertToInteractive(key) {\n",
              "          const element = document.querySelector('#df-e23ae623-79e8-4c22-9954-4504268aea9d');\n",
              "          const dataTable =\n",
              "            await google.colab.kernel.invokeFunction('convertToInteractive',\n",
              "                                                     [key], {});\n",
              "          if (!dataTable) return;\n",
              "\n",
              "          const docLinkHtml = 'Like what you see? Visit the ' +\n",
              "            '<a target=\"_blank\" href=https://colab.research.google.com/notebooks/data_table.ipynb>data table notebook</a>'\n",
              "            + ' to learn more about interactive tables.';\n",
              "          element.innerHTML = '';\n",
              "          dataTable['output_type'] = 'display_data';\n",
              "          await google.colab.output.renderOutput(dataTable, element);\n",
              "          const docLink = document.createElement('div');\n",
              "          docLink.innerHTML = docLinkHtml;\n",
              "          element.appendChild(docLink);\n",
              "        }\n",
              "      </script>\n",
              "    </div>\n",
              "  </div>\n",
              "  "
            ]
          },
          "metadata": {},
          "execution_count": 2
        }
      ],
      "source": [
        "import os\n",
        "from time import perf_counter\n",
        "\n",
        "import pandas as pd\n",
        "import seaborn as sns\n",
        "from sklearn.linear_model import *\n",
        "from sklearn.model_selection import train_test_split\n",
        "from sklearn.metrics import mean_squared_error\n",
        "\n",
        "df = pd.read_csv(\"/content/dataset3.csv\")\n",
        "df.head()"
      ]
    },
    {
      "cell_type": "code",
      "source": [
        "df.corr()"
      ],
      "metadata": {
        "colab": {
          "base_uri": "https://localhost:8080/",
          "height": 300
        },
        "id": "n2HUPJyGnbTl",
        "outputId": "ed930858-896e-4394-b477-35b6557edbef"
      },
      "execution_count": 3,
      "outputs": [
        {
          "output_type": "execute_result",
          "data": {
            "text/plain": [
              "               A         B         C         D         E         F         G  \\\n",
              "A       1.000000  0.632393  0.647090  0.648089  0.651310  0.651741  0.642682   \n",
              "B       0.632393  1.000000  0.632177  0.629128  0.636476  0.655835  0.635223   \n",
              "C       0.647090  0.632177  1.000000  0.642568  0.640935  0.650407  0.639885   \n",
              "D       0.648089  0.629128  0.642568  1.000000  0.650064  0.655487  0.642724   \n",
              "E       0.651310  0.636476  0.640935  0.650064  1.000000  0.659519  0.647396   \n",
              "F       0.651741  0.655835  0.650407  0.655487  0.659519  1.000000  0.651744   \n",
              "G       0.642682  0.635223  0.639885  0.642724  0.647396  0.651744  1.000000   \n",
              "Target -0.009847  0.000895 -0.012229 -0.005596 -0.002987  0.565201 -0.011547   \n",
              "\n",
              "          Target  \n",
              "A      -0.009847  \n",
              "B       0.000895  \n",
              "C      -0.012229  \n",
              "D      -0.005596  \n",
              "E      -0.002987  \n",
              "F       0.565201  \n",
              "G      -0.011547  \n",
              "Target  1.000000  "
            ],
            "text/html": [
              "\n",
              "  <div id=\"df-ce6a94f5-0712-4204-9a68-c1ae60c933dc\">\n",
              "    <div class=\"colab-df-container\">\n",
              "      <div>\n",
              "<style scoped>\n",
              "    .dataframe tbody tr th:only-of-type {\n",
              "        vertical-align: middle;\n",
              "    }\n",
              "\n",
              "    .dataframe tbody tr th {\n",
              "        vertical-align: top;\n",
              "    }\n",
              "\n",
              "    .dataframe thead th {\n",
              "        text-align: right;\n",
              "    }\n",
              "</style>\n",
              "<table border=\"1\" class=\"dataframe\">\n",
              "  <thead>\n",
              "    <tr style=\"text-align: right;\">\n",
              "      <th></th>\n",
              "      <th>A</th>\n",
              "      <th>B</th>\n",
              "      <th>C</th>\n",
              "      <th>D</th>\n",
              "      <th>E</th>\n",
              "      <th>F</th>\n",
              "      <th>G</th>\n",
              "      <th>Target</th>\n",
              "    </tr>\n",
              "  </thead>\n",
              "  <tbody>\n",
              "    <tr>\n",
              "      <th>A</th>\n",
              "      <td>1.000000</td>\n",
              "      <td>0.632393</td>\n",
              "      <td>0.647090</td>\n",
              "      <td>0.648089</td>\n",
              "      <td>0.651310</td>\n",
              "      <td>0.651741</td>\n",
              "      <td>0.642682</td>\n",
              "      <td>-0.009847</td>\n",
              "    </tr>\n",
              "    <tr>\n",
              "      <th>B</th>\n",
              "      <td>0.632393</td>\n",
              "      <td>1.000000</td>\n",
              "      <td>0.632177</td>\n",
              "      <td>0.629128</td>\n",
              "      <td>0.636476</td>\n",
              "      <td>0.655835</td>\n",
              "      <td>0.635223</td>\n",
              "      <td>0.000895</td>\n",
              "    </tr>\n",
              "    <tr>\n",
              "      <th>C</th>\n",
              "      <td>0.647090</td>\n",
              "      <td>0.632177</td>\n",
              "      <td>1.000000</td>\n",
              "      <td>0.642568</td>\n",
              "      <td>0.640935</td>\n",
              "      <td>0.650407</td>\n",
              "      <td>0.639885</td>\n",
              "      <td>-0.012229</td>\n",
              "    </tr>\n",
              "    <tr>\n",
              "      <th>D</th>\n",
              "      <td>0.648089</td>\n",
              "      <td>0.629128</td>\n",
              "      <td>0.642568</td>\n",
              "      <td>1.000000</td>\n",
              "      <td>0.650064</td>\n",
              "      <td>0.655487</td>\n",
              "      <td>0.642724</td>\n",
              "      <td>-0.005596</td>\n",
              "    </tr>\n",
              "    <tr>\n",
              "      <th>E</th>\n",
              "      <td>0.651310</td>\n",
              "      <td>0.636476</td>\n",
              "      <td>0.640935</td>\n",
              "      <td>0.650064</td>\n",
              "      <td>1.000000</td>\n",
              "      <td>0.659519</td>\n",
              "      <td>0.647396</td>\n",
              "      <td>-0.002987</td>\n",
              "    </tr>\n",
              "    <tr>\n",
              "      <th>F</th>\n",
              "      <td>0.651741</td>\n",
              "      <td>0.655835</td>\n",
              "      <td>0.650407</td>\n",
              "      <td>0.655487</td>\n",
              "      <td>0.659519</td>\n",
              "      <td>1.000000</td>\n",
              "      <td>0.651744</td>\n",
              "      <td>0.565201</td>\n",
              "    </tr>\n",
              "    <tr>\n",
              "      <th>G</th>\n",
              "      <td>0.642682</td>\n",
              "      <td>0.635223</td>\n",
              "      <td>0.639885</td>\n",
              "      <td>0.642724</td>\n",
              "      <td>0.647396</td>\n",
              "      <td>0.651744</td>\n",
              "      <td>1.000000</td>\n",
              "      <td>-0.011547</td>\n",
              "    </tr>\n",
              "    <tr>\n",
              "      <th>Target</th>\n",
              "      <td>-0.009847</td>\n",
              "      <td>0.000895</td>\n",
              "      <td>-0.012229</td>\n",
              "      <td>-0.005596</td>\n",
              "      <td>-0.002987</td>\n",
              "      <td>0.565201</td>\n",
              "      <td>-0.011547</td>\n",
              "      <td>1.000000</td>\n",
              "    </tr>\n",
              "  </tbody>\n",
              "</table>\n",
              "</div>\n",
              "      <button class=\"colab-df-convert\" onclick=\"convertToInteractive('df-ce6a94f5-0712-4204-9a68-c1ae60c933dc')\"\n",
              "              title=\"Convert this dataframe to an interactive table.\"\n",
              "              style=\"display:none;\">\n",
              "        \n",
              "  <svg xmlns=\"http://www.w3.org/2000/svg\" height=\"24px\"viewBox=\"0 0 24 24\"\n",
              "       width=\"24px\">\n",
              "    <path d=\"M0 0h24v24H0V0z\" fill=\"none\"/>\n",
              "    <path d=\"M18.56 5.44l.94 2.06.94-2.06 2.06-.94-2.06-.94-.94-2.06-.94 2.06-2.06.94zm-11 1L8.5 8.5l.94-2.06 2.06-.94-2.06-.94L8.5 2.5l-.94 2.06-2.06.94zm10 10l.94 2.06.94-2.06 2.06-.94-2.06-.94-.94-2.06-.94 2.06-2.06.94z\"/><path d=\"M17.41 7.96l-1.37-1.37c-.4-.4-.92-.59-1.43-.59-.52 0-1.04.2-1.43.59L10.3 9.45l-7.72 7.72c-.78.78-.78 2.05 0 2.83L4 21.41c.39.39.9.59 1.41.59.51 0 1.02-.2 1.41-.59l7.78-7.78 2.81-2.81c.8-.78.8-2.07 0-2.86zM5.41 20L4 18.59l7.72-7.72 1.47 1.35L5.41 20z\"/>\n",
              "  </svg>\n",
              "      </button>\n",
              "      \n",
              "  <style>\n",
              "    .colab-df-container {\n",
              "      display:flex;\n",
              "      flex-wrap:wrap;\n",
              "      gap: 12px;\n",
              "    }\n",
              "\n",
              "    .colab-df-convert {\n",
              "      background-color: #E8F0FE;\n",
              "      border: none;\n",
              "      border-radius: 50%;\n",
              "      cursor: pointer;\n",
              "      display: none;\n",
              "      fill: #1967D2;\n",
              "      height: 32px;\n",
              "      padding: 0 0 0 0;\n",
              "      width: 32px;\n",
              "    }\n",
              "\n",
              "    .colab-df-convert:hover {\n",
              "      background-color: #E2EBFA;\n",
              "      box-shadow: 0px 1px 2px rgba(60, 64, 67, 0.3), 0px 1px 3px 1px rgba(60, 64, 67, 0.15);\n",
              "      fill: #174EA6;\n",
              "    }\n",
              "\n",
              "    [theme=dark] .colab-df-convert {\n",
              "      background-color: #3B4455;\n",
              "      fill: #D2E3FC;\n",
              "    }\n",
              "\n",
              "    [theme=dark] .colab-df-convert:hover {\n",
              "      background-color: #434B5C;\n",
              "      box-shadow: 0px 1px 3px 1px rgba(0, 0, 0, 0.15);\n",
              "      filter: drop-shadow(0px 1px 2px rgba(0, 0, 0, 0.3));\n",
              "      fill: #FFFFFF;\n",
              "    }\n",
              "  </style>\n",
              "\n",
              "      <script>\n",
              "        const buttonEl =\n",
              "          document.querySelector('#df-ce6a94f5-0712-4204-9a68-c1ae60c933dc button.colab-df-convert');\n",
              "        buttonEl.style.display =\n",
              "          google.colab.kernel.accessAllowed ? 'block' : 'none';\n",
              "\n",
              "        async function convertToInteractive(key) {\n",
              "          const element = document.querySelector('#df-ce6a94f5-0712-4204-9a68-c1ae60c933dc');\n",
              "          const dataTable =\n",
              "            await google.colab.kernel.invokeFunction('convertToInteractive',\n",
              "                                                     [key], {});\n",
              "          if (!dataTable) return;\n",
              "\n",
              "          const docLinkHtml = 'Like what you see? Visit the ' +\n",
              "            '<a target=\"_blank\" href=https://colab.research.google.com/notebooks/data_table.ipynb>data table notebook</a>'\n",
              "            + ' to learn more about interactive tables.';\n",
              "          element.innerHTML = '';\n",
              "          dataTable['output_type'] = 'display_data';\n",
              "          await google.colab.output.renderOutput(dataTable, element);\n",
              "          const docLink = document.createElement('div');\n",
              "          docLink.innerHTML = docLinkHtml;\n",
              "          element.appendChild(docLink);\n",
              "        }\n",
              "      </script>\n",
              "    </div>\n",
              "  </div>\n",
              "  "
            ]
          },
          "metadata": {},
          "execution_count": 3
        }
      ]
    },
    {
      "cell_type": "code",
      "source": [
        "# sns.pairplot(df)"
      ],
      "metadata": {
        "id": "jex0F9FOqssz"
      },
      "execution_count": 15,
      "outputs": []
    },
    {
      "cell_type": "code",
      "source": [
        "sns.scatterplot(x='A', y='B', data=df)"
      ],
      "metadata": {
        "colab": {
          "base_uri": "https://localhost:8080/",
          "height": 296
        },
        "id": "u715TqTpq42t",
        "outputId": "2d5a1367-f74d-4566-b68c-43d1765b18bf"
      },
      "execution_count": 5,
      "outputs": [
        {
          "output_type": "execute_result",
          "data": {
            "text/plain": [
              "<matplotlib.axes._subplots.AxesSubplot at 0x7fdcc9dd5510>"
            ]
          },
          "metadata": {},
          "execution_count": 5
        },
        {
          "output_type": "display_data",
          "data": {
            "text/plain": [
              "<Figure size 432x288 with 1 Axes>"
            ],
            "image/png": "[encoded data removed]"
          },
          "metadata": {
            "needs_background": "light"
          }
        }
      ]
    },
    {
      "cell_type": "code",
      "source": [
        "target = \"Target\"\n",
        "features = df.columns.drop(target)\n",
        "\n",
        "X_train, X_test, y_train, y_test = train_test_split(\n",
        "    df[features],\n",
        "    df[target],\n",
        "    random_state=42,\n",
        "    test_size=0.2,\n",
        ")"
      ],
      "metadata": {
        "id": "gEhnKN5CrzTA"
      },
      "execution_count": 6,
      "outputs": []
    },
    {
      "cell_type": "code",
      "source": [
        "base_model = LinearRegression()\n",
        "base_model.fit(X_train, y_train)\n",
        "\n",
        "print(f\"MeanSquaredError: {mean_squared_error(y_test, base_model.predict(X_test))}\")\n",
        "print(\"Accuracy Score: \", base_model.score(X_test, y_test))"
      ],
      "metadata": {
        "colab": {
          "base_uri": "https://localhost:8080/"
        },
        "id": "w17QeOfnuCF_",
        "outputId": "5ff0dd1d-19b3-418a-e471-6afff5069dff"
      },
      "execution_count": 7,
      "outputs": [
        {
          "output_type": "stream",
          "name": "stdout",
          "text": [
            "MeanSquaredError: 607.5995860880196\n",
            "Accuracy Score:  0.8265761005387419\n"
          ]
        }
      ]
    },
    {
      "cell_type": "code",
      "source": [
        "from sklearn.ensemble import RandomForestRegressor, StackingRegressor\n",
        "from sklearn.linear_model import RidgeCV\n",
        "from sklearn.tree import DecisionTreeRegressor"
      ],
      "metadata": {
        "id": "btaihI9z0Z3V"
      },
      "execution_count": 8,
      "outputs": []
    },
    {
      "cell_type": "code",
      "source": [
        "models = [\n",
        "    RandomForestRegressor(random_state=42),\n",
        "    DecisionTreeRegressor(random_state=42),\n",
        "    RidgeCV(),\n",
        "    BayesianRidge(),\n",
        "    RidgeCV(),\n",
        "    LassoCV(),\n",
        "    SGDRegressor(random_state=42),\n",
        "    PassiveAggressiveRegressor(random_state=42),\n",
        "    RANSACRegressor(random_state=42),\n",
        "]\n",
        "\n",
        "for model in models:\n",
        "    model.fit(X_train, y_train)\n",
        "    print(model)\n",
        "    print(f\"MSE: {mean_squared_error(y_test, model.predict(X_test))}\")\n",
        "    print(f\"Model Accuracy Score: {model.score(X_test, y_test)*100:.2f}%\")\n",
        "    print()"
      ],
      "metadata": {
        "colab": {
          "base_uri": "https://localhost:8080/"
        },
        "id": "qtIKgsylwtgy",
        "outputId": "b02b8e06-b65d-4ebb-f115-6880714352bd"
      },
      "execution_count": 9,
      "outputs": [
        {
          "output_type": "stream",
          "name": "stdout",
          "text": [
            "RandomForestRegressor(random_state=42)\n",
            "MSE: 127.06077199788587\n",
            "Model Accuracy Score: 96.37%\n",
            "\n",
            "DecisionTreeRegressor(random_state=42)\n",
            "MSE: 199.63492561554017\n",
            "Model Accuracy Score: 94.30%\n",
            "\n",
            "RidgeCV(alphas=array([ 0.1,  1. , 10. ]))\n",
            "MSE: 607.5851931041525\n",
            "Model Accuracy Score: 82.66%\n",
            "\n",
            "BayesianRidge()\n",
            "MSE: 607.5849020065451\n",
            "Model Accuracy Score: 82.66%\n",
            "\n",
            "RidgeCV(alphas=array([ 0.1,  1. , 10. ]))\n",
            "MSE: 607.5851931041525\n",
            "Model Accuracy Score: 82.66%\n",
            "\n",
            "LassoCV()\n",
            "MSE: 607.5655731397595\n",
            "Model Accuracy Score: 82.66%\n",
            "\n",
            "SGDRegressor(random_state=42)\n",
            "MSE: 608.876482329797\n",
            "Model Accuracy Score: 82.62%\n",
            "\n",
            "PassiveAggressiveRegressor(random_state=42)\n",
            "MSE: 716.0951273734579\n",
            "Model Accuracy Score: 79.56%\n",
            "\n",
            "RANSACRegressor(random_state=42)\n",
            "MSE: 9210.817214744518\n",
            "Model Accuracy Score: -162.90%\n",
            "\n"
          ]
        }
      ]
    },
    {
      "cell_type": "markdown",
      "source": [
        "# Stacking Models that all do, pretty much, the same thing"
      ],
      "metadata": {
        "id": "dyyh02gg4F5D"
      }
    },
    {
      "cell_type": "code",
      "source": [
        "model = StackingRegressor(\n",
        "    estimators=[\n",
        "        (\"LR\", LinearRegression()),\n",
        "        (\"BRR\", BayesianRidge()),\n",
        "        (\"RCV\", RidgeCV()),\n",
        "        (\"LCV\", LassoCV(random_state=42)),\n",
        "        (\"SGDR\", SGDRegressor(random_state=42)),\n",
        "        (\"PAR\", PassiveAggressiveRegressor(random_state=42)),\n",
        "        (\"RANSAC\", RANSACRegressor(random_state=42)),\n",
        "    ],\n",
        "    final_estimator=BayesianRidge(),\n",
        ")\n",
        "\n",
        "\n",
        "model.fit(X_train, y_train)\n",
        "print(model)\n",
        "print(f\"MSE: {mean_squared_error(y_test, model.predict(X_test))}\")\n",
        "print(f\"Model Accuracy Score: {model.score(X_test, y_test)*100:.2f}%\")"
      ],
      "metadata": {
        "colab": {
          "base_uri": "https://localhost:8080/"
        },
        "id": "aZ64KmX1zkU-",
        "outputId": "b5da4d93-d45d-4dbf-c328-753f1745f026"
      },
      "execution_count": 10,
      "outputs": [
        {
          "output_type": "stream",
          "name": "stdout",
          "text": [
            "StackingRegressor(estimators=[('LR', LinearRegression()),\n",
            "                              ('BRR', BayesianRidge()),\n",
            "                              ('RCV',\n",
            "                               RidgeCV(alphas=array([ 0.1,  1. , 10. ]))),\n",
            "                              ('LCV', LassoCV(random_state=42)),\n",
            "                              ('SGDR', SGDRegressor(random_state=42)),\n",
            "                              ('PAR',\n",
            "                               PassiveAggressiveRegressor(random_state=42)),\n",
            "                              ('RANSAC', RANSACRegressor(random_state=42))],\n",
            "                  final_estimator=BayesianRidge())\n",
            "MSE: 606.9990243332002\n",
            "Model Accuracy Score: 82.67%\n"
          ]
        }
      ]
    },
    {
      "cell_type": "markdown",
      "source": [
        "# Assessing Ensembles"
      ],
      "metadata": {
        "id": "yxMzo_3o4OB2"
      }
    },
    {
      "cell_type": "code",
      "source": [
        "from sklearn.ensemble import (GradientBoostingRegressor, \n",
        "                              HistGradientBoostingRegressor, \n",
        "                              ExtraTreesRegressor, \n",
        "                              AdaBoostRegressor)"
      ],
      "metadata": {
        "id": "Jn_gQHPQ5WeF"
      },
      "execution_count": 11,
      "outputs": []
    },
    {
      "cell_type": "code",
      "source": [
        "ensembles = [\n",
        "    (\"GBR\", GradientBoostingRegressor(random_state=42)),\n",
        "    (\"HGBR\", HistGradientBoostingRegressor(random_state=42)),\n",
        "    (\"ET\", ExtraTreesRegressor(random_state=42)),\n",
        "    (\"ABR\", AdaBoostRegressor(random_state=42)),\n",
        "    (\"RFR\", RandomForestRegressor(random_state=42)),\n",
        "]\n",
        "for name, ensemble in ensembles:\n",
        "    start = perf_counter()\n",
        "    ensemble.fit(X_train, y_train)\n",
        "    stop = perf_counter()\n",
        "    duration = stop - start\n",
        "    print(f\"Algorithm: {name}\")\n",
        "    print(f\"Train Time: {duration:.2f}s\")\n",
        "    print(f\"Test Score: {ensemble.score(X_test, y_test):.2%}\")\n",
        "    print(f\"MSE: {mean_squared_error(y_test, ensemble.predict(X_test))}\")\n",
        "    print()"
      ],
      "metadata": {
        "colab": {
          "base_uri": "https://localhost:8080/"
        },
        "id": "hpJP_1ef4PWP",
        "outputId": "dca655e5-6e99-42fc-feb8-633c03a282a4"
      },
      "execution_count": 12,
      "outputs": [
        {
          "output_type": "stream",
          "name": "stdout",
          "text": [
            "Algorithm: GBR\n",
            "Train Time: 1.00s\n",
            "Test Score: 96.32%\n",
            "MSE: 128.82599651839197\n",
            "\n",
            "Algorithm: HGBR\n",
            "Train Time: 0.41s\n",
            "Test Score: 95.91%\n",
            "MSE: 143.18707256748965\n",
            "\n",
            "Algorithm: ET\n",
            "Train Time: 0.95s\n",
            "Test Score: 96.47%\n",
            "MSE: 123.61942598014605\n",
            "\n",
            "Algorithm: ABR\n",
            "Train Time: 0.40s\n",
            "Test Score: 95.54%\n",
            "MSE: 156.2051009205732\n",
            "\n",
            "Algorithm: RFR\n",
            "Train Time: 2.14s\n",
            "Test Score: 96.37%\n",
            "MSE: 127.06077199788587\n",
            "\n"
          ]
        }
      ]
    },
    {
      "cell_type": "markdown",
      "source": [
        "# Stacking Ensembles"
      ],
      "metadata": {
        "id": "ZzocATK_6Nvo"
      }
    },
    {
      "cell_type": "code",
      "source": [
        "model = StackingRegressor(\n",
        "    estimators=[\n",
        "        ('LR', LinearRegression()),\n",
        "        ('RCV', RidgeCV()),\n",
        "        ('LCV', LassoCV(random_state=42)),\n",
        "        ('SGDR', SGDRegressor(random_state=42)),\n",
        "        ('ARDR', ARDRegression()),\n",
        "        ('PAR', PassiveAggressiveRegressor(random_state=42)),\n",
        "        ('TSR', TheilSenRegressor(random_state=42)),\n",
        "        ('RANSAC', RANSACRegressor(random_state=42)),\n",
        "        ('RFR', RandomForestRegressor(random_state=42)),\n",
        "        ('HGBR', HistGradientBoostingRegressor(random_state=42)),\n",
        "        ('ABR', AdaBoostRegressor(random_state=42)),\n",
        "        ('ET', ExtraTreesRegressor(random_state=42)),\n",
        "    ],\n",
        "    final_estimator=StackingRegressor( #########FINAL ESTIMATOR IS ANOTHER STACKING REGRESSOR\n",
        "        estimators=[\n",
        "            ('LR', LinearRegression()),\n",
        "            ('RCV', RidgeCV()),\n",
        "            ('LCV', LassoCV(random_state=42)),\n",
        "            ('SGDR', SGDRegressor(random_state=42)),\n",
        "            ('ARDR', ARDRegression()),\n",
        "            ('PAR', PassiveAggressiveRegressor(random_state=42)),\n",
        "            ('TSR', TheilSenRegressor(random_state=42)),\n",
        "            ('RANSAC', RANSACRegressor(random_state=42)),\n",
        "            ('RFR', RandomForestRegressor(random_state=42)),\n",
        "            ('HGBR', HistGradientBoostingRegressor(random_state=42)),\n",
        "            ('ABR', AdaBoostRegressor(random_state=42)),\n",
        "            ('ET', ExtraTreesRegressor(random_state=42)),\n",
        "        ],\n",
        "        final_estimator=GradientBoostingRegressor(random_state=42),\n",
        "    ),\n",
        ")\n",
        "\n",
        "start = perf_counter()\n",
        "model.fit(X_train, y_train)\n",
        "stop = perf_counter()\n",
        "duration = stop - start\n",
        "\n",
        "print(f\"Workers: {', '.join(model.named_estimators)}\")\n",
        "print(f\"Executive: {model.final_estimator}\")\n",
        "print(f\"Train Time: {duration:.2f}s\")\n",
        "print(f\"Test Score: {model.score(X_test, y_test):.2%}\")\n",
        "print(f\"MSE: {mean_squared_error(y_test, model.predict(X_test))}\")\n"
      ],
      "metadata": {
        "colab": {
          "base_uri": "https://localhost:8080/"
        },
        "id": "cAogtsWv6qah",
        "outputId": "3bc9543e-0e22-42cf-a43d-02a24c90b12d"
      },
      "execution_count": 20,
      "outputs": [
        {
          "output_type": "stream",
          "name": "stdout",
          "text": [
            "Workers: LR, RCV, LCV, SGDR, ARDR, PAR, TSR, RANSAC, RFR, HGBR, ABR, ET\n",
            "Executive: StackingRegressor(estimators=[('LR', LinearRegression()),\n",
            "                              ('RCV',\n",
            "                               RidgeCV(alphas=array([ 0.1,  1. , 10. ]))),\n",
            "                              ('LCV', LassoCV(random_state=42)),\n",
            "                              ('SGDR', SGDRegressor(random_state=42)),\n",
            "                              ('ARDR', ARDRegression()),\n",
            "                              ('PAR',\n",
            "                               PassiveAggressiveRegressor(random_state=42)),\n",
            "                              ('TSR',\n",
            "                               TheilSenRegressor(max_subpopulation=10000,\n",
            "                                                 random_state=42)),\n",
            "                              ('RANSAC', RANSACRegressor(random_state=42)),\n",
            "                              ('RFR', RandomForestRegressor(random_state=42)),\n",
            "                              ('HGBR',\n",
            "                               HistGradientBoostingRegressor(random_state=42)),\n",
            "                              ('ABR', AdaBoostRegressor(random_state=42)),\n",
            "                              ('ET', ExtraTreesRegressor(random_state=42))],\n",
            "                  final_estimator=GradientBoostingRegressor(random_state=42))\n",
            "Train Time: 60.37s\n",
            "Test Score: 96.60%\n",
            "MSE: 118.95912027781733\n"
          ]
        }
      ]
    },
    {
      "cell_type": "markdown",
      "source": [
        "# Above Stack Took Way Too Long So Let's Fix That"
      ],
      "metadata": {
        "id": "0zdZOuFY5Kt7"
      }
    },
    {
      "cell_type": "code",
      "source": [
        "model = StackingRegressor(\n",
        "    estimators=[\n",
        "        (\"GBR\", GradientBoostingRegressor(random_state=42)),\n",
        "        (\"HGBR\", HistGradientBoostingRegressor(random_state=42)),\n",
        "        (\"ET\", ExtraTreesRegressor(random_state=42)),\n",
        "    ],\n",
        "    final_estimator=GradientBoostingRegressor(random_state=42),\n",
        ")\n",
        "\n",
        "start = perf_counter()\n",
        "model.fit(X_train, y_train)\n",
        "stop = perf_counter()\n",
        "duration = stop - start\n",
        "\n",
        "print(f\"Workers: {', '.join(model.named_estimators)}\")\n",
        "print(f\"Executive: {model.final_estimator}\")\n",
        "print(f\"Train Time: {duration:.2f}s\")\n",
        "print(f\"Test Score: {model.score(X_test, y_test):.2%}\")\n",
        "print(f\"MSE: {mean_squared_error(y_test, model.predict(X_test))}\")"
      ],
      "metadata": {
        "colab": {
          "base_uri": "https://localhost:8080/"
        },
        "id": "wXysCOzP93TH",
        "outputId": "0ea8e7fd-b0f1-4090-d243-32c4712e0703"
      },
      "execution_count": 21,
      "outputs": [
        {
          "output_type": "stream",
          "name": "stdout",
          "text": [
            "Workers: GBR, HGBR, ET\n",
            "Executive: GradientBoostingRegressor(random_state=42)\n",
            "Train Time: 10.64s\n",
            "Test Score: 96.80%\n",
            "MSE: 111.97665607969392\n"
          ]
        }
      ]
    },
    {
      "cell_type": "markdown",
      "source": [
        "\n",
        "\n",
        "---\n",
        "\n",
        "\n",
        "\n",
        "---\n",
        "\n",
        "\n",
        "\n",
        "---\n",
        "\n",
        "\n",
        "\n",
        "---\n",
        "\n",
        "\n",
        "\n",
        "---\n",
        "\n",
        "\n",
        "\n",
        "---\n",
        "\n",
        "\n",
        "\n",
        "---\n",
        "\n"
      ],
      "metadata": {
        "id": "Sa6UtY6hrVUX"
      }
    },
    {
      "cell_type": "markdown",
      "source": [
        "# COPY PASTA :("
      ],
      "metadata": {
        "id": "Vjr7e_7w-Lxa"
      }
    },
    {
      "cell_type": "code",
      "source": [
        "# stacked linear ensemble\n",
        "model = StackingRegressor(\n",
        "    estimators=[\n",
        "        (\"LR\", LinearRegression()),\n",
        "        (\"BRR\", BayesianRidge()),\n",
        "        (\"RCV\", RidgeCV()),\n",
        "        (\"LCV\", LassoCV(random_state=42)),\n",
        "        (\"SGDR\", SGDRegressor(random_state=42)),\n",
        "        (\"PAR\", PassiveAggressiveRegressor(random_state=42)),\n",
        "        (\"RANSAC\", RANSACRegressor(random_state=42)),\n",
        "    ],\n",
        "    final_estimator=BayesianRidge(),\n",
        ")\n",
        "\n",
        "start = perf_counter()\n",
        "model.fit(X_train, y_train)\n",
        "stop = perf_counter()\n",
        "duration = stop - start\n",
        "\n",
        "print(f\"Workers: {', '.join(model.named_estimators)}\")\n",
        "print(f\"Executive: {model.final_estimator}\")\n",
        "print(f\"Train Time: {duration:.2f}s\")\n",
        "print(f\"Test Score: {model.score(X_test, y_test):.2%}\")\n",
        "print(f\"MSE: {mean_squared_error(y_test, model.predict(X_test))}\")"
      ],
      "metadata": {
        "colab": {
          "base_uri": "https://localhost:8080/"
        },
        "id": "AdpRXce_rcgo",
        "outputId": "eace158b-4370-4c67-f48a-6867bd8b73f6"
      },
      "execution_count": 22,
      "outputs": [
        {
          "output_type": "stream",
          "name": "stdout",
          "text": [
            "Workers: LR, BRR, RCV, LCV, SGDR, PAR, RANSAC\n",
            "Executive: BayesianRidge()\n",
            "Train Time: 1.07s\n",
            "Test Score: 82.67%\n",
            "MSE: 606.9990243332002\n"
          ]
        }
      ]
    },
    {
      "cell_type": "code",
      "source": [
        "# PREBUILT ENSEMBLE MODELS\n",
        "models = [\n",
        "    (\"GBR\", GradientBoostingRegressor(random_state=42)),\n",
        "    (\"HGBR\", HistGradientBoostingRegressor(random_state=42)),\n",
        "    (\"ET\", ExtraTreesRegressor(random_state=42)),\n",
        "    (\"ABR\", AdaBoostRegressor(random_state=42)),\n",
        "    (\"RFR\", RandomForestRegressor(random_state=42)),\n",
        "]\n",
        "for name, model in models:\n",
        "    start = perf_counter()\n",
        "    model.fit(X_train, y_train)\n",
        "    stop = perf_counter()\n",
        "    duration = stop - start\n",
        "    print(f\"Algorithm: {name}\")\n",
        "    print(f\"Train Time: {duration:.2f}s\")\n",
        "    print(f\"Test Score: {model.score(X_test, y_test):.2%}\")\n",
        "    print(f\"MSE: {mean_squared_error(y_test, model.predict(X_test))}\")\n",
        "    print()"
      ],
      "metadata": {
        "colab": {
          "base_uri": "https://localhost:8080/"
        },
        "id": "FgSSWDD7rj7Q",
        "outputId": "1207f331-74ec-401b-d197-dbb7a34044a9"
      },
      "execution_count": 23,
      "outputs": [
        {
          "output_type": "stream",
          "name": "stdout",
          "text": [
            "Algorithm: GBR\n",
            "Train Time: 0.84s\n",
            "Test Score: 96.32%\n",
            "MSE: 128.82599651839197\n",
            "\n",
            "Algorithm: HGBR\n",
            "Train Time: 0.35s\n",
            "Test Score: 95.91%\n",
            "MSE: 143.18707256748965\n",
            "\n",
            "Algorithm: ET\n",
            "Train Time: 0.78s\n",
            "Test Score: 96.47%\n",
            "MSE: 123.61942598014605\n",
            "\n",
            "Algorithm: ABR\n",
            "Train Time: 0.33s\n",
            "Test Score: 95.54%\n",
            "MSE: 156.2051009205732\n",
            "\n",
            "Algorithm: RFR\n",
            "Train Time: 1.82s\n",
            "Test Score: 96.37%\n",
            "MSE: 127.06077199788587\n",
            "\n"
          ]
        }
      ]
    },
    {
      "cell_type": "code",
      "source": [
        "# SUPER ENSEMBLE\n",
        "model = StackingRegressor(\n",
        "    estimators=[\n",
        "        (\"LR\", LinearRegression()),\n",
        "        (\"RCV\", RidgeCV()),\n",
        "        (\"LCV\", LassoCV(random_state=42)),\n",
        "        (\"SGDR\", SGDRegressor(random_state=42)),\n",
        "        (\"ARDR\", ARDRegression()),\n",
        "        (\"PAR\", PassiveAggressiveRegressor(random_state=42)),\n",
        "        (\"TSR\", TheilSenRegressor(random_state=42)),\n",
        "        (\"RANSAC\", RANSACRegressor(random_state=42)),\n",
        "        (\"RFR\", RandomForestRegressor(random_state=42)),\n",
        "        (\"HGBR\", HistGradientBoostingRegressor(random_state=42)),\n",
        "        (\"ABR\", AdaBoostRegressor(random_state=42)),\n",
        "        (\"ET\", ExtraTreesRegressor(random_state=42)),\n",
        "    ],\n",
        "    final_estimator=StackingRegressor(\n",
        "        estimators=[\n",
        "            (\"LR\", LinearRegression()),\n",
        "            (\"RCV\", RidgeCV()),\n",
        "            (\"LCV\", LassoCV(random_state=42)),\n",
        "            (\"SGDR\", SGDRegressor(random_state=42)),\n",
        "            (\"ARDR\", ARDRegression()),\n",
        "            (\"PAR\", PassiveAggressiveRegressor(random_state=42)),\n",
        "            (\"TSR\", TheilSenRegressor(random_state=42)),\n",
        "            (\"RANSAC\", RANSACRegressor(random_state=42)),\n",
        "            (\"RFR\", RandomForestRegressor(random_state=42)),\n",
        "            (\"HGBR\", HistGradientBoostingRegressor(random_state=42)),\n",
        "            (\"ABR\", AdaBoostRegressor(random_state=42)),\n",
        "            (\"ET\", ExtraTreesRegressor(random_state=42)),\n",
        "        ],\n",
        "        final_estimator=GradientBoostingRegressor(random_state=42),\n",
        "    ),\n",
        ")\n",
        "\n",
        "start = perf_counter()\n",
        "model.fit(X_train, y_train)\n",
        "stop = perf_counter()\n",
        "duration = stop - start\n",
        "\n",
        "print(f\"Workers: {', '.join(model.named_estimators)}\")\n",
        "print(f\"Executive: {model.final_estimator}\")\n",
        "print(f\"Train Time: {duration:.2f}s\")\n",
        "print(f\"Test Score: {model.score(X_test, y_test):.2%}\")\n",
        "print(f\"MSE: {mean_squared_error(y_test, model.predict(X_test))}\")"
      ],
      "metadata": {
        "colab": {
          "base_uri": "https://localhost:8080/"
        },
        "id": "F3QBAsRjrobi",
        "outputId": "aa24fba8-8aee-4f05-a96a-28071098a821"
      },
      "execution_count": 24,
      "outputs": [
        {
          "output_type": "stream",
          "name": "stdout",
          "text": [
            "Workers: LR, RCV, LCV, SGDR, ARDR, PAR, TSR, RANSAC, RFR, HGBR, ABR, ET\n",
            "Executive: StackingRegressor(estimators=[('LR', LinearRegression()),\n",
            "                              ('RCV',\n",
            "                               RidgeCV(alphas=array([ 0.1,  1. , 10. ]))),\n",
            "                              ('LCV', LassoCV(random_state=42)),\n",
            "                              ('SGDR', SGDRegressor(random_state=42)),\n",
            "                              ('ARDR', ARDRegression()),\n",
            "                              ('PAR',\n",
            "                               PassiveAggressiveRegressor(random_state=42)),\n",
            "                              ('TSR',\n",
            "                               TheilSenRegressor(max_subpopulation=10000,\n",
            "                                                 random_state=42)),\n",
            "                              ('RANSAC', RANSACRegressor(random_state=42)),\n",
            "                              ('RFR', RandomForestRegressor(random_state=42)),\n",
            "                              ('HGBR',\n",
            "                               HistGradientBoostingRegressor(random_state=42)),\n",
            "                              ('ABR', AdaBoostRegressor(random_state=42)),\n",
            "                              ('ET', ExtraTreesRegressor(random_state=42))],\n",
            "                  final_estimator=GradientBoostingRegressor(random_state=42))\n",
            "Train Time: 60.76s\n",
            "Test Score: 96.60%\n",
            "MSE: 118.95912027781733\n"
          ]
        }
      ]
    },
    {
      "cell_type": "code",
      "source": [
        "from sklearn.svm import SVR"
      ],
      "metadata": {
        "id": "pu7r7WfLsDEi"
      },
      "execution_count": 26,
      "outputs": []
    },
    {
      "cell_type": "code",
      "source": [
        "model = StackingRegressor(\n",
        "    estimators=[\n",
        "        (\"GBR\", GradientBoostingRegressor(random_state=42)),\n",
        "        (\"BRR\", BayesianRidge()),\n",
        "        (\"SVR\", SVR()),\n",
        "        (\"RCV\", RidgeCV()),\n",
        "        (\"LCV\", LassoCV(random_state=42)),\n",
        "    ],\n",
        "    final_estimator=StackingRegressor(\n",
        "        estimators=[\n",
        "            (\"GBR\", GradientBoostingRegressor(random_state=42)),\n",
        "            (\"BRR\", BayesianRidge()),\n",
        "            (\"SVR\", SVR()),\n",
        "            (\"RCV\", RidgeCV()),\n",
        "            (\"LCV\", LassoCV(random_state=42)),\n",
        "        ],\n",
        "        final_estimator=GradientBoostingRegressor(),\n",
        "    ),\n",
        ")\n",
        "\n",
        "start = perf_counter()\n",
        "model.fit(X_train, y_train)\n",
        "stop = perf_counter()\n",
        "duration = stop - start\n",
        "\n",
        "print(f\"Workers: {', '.join(model.named_estimators)}\")\n",
        "print(f\"Executive: {model.final_estimator}\")\n",
        "print(f\"Train Time: {duration:.2f}s\")\n",
        "print(f\"Test Score: {model.score(X_test, y_test):.2%}\")\n",
        "print(f\"MSE: {mean_squared_error(y_test, model.predict(X_test))}\")"
      ],
      "metadata": {
        "colab": {
          "base_uri": "https://localhost:8080/"
        },
        "id": "7cJM0Uxnrulv",
        "outputId": "d4b49881-cc8b-4d34-e825-063ac4e1bb00"
      },
      "execution_count": 27,
      "outputs": [
        {
          "output_type": "stream",
          "name": "stdout",
          "text": [
            "Workers: GBR, BRR, SVR, RCV, LCV\n",
            "Executive: StackingRegressor(estimators=[('GBR',\n",
            "                               GradientBoostingRegressor(random_state=42)),\n",
            "                              ('BRR', BayesianRidge()), ('SVR', SVR()),\n",
            "                              ('RCV',\n",
            "                               RidgeCV(alphas=array([ 0.1,  1. , 10. ]))),\n",
            "                              ('LCV', LassoCV(random_state=42))],\n",
            "                  final_estimator=GradientBoostingRegressor())\n",
            "Train Time: 17.47s\n",
            "Test Score: 96.34%\n",
            "MSE: 128.3235436817412\n"
          ]
        }
      ]
    },
    {
      "cell_type": "code",
      "source": [
        "# ENSEMBLE DOUBLE STACK\n",
        "model = StackingRegressor(\n",
        "    estimators=[\n",
        "        (\"GBR\", GradientBoostingRegressor(random_state=42)),\n",
        "        (\"HGBR\", HistGradientBoostingRegressor(random_state=42)),\n",
        "        (\"ET\", ExtraTreesRegressor(random_state=42)),\n",
        "    ],\n",
        "    final_estimator=GradientBoostingRegressor(random_state=42),\n",
        ")\n",
        "\n",
        "start = perf_counter()\n",
        "model.fit(X_train, y_train)\n",
        "stop = perf_counter()\n",
        "duration = stop - start\n",
        "\n",
        "print(f\"Workers: {', '.join(model.named_estimators)}\")\n",
        "print(f\"Executive: {model.final_estimator}\")\n",
        "print(f\"Train Time: {duration:.2f}s\")\n",
        "print(f\"Test Score: {model.score(X_test, y_test):.2%}\")\n",
        "print(f\"MSE: {mean_squared_error(y_test, model.predict(X_test))}\")"
      ],
      "metadata": {
        "colab": {
          "base_uri": "https://localhost:8080/"
        },
        "id": "4Dr5Y8lJrx92",
        "outputId": "7c33ec36-6dd6-4bf9-8754-4194398c4c8d"
      },
      "execution_count": 28,
      "outputs": [
        {
          "output_type": "stream",
          "name": "stdout",
          "text": [
            "Workers: GBR, HGBR, ET\n",
            "Executive: GradientBoostingRegressor(random_state=42)\n",
            "Train Time: 10.80s\n",
            "Test Score: 96.80%\n",
            "MSE: 111.97665607969392\n"
          ]
        }
      ]
    },
    {
      "cell_type": "code",
      "source": [],
      "metadata": {
        "id": "oPY0BdNLr1RA"
      },
      "execution_count": 28,
      "outputs": []
    }
  ]
}