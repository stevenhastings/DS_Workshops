{
  "nbformat": 4,
  "nbformat_minor": 0,
  "metadata": {
    "colab": {
      "provenance": [],
      "collapsed_sections": [],
      "authorship_tag": "ABX9TyN7aL0vhpPDegHBvzvleDKy",
      "include_colab_link": true
    },
    "kernelspec": {
      "name": "python3",
      "display_name": "Python 3"
    },
    "language_info": {
      "name": "python"
    }
  },
  "cells": [
    {
      "cell_type": "markdown",
      "metadata": {
        "id": "view-in-github",
        "colab_type": "text"
      },
      "source": [
        "<a href=\"https://colab.research.google.com/github/stevenhastings/DS_Workshops/blob/main/Python_Comprehensions.ipynb\" target=\"_parent\"><img src=\"https://colab.research.google.com/assets/colab-badge.svg\" alt=\"Open In Colab\"/></a>"
      ]
    },
    {
      "cell_type": "markdown",
      "source": [
        "# ***README***"
      ],
      "metadata": {
        "id": "QKije42KWj_u"
      }
    },
    {
      "cell_type": "markdown",
      "source": [
        "# Labs Data Science Workshop: Python Comprehensions\n",
        "\n",
        "### Workshop Outline\n",
        "0. Introduction & Motivation\n",
        "1. List Comprehensions\n",
        "2. Set Comprehensions\n",
        "3. Dictionary Comprehensions\n",
        "4. Generator Expressions\n",
        "\n",
        "## 0. Introduction & Motivation\n",
        "Comprehensions are one of the most useful features to come from Python. They make our\n",
        "code more condensed and readable than the for loops they replace. When\n",
        "Comprehensions were first introduced they lacked some performance, but today they're\n",
        "just as performant as a for loop, in fact in many cases - they're faster!\n",
        "\n",
        "But it's not about performance or efficiency - it's more about writing beautiful\n",
        "code. It's about being Pythonic by writing declarative rather than imperative\n",
        "code.\n",
        "\n",
        "- Imperative: tell Python how to do something, step by step.\n",
        "- Declarative: tell Python what to do, but let Python decide how.\n",
        "\n",
        "## 1. List Comprehensions\n",
        "List comprehensions replace many varieties of for-loops that seek to populate a\n",
        "list via iteration. List comprehensions do the same thing but with Pythonic style.\n",
        "In addition to allowing us to create simple lists we can also use List Comprehensions to do mapping and filtering. In fact, it's entirely possible to solve the popular FizBuzz coding challenge with one list comprehension.\n",
        "\n",
        "### Simple List Comprehension\n",
        "\n",
        "```\n",
        "arr = [i for i in range(10)]\n",
        "arr\n",
        "```\n",
        "\n",
        "Same resulting list as the next cell, but this isn't as good as the other one - it's not as \"Pythonic\".\n",
        "\n",
        "```\n",
        "arr = []\n",
        "for i in range(10):\n",
        "    arr.append(i)\n",
        "arr\n",
        "```\n",
        "\n",
        "### A List Comprehensions can replace `map`\n",
        "In this example we're mapping the integers from 0-9 to strings\n",
        "\n",
        "```\n",
        "arr = [str(i) for i in range(10)]\n",
        "arr\n",
        "```\n",
        "\n",
        "Same as this...\n",
        "\n",
        "```\n",
        "arr = list(map(str, range(10)))\n",
        "arr\n",
        "```\n",
        "\n",
        "Same as this for-loop code also... but this for-loop variant is considered ugly compared to the other two.\n",
        "\n",
        "```\n",
        "arr = []\n",
        "for i in range(10):\n",
        "    arr.append(str(i))\n",
        "arr\n",
        "```\n",
        "\n",
        "### List Comprehensions can replace `filter`\n",
        "Here we're filtering out integers that aren't evenly dividable by 3\n",
        "\n",
        "```\n",
        "arr = [i for i in range(10) if i % 3 == 0]\n",
        "arr\n",
        "```\n",
        "\n",
        "### List Comprehensions can even replace `map` and `filter` at the same time\n",
        "Mapping integers to strings if the number is evenly dividable by 3\n",
        "\n",
        "```\n",
        "arr = [str(i) for i in range(10) if i % 3 == 0]\n",
        "arr\n",
        "```\n",
        "\n",
        "#### This time with even more complexity\n",
        "\n",
        "- If the number is evenly dividable by 3 include it as a string\n",
        "- If the result is not also evenly dividable by 2 we'll instead get \"NOPE\"\n",
        "\n",
        "```\n",
        "arr = [str(i) if i % 2 == 0 else \"NOPE\" for i in range(10) if i % 3 == 0]\n",
        "arr\n",
        "```\n",
        "\n",
        "Same as...\n",
        "\n",
        "```\n",
        "def transform(value: int) -> str:\n",
        "    if value % 2 == 0:\n",
        "        return str(value)\n",
        "    else:\n",
        "        return \"NOPE\"\n",
        "\n",
        "print(list(map(transform, filter(lambda x: x % 3 == 0, range(10)))))\n",
        "```\n",
        "\n",
        "Same as this too... but this one is terribly ugly. Pythonistas don't write code like this.\n",
        "\n",
        "```\n",
        "arr_1 = []\n",
        "for i in range(10):\n",
        "    if i % 3 == 0:\n",
        "        if i % 2 == 0:\n",
        "            arr_1.append(str(i))\n",
        "        else:\n",
        "            arr_1.append(\"NOPE\")\n",
        "\n",
        "print(arr_1)\n",
        "```\n",
        "\n",
        "As an exercise - try using a list comprehension to solve FizBuzz.\n",
        "FizBuzz:\n",
        "Iterate from 1 to 100\n",
        "If the number is evenly dividable by 3 print Fiz\n",
        "If the number is evenly dividable by 5 print Buzz\n",
        "If the number is evenly dividable by both 3 and 5 print FizBuzz\n",
        "Otherwise print the number\n",
        "\n",
        "***5-Minute Timer***\n",
        "\n",
        "```\n",
        "fizz_buzz = [\n",
        "    \"FizzBuzz\" if i % 15 == 0\n",
        "    else \"Fizz\" if i % 3 == 0\n",
        "    else \"Buzz\" if i % 5 == 0\n",
        "    else str(i)\n",
        "    for i in range(1, 101)\n",
        "]\n",
        "print(\"\\n\".join(fizz_buzz))\n",
        "```\n",
        "\n",
        "### Check for Understanding\n",
        "1. True or False. A list comprehension is slower than a for-loop that produces the same list?\n",
        "2. True or False. If I need to filter and/or transform values while constructing a list, I can use a list comprehension instead of a for-loop.\n",
        "\n",
        "### CFU Answers\n",
        "1. False. In recent versions of Python, comprehensions have better performance.\n",
        "2. True. List comprehensions can replace both filter and map.\n",
        "\n",
        "## 2. Set Comprehensions\n",
        "This works just like a list comprehension, but produces a set instead. The only difference is the style of brackets used.\n",
        "\n",
        "```\n",
        "set_1 = {str(i) for i in range(10) if i % 2 == 0}\n",
        "set_1\n",
        "```\n",
        "\n",
        "The following produces the same result, but it's slightly better, utilizing a fancy range with (start, stop, step)\n",
        "\n",
        "```\n",
        "set_1 = {str(i) for i in range(0, 10, 2)}\n",
        "set_1\n",
        "```\n",
        "\n",
        "### Check for Understanding\n",
        "1. True or False. Set comprehensions are expressed the same as list comprehensions but with curly brackets instead of square brackets.\n",
        "2. True or False. Sets created with a comprehension do not support set methods like regular sets; union for example.\n",
        "\n",
        "### CFU Answers\n",
        "1. True. They can support all the same filter and mapping features as well.\n",
        "2. False. Set comprehensions produce real sets with all the usual bells and whistles of sets.\n",
        "\n",
        "## 3. Dictionary Comprehensions\n",
        "\n",
        "### Dictionary Comprehension with Enumerate\n",
        "We've seen enumerate already, to spice things up - let's start enumerating at 10\n",
        "\n",
        "```\n",
        "dic = {k: v for k, v in enumerate(range(10), 10)}\n",
        "dic\n",
        "```\n",
        "\n",
        "### Dictionary Comprehension with Zip\n",
        "Mapping Uppercase to Lowercase\n",
        "\n",
        "```\n",
        "from string import ascii_uppercase, ascii_lowercase\n",
        "```\n",
        "\n",
        "Using the string library and a slice to get the first 10 letters of the alphabet, A-J\n",
        "\n",
        "```\n",
        "upper_arr = ascii_uppercase[:10]\n",
        "lower_arr = ascii_lowercase[:10]\n",
        "\n",
        "print(f\"{upper_arr=}\")\n",
        "print(f\"{lower_arr=}\")\n",
        "```\n",
        "\n",
        "Zip, like enumerate, works with any Iterable - including lists, strings, tuples and more!\n",
        "\n",
        "```\n",
        "alpha_dict = {k: v for k, v in zip(upper_arr, lower_arr)}\n",
        "alpha_dict\n",
        "```\n",
        "\n",
        "### Check for Understanding\n",
        "1. True or False. You must import a special library to do Dictionary Comprehensions\n",
        "2. True or False. Typically, in a dictionary comprehension `k` and `v` are variable names for a key and value of the dictionary.\n",
        "\n",
        "\n",
        "### CFU Answers\n",
        "1. False. Dictionary comprehensions are built into Python.\n",
        "2. True. Comprehensions are one place where super short variable names are quite common.\n",
        "\n",
        "## 4. Generator Expression or Not A Tuple Comprehension\n",
        " - A Generator is a type of Iterator\n",
        " - All Generators are Iterators, but not all Iterators are Generators\n",
        " - Iterators and Generators will remember where you leave off if you stop iterating early\n",
        " - We'll have a future Workshop about Iterators and Generators\n",
        "\n",
        "Generator expressions look like they should be tuple comprehensions, but they do not create tuples. Python does not have tuple comprehensions, instead we have generator expressions.\n",
        "\n",
        "First lets see how generators can be a bit confounding at times, and what to do about it. Notice the following cell doesn't print what you might expect. This is due to the fact that Iterators are lazy...in a good way! Also notice in the cell below we need to wrap the generator expression in parens. This is only required when the resulting code would be ambiguous or violate regular Python syntax without them.\n",
        "\n",
        "```\n",
        "gen = (str(i) for i in range(10) if i % 2 == 0)\n",
        "gen\n",
        "```\n",
        "\n",
        "To get the items out, we need to unpack them by iterating through the iterator or by casting to non-lazy type. Yet another way is to use the star operator.\n",
        "\n",
        "```\n",
        "for item in gen:\n",
        "    print(item)\n",
        "```\n",
        "\n",
        "Notice the following cell doesn't print anything at all,\n",
        "because the generator has been fully consumed in the previous cell.\n",
        "\n",
        "```\n",
        "for item in gen:\n",
        "    print(item)\n",
        "```\n",
        "\n",
        "The following shows another way to write a simple Iterator\n",
        "\n",
        "```\n",
        "iterator = iter(range(10))\n",
        "```\n",
        "\n",
        "Just 0-4\n",
        "\n",
        "```\n",
        "for item in iterator:\n",
        "    print(item, end=\", \")\n",
        "    if item >= 4:\n",
        "        break\n",
        "```\n",
        "\n",
        "And then later 5-9, this time with the star operator\n",
        "\n",
        "```\n",
        "print(*iterator, sep=\", \")\n",
        "```\n",
        "\n",
        "Notice the following won't print anything,\n",
        "just like the generator in a previous example, this iterator has been fully consumed!\n",
        "\n",
        "```\n",
        "for item in iterator:\n",
        "    print(item)\n",
        "```\n",
        "\n",
        "Note in the cell below we need to surround the generator expression with parens. This is to differentiate it from the star operator that comes before it.\n",
        "\n",
        "```\n",
        "print(*(str(i) for i in range(10) if i % 2 == 0))\n",
        "```\n",
        "\n",
        "Using a generator expression is generally better than constructing a list or tuple. This works for all functions that take an Iterable as input. This technique requires far less RAM, but it's also more elegant. In the code below we'll see two examples (`join` and `sum`), there are many others that work the same way, `any`, `all`, `min` and `max` for example.\n",
        "\n",
        "### Join with a Generator\n",
        "\n",
        "```\n",
        "print(\", \".join(str(i) for i in range(10)))\n",
        "```\n",
        "\n",
        "### Sum with a Generator\n",
        "Sum the squares of even numbers from 0 to 9\n",
        "\n",
        "```\n",
        "total = sum(i**2 for i in range(10) if i % 2 == 0)\n",
        "print(f\"{total = }\")  # Notice the spaces around `=` are maintained\n",
        "```\n",
        "\n",
        "### Check for Understanding\n",
        "1. True or False. Tuple Comprehensions are just like list comprehensions but with parens instead of square brackets.\n",
        "2. True or False. Generator Expressions must have surrounding parenthesis.\n",
        "3. True or False. Sum is supposed to take a sequence, so you must first transform a generator expression into a list or tuple to use it with `sum`.\n",
        "\n",
        "### CFU Answers\n",
        "1. False. Python does not have Tuple Comprehensions.\n",
        "2. False. You only use parens when the generator expression needs them. For example when you want to assign it to a variable, or use the star operator to unpack it immediately or any other time Python can't otherwise tell where it begins and ends.\n",
        "3. False. Passing a generator expression to a builtin function is generally better than constructing a list first."
      ],
      "metadata": {
        "id": "-qJSP2CrWT5D"
      }
    },
    {
      "cell_type": "markdown",
      "source": [
        "\n",
        "\n",
        "---\n",
        "\n",
        "---\n",
        "\n",
        "\n",
        "\n",
        "---\n",
        "\n",
        "\n",
        "\n",
        "---\n",
        "\n",
        "\n",
        "\n",
        "---\n",
        "\n",
        "\n",
        "\n",
        "---\n",
        "\n",
        "\n",
        "\n",
        "---\n",
        "\n",
        "\n",
        "\n",
        "\n",
        "\n",
        "---\n",
        "\n"
      ],
      "metadata": {
        "id": "cImwscIhWgOF"
      }
    },
    {
      "cell_type": "markdown",
      "source": [
        "# ***dict_comps.py***"
      ],
      "metadata": {
        "id": "dfd64rwIWolR"
      }
    },
    {
      "cell_type": "code",
      "execution_count": 2,
      "metadata": {
        "colab": {
          "base_uri": "https://localhost:8080/"
        },
        "id": "la50SdvqVsgJ",
        "outputId": "58ae94c3-c1ff-4aa2-ab26-d8373f2fd325"
      },
      "outputs": [
        {
          "output_type": "stream",
          "name": "stdout",
          "text": [
            "{'A': 0, 'B': 1, 'C': 2, 'D': 3, 'E': 4, 'F': 5, 'G': 6, 'H': 7, 'I': 8, 'J': 9}\n"
          ]
        },
        {
          "output_type": "execute_result",
          "data": {
            "text/plain": [
              "{'A': 'a',\n",
              " 'B': 'b',\n",
              " 'C': 'c',\n",
              " 'D': 'd',\n",
              " 'E': 'e',\n",
              " 'F': 'f',\n",
              " 'G': 'g',\n",
              " 'H': 'h',\n",
              " 'I': 'i',\n",
              " 'J': 'j'}"
            ]
          },
          "metadata": {},
          "execution_count": 2
        }
      ],
      "source": [
        "\"\"\" Dictionary Comprehensions \"\"\"\n",
        "from string import ascii_uppercase, ascii_lowercase\n",
        "\n",
        "# Notice that we're flipping the order of char and idx.\n",
        "# We're doing this because enumerate give us the idx first,\n",
        "# but we want char to be the key.\n",
        "dict_comp = {char: idx for idx, char in enumerate(ascii_uppercase[:10])}\n",
        "print(dict_comp)\n",
        "\n",
        "\n",
        "# What if we'd like to use some other mapping scheme?\n",
        "# Uppercase to lowercase for example\n",
        "a_j_upper = ascii_uppercase[:10]\n",
        "a_j_lower = ascii_lowercase[:10]\n",
        "case_map = {k: v for k, v in zip(a_j_upper, a_j_lower)}\n",
        "case_map"
      ]
    },
    {
      "cell_type": "markdown",
      "source": [
        "# ***list_comps.py***"
      ],
      "metadata": {
        "id": "RrxDqC5uW1cO"
      }
    },
    {
      "cell_type": "code",
      "source": [
        "\"\"\" List Comprehensions\n",
        "- Basic Comprehension\n",
        "- Transform\n",
        "- Filter\n",
        "- Transform & Filter\n",
        "- Performance\n",
        "\"\"\"\n",
        "from typing import List\n",
        "from MonkeyScope import timer\n",
        "\n",
        "\n",
        "# Basic List Comprehension\n",
        "arr_0 = [i for i in range(10)]\n",
        "print(arr_0)\n",
        "# For such a simple procedure it's actually better to do this: `list(range(10))`\n",
        "\n",
        "\n",
        "# Transform - Plus one, this replaces `map`\n",
        "arr_1 = [i + 1 for i in range(10)]\n",
        "print(arr_1)  # [1, 2, 3, 4, 5, 6, 7, 8, 9, 10]\n",
        "\n",
        "\n",
        "# Filter - Even numbers only, this replaces `filter`\n",
        "arr_2 = [i for i in range(10) if i % 2 == 0]\n",
        "print(arr_2)  # [0, 2, 4, 6, 8]\n",
        "\n",
        "\n",
        "# Transform & Filter - Square of Evens\n",
        "# Notice how the filter happens first - very efficient\n",
        "# Also notice that we do not get an `else` clause here\n",
        "arr_3 = [i**2 for i in range(10) if i % 2 == 0]\n",
        "print(arr_3)  # [0, 4, 16, 36, 64]\n",
        "\n",
        "\n",
        "# Performance Analysis\n",
        "\n",
        "def make_list(n: int) -> List[int]:\n",
        "    result = []\n",
        "    for i in range(n):\n",
        "        result.append(n)\n",
        "    return result\n",
        "\n",
        "\n",
        "def make_comp(n: int) -> List[int]:\n",
        "    return [i for i in range(n)]\n",
        "\n",
        "\n",
        "if __name__ == '__main__':\n",
        "    # Performance will vary from one machine to another\n",
        "    timer(make_list, 1000)  # Typical Timing: 49567 ± 941 ns\n",
        "    timer(make_comp, 1000)  # Typical Timing: 23358 ± 734 ns"
      ],
      "metadata": {
        "id": "7e3x-CS_XBOq"
      },
      "execution_count": null,
      "outputs": []
    },
    {
      "cell_type": "markdown",
      "source": [
        "# ***tuple_comps.py***"
      ],
      "metadata": {
        "id": "vgwuLAEwXDzq"
      }
    },
    {
      "cell_type": "code",
      "source": [
        "\"\"\" Other Comprehension-like Syntax\n",
        "There are no tuple comprehensions in Python!\n",
        "    (i + 1 for i in range(10))\n",
        "While this might look like a tuple comprehension, it's not.\n",
        "Instead, this syntax can be used to define a generator.\n",
        "More precisely it's called a generator expression. \"\"\"\n",
        "\n",
        "\n",
        "# Generator Expression - AKA Not A Tuple Comprehension\n",
        "gen_1 = (str(i + 1) for i in range(10))\n",
        "print(gen_1, \"\\n\")  # Note this doesn't print what you might expect.\n",
        "print(\"; \".join(gen_1))  # We need to `consume` the generator\n",
        "# The thing about Generators is that you can only consume them once!\n",
        "print(\"; \".join(gen_1))  # This will print a blank line,\n",
        "# because this Generator has been emptied in the previous print statement.\n",
        "\n",
        "# This is the closest thing to a Tuple Comprehension we have in Python\n",
        "# Technically this is a generator expression passed to the tuple type\n",
        "tup = tuple(i + 1 for i in range(10))\n",
        "print(f\"{tup = }\\n\")\n",
        "\n",
        "\"\"\" In Python we can use simular syntax for other computing needs.\n",
        "Its not always about data structures. \"\"\"\n",
        "\n",
        "# Sum Comprehension\n",
        "# total = sum((i**2 for i in range(10)))  # The extra parens are not needed\n",
        "total = sum(i**2 for i in range(10))  # This is the same as above\n",
        "print(f\"{total = }\\n\")\n",
        "\n",
        "# Any & All Comprehensions\n",
        "all_even = all(i % 2 == 0 for i in range(0, 10))\n",
        "print(f\"{all_even = }\")  # False\n",
        "any_even = (i % 2 == 0 for i in range(0, 10))\n",
        "print(f\"{any_even = }\")  # True"
      ],
      "metadata": {
        "id": "hLHWtn3rXKIa"
      },
      "execution_count": null,
      "outputs": []
    },
    {
      "cell_type": "markdown",
      "source": [
        "## FOLLOW ALONG\n",
        "* LIST COMPREHENSIONS BELOW ME"
      ],
      "metadata": {
        "id": "pKgDvEKHXdSS"
      }
    },
    {
      "cell_type": "code",
      "source": [
        "arr = [i for i in range(1, 4)]\n",
        "print(arr)"
      ],
      "metadata": {
        "colab": {
          "base_uri": "https://localhost:8080/"
        },
        "id": "3h8ltJGKXe7A",
        "outputId": "cba7114b-d148-4273-a877-19127d0b52ef"
      },
      "execution_count": 4,
      "outputs": [
        {
          "output_type": "stream",
          "name": "stdout",
          "text": [
            "[1, 2, 3]\n"
          ]
        }
      ]
    },
    {
      "cell_type": "code",
      "source": [
        "arr = [i+1 for i in range(1, 4)]\n",
        "print(arr)"
      ],
      "metadata": {
        "colab": {
          "base_uri": "https://localhost:8080/"
        },
        "id": "-C9ynrURXi9g",
        "outputId": "60d65c8f-2403-4625-d4d9-d1cbe5104621"
      },
      "execution_count": 5,
      "outputs": [
        {
          "output_type": "stream",
          "name": "stdout",
          "text": [
            "[2, 3, 4]\n"
          ]
        }
      ]
    },
    {
      "cell_type": "code",
      "source": [
        "arr = [i+1 for i in range(1, 4) if i % 2 == 0]\n",
        "print(arr,'\\n')\n",
        "\"\"\"Order: 1.)  'for i in range(1, 4)'\n",
        "          2.)  'if i % 2 == 0'\n",
        "          3.)  'i+1'\n",
        "\"\"\""
      ],
      "metadata": {
        "colab": {
          "base_uri": "https://localhost:8080/",
          "height": 70
        },
        "id": "VtdP4p4hXwxV",
        "outputId": "75894f6a-2fb7-4bef-c471-42a2519725dc"
      },
      "execution_count": 11,
      "outputs": [
        {
          "output_type": "stream",
          "name": "stdout",
          "text": [
            "[3] \n",
            "\n"
          ]
        },
        {
          "output_type": "execute_result",
          "data": {
            "text/plain": [
              "\"Order: 1.)  'for i in range(1, 4)'\\n          2.)  'if i % 2 == 0'\\n          3.)  'i+1'\\n\""
            ],
            "application/vnd.google.colaboratory.intrinsic+json": {
              "type": "string"
            }
          },
          "metadata": {},
          "execution_count": 11
        }
      ]
    },
    {
      "cell_type": "code",
      "source": [
        "arr = [i + 1 if 1 == 2 else \"None\" for i in range(1, 4) if i % 2 == 0]\n",
        "print(arr)"
      ],
      "metadata": {
        "colab": {
          "base_uri": "https://localhost:8080/"
        },
        "id": "vpYs4WkQX1IA",
        "outputId": "7725cb4b-26c1-4e1b-a8e7-4b8db3f74071"
      },
      "execution_count": 12,
      "outputs": [
        {
          "output_type": "stream",
          "name": "stdout",
          "text": [
            "['None']\n"
          ]
        }
      ]
    },
    {
      "cell_type": "markdown",
      "source": [
        "\n",
        "\n",
        "---\n",
        "\n",
        "\n",
        "\n",
        "---\n",
        "\n",
        "\n",
        "\n",
        "---\n",
        "\n",
        "\n",
        "\n",
        "---\n",
        "\n"
      ],
      "metadata": {
        "id": "YCUtuN6PegNr"
      }
    },
    {
      "cell_type": "markdown",
      "source": [
        "* DICTIONARY COMPREHENSIONS BELOW ME"
      ],
      "metadata": {
        "id": "c7sSxjfTeVh4"
      }
    },
    {
      "cell_type": "code",
      "source": [
        "arr1 = [i for i in range(5)]\n",
        "arr2 = ['a', 'b', 'c', 'd', 'e']\n",
        "\n",
        "# Sort of Python's Version of Pandas TRANSPOSE Function\n",
        "dic = {key: val for key, val in zip(arr2, arr1)}\n",
        "print(dic)"
      ],
      "metadata": {
        "colab": {
          "base_uri": "https://localhost:8080/"
        },
        "id": "EosnhnYbZJe1",
        "outputId": "2fcd334f-766c-411b-9fb4-544b1764e9b6"
      },
      "execution_count": 13,
      "outputs": [
        {
          "output_type": "stream",
          "name": "stdout",
          "text": [
            "{'a': 0, 'b': 1, 'c': 2, 'd': 3, 'e': 4}\n"
          ]
        }
      ]
    },
    {
      "cell_type": "code",
      "source": [
        "dic = {key: val for key, val in zip(arr1, arr2)}\n",
        "print(dic)"
      ],
      "metadata": {
        "colab": {
          "base_uri": "https://localhost:8080/"
        },
        "id": "evJZQmcHfe7S",
        "outputId": "c9643c79-e65c-408c-8c19-8261263fdace"
      },
      "execution_count": 14,
      "outputs": [
        {
          "output_type": "stream",
          "name": "stdout",
          "text": [
            "{0: 'a', 1: 'b', 2: 'c', 3: 'd', 4: 'e'}\n"
          ]
        }
      ]
    },
    {
      "cell_type": "code",
      "source": [
        "dic = {key: val + 1 for key, val in zip(arr2, arr1)}\n",
        "print(dic)"
      ],
      "metadata": {
        "colab": {
          "base_uri": "https://localhost:8080/"
        },
        "id": "6FAl-SuSfjaZ",
        "outputId": "85a71012-c9da-4824-b1cc-bf6fb0c3bddd"
      },
      "execution_count": 15,
      "outputs": [
        {
          "output_type": "stream",
          "name": "stdout",
          "text": [
            "{'a': 1, 'b': 2, 'c': 3, 'd': 4, 'e': 5}\n"
          ]
        }
      ]
    },
    {
      "cell_type": "code",
      "source": [
        "arr3 = zip([1,2,3], [4,5,6])\n",
        "print(arr3, \"Shit!\")\n",
        "print(\"oooohhhh wait a tick!\")\n",
        "\n",
        "# Andy you're a STAR! \n",
        "print(*arr3, sep='\\n')"
      ],
      "metadata": {
        "colab": {
          "base_uri": "https://localhost:8080/"
        },
        "id": "bbGlYv0RfohG",
        "outputId": "9b1ac566-a73b-4eed-9112-4498ab621165"
      },
      "execution_count": 18,
      "outputs": [
        {
          "output_type": "stream",
          "name": "stdout",
          "text": [
            "<zip object at 0x7fc86e2fd4b0> Shit!\n",
            "oooohhhh wait a tick!\n",
            "(1, 4)\n",
            "(2, 5)\n",
            "(3, 6)\n"
          ]
        }
      ]
    },
    {
      "cell_type": "code",
      "source": [
        "a, b = [1, 2]\n",
        "print(a, b)"
      ],
      "metadata": {
        "colab": {
          "base_uri": "https://localhost:8080/"
        },
        "id": "_Cfa8QNffy1J",
        "outputId": "2f469c7d-c716-43c8-98c4-e6174d9743c0"
      },
      "execution_count": 19,
      "outputs": [
        {
          "output_type": "stream",
          "name": "stdout",
          "text": [
            "1 2\n"
          ]
        }
      ]
    },
    {
      "cell_type": "code",
      "source": [
        "a, b, *_ = [1,2,3,4,5]\n",
        "print(a,b)\n",
        "\n",
        "a, *_, b = [1,2,3,4,5]\n",
        "print(a,b)"
      ],
      "metadata": {
        "colab": {
          "base_uri": "https://localhost:8080/"
        },
        "id": "98p6XmyGgR_6",
        "outputId": "1095b534-d9e1-402c-b71b-8a4acf1d1f8a"
      },
      "execution_count": 21,
      "outputs": [
        {
          "output_type": "stream",
          "name": "stdout",
          "text": [
            "1 2\n",
            "1 5\n"
          ]
        }
      ]
    },
    {
      "cell_type": "markdown",
      "source": [
        "* ***Watch Out! GENERATOR EXPRESSIONS///COMPREHENSIONS BELOW ME***"
      ],
      "metadata": {
        "id": "Fd713YDKhZ1n"
      }
    },
    {
      "cell_type": "code",
      "source": [
        "arr = (i for i in range(10))\n",
        "\n",
        "for j in arr:\n",
        "    print(j)\n",
        "\n",
        "# Oh no!!! It consumed itself :(\n",
        "for j in arr:\n",
        "    print(j, \"POOF!\")\n",
        "\n",
        "print(\"POOF!\")  # Poofs and Pitfalls"
      ],
      "metadata": {
        "colab": {
          "base_uri": "https://localhost:8080/"
        },
        "id": "aboAfnG5gZHi",
        "outputId": "094fb124-a964-4f17-cc47-23d348dd125a"
      },
      "execution_count": 27,
      "outputs": [
        {
          "output_type": "stream",
          "name": "stdout",
          "text": [
            "0\n",
            "1\n",
            "2\n",
            "3\n",
            "4\n",
            "5\n",
            "6\n",
            "7\n",
            "8\n",
            "9\n",
            "POOF!\n"
          ]
        }
      ]
    },
    {
      "cell_type": "code",
      "source": [
        "from itertools import tee\n",
        "\n",
        "arr = (i for i in range(10))\n",
        "\n",
        "arr1, arr2 = tee(arr)\n",
        "for j in arr1:\n",
        "    print(j)\n",
        "\n",
        "# Oh no!!! It consumed itself :(\n",
        "for j in arr2:\n",
        "    print(j, \"POOF!\")\n",
        "\n",
        "print(\"POOF!\")  # Poofs and Pitfalls"
      ],
      "metadata": {
        "colab": {
          "base_uri": "https://localhost:8080/"
        },
        "id": "GpYq3X3XiKsO",
        "outputId": "aa569f11-a524-4e38-fedc-3de38ea70360"
      },
      "execution_count": 29,
      "outputs": [
        {
          "output_type": "stream",
          "name": "stdout",
          "text": [
            "0\n",
            "1\n",
            "2\n",
            "3\n",
            "4\n",
            "5\n",
            "6\n",
            "7\n",
            "8\n",
            "9\n",
            "0 POOF!\n",
            "1 POOF!\n",
            "2 POOF!\n",
            "3 POOF!\n",
            "4 POOF!\n",
            "5 POOF!\n",
            "6 POOF!\n",
            "7 POOF!\n",
            "8 POOF!\n",
            "9 POOF!\n",
            "POOF!\n"
          ]
        }
      ]
    },
    {
      "cell_type": "code",
      "source": [],
      "metadata": {
        "id": "bq8F_ZHuilyo"
      },
      "execution_count": null,
      "outputs": []
    }
  ]
}