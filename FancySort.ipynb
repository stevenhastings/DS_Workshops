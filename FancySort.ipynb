{
  "nbformat": 4,
  "nbformat_minor": 0,
  "metadata": {
    "colab": {
      "provenance": [],
      "collapsed_sections": [],
      "authorship_tag": "ABX9TyMEAm8BUdRyOuFNPJQRw4r7",
      "include_colab_link": true
    },
    "kernelspec": {
      "name": "python3",
      "display_name": "Python 3"
    },
    "language_info": {
      "name": "python"
    }
  },
  "cells": [
    {
      "cell_type": "markdown",
      "metadata": {
        "id": "view-in-github",
        "colab_type": "text"
      },
      "source": [
        "<a href=\"https://colab.research.google.com/github/stevenhastings/DS_Workshops/blob/main/FancySort.ipynb\" target=\"_parent\"><img src=\"https://colab.research.google.com/assets/colab-badge.svg\" alt=\"Open In Colab\"/></a>"
      ]
    },
    {
      "cell_type": "markdown",
      "source": [
        "# Data Science Workshop - Fancy Sort\n",
        "\n",
        "\n",
        "## 0. Introduction and Motivation\n",
        "Let's say we have a list of users that we get from some database, and our job is to sort them. Sounds simple, right? The trick is that our manager wants us to sort first by one field then by another and so on without using Pandas. Maybe by age then last name then first name. Or if we're building a game it might be that we need to sort monsters by level then type or name. How do we do this elegantly and efficiently in \"vanilla\" Python?\n",
        "\n",
        "This workshop will walk through a sophisticated sorting procedure using Python's builtin `sort` method and `sorted` function. This lesson is not so much about the underlying sorting algorithm, but rather how to use Python's builtin sorting tools to their ultimate potential. The star of the show is the `key` parameter. But we will also discuss how to build classes that produce instance objects that are sortable by default - without using the `key` parameter.\n",
        "\n",
        "\n",
        "## 1. Sorted vs. Sort\n",
        "In this step we'll introduce Python's builtin sorting tools: `sort` and `sorted`. They both will sort a list and they both support the `key` parameter, we'll come back to the `key` parameter later on. Sort and Sorted are very similar but have subtle distinctions that can be very important. Sort is a method on the list object, where Sorted is a free function. But this isn't the only difference. Sort will destructively alter the list it is called on, where Sorted will return a new sorted list, non-destructively.\n",
        "\n",
        "In this context \"destructive\" does not mean the list may be deleted or items removed. It simply means rearranging the items in a list is a destructive operation because the original order is not preserved.\n",
        "\n",
        "In our example it doesn't matter which one we use - altering the list is perfectly fine because nothing in the rest of the app is relying on the original order of the list. However, this is not always the case. Occasionally we'll need to produce a new sorted list and retain the original order. When the original order doesn't matter - the Sort method is preferred due to its lower memory requirements as it does the sorting \"in-place\" and doesn't make a copy where the Sorted function produces a copy and thus uses more memory. In either case the builtin sorting tools are considerably (several orders of magnitude) faster than anything we could write ourselves in Python.\n",
        "\n",
        "Method: List.sort() - Modifies the list (Destructive)\n",
        "Function: sorted(Iterable) - Returns a new sorted list from any iterable (Non-destructive)\n",
        "\n",
        "### See `code/intro.py` for the code\n",
        "\n",
        "### Check for Understanding\n",
        "1. What are the similarities between Sort and Sorted?\n",
        "2. What are the differences between Sort and Sorted?\n",
        "3. What does destructive mean in this context? Does it mean items may be removed from the list?\n",
        "\n",
        "## 2. The `key` Parameter\n",
        "The `key` parameter is a function, method or lambda that will serve as means to convert un-sortable objects into sortable objects, on the fly. It can also be used to sort items by unusual criteria, like sorting all odd numbers to the front of a list.\n",
        "\n",
        "### See `code/odd_before_even.py` for the code.\n",
        "\n",
        "### Signatures\n",
        "```Sorted: sorted(Iterable, key: Optional[Callable]) -> List```\n",
        "\n",
        "```Sort: List.sort(key: Optional[Callable]) -> None```\n",
        "\n",
        "```key: Callable(Any) -> Sortable```\n",
        "\n",
        "Sortable is defined by any object that supports the less-than operator via a special dunder method aka magic method. We'll see how to implement this magic method on a custom class in the next step.\n",
        "\n",
        "### Check for Understanding\n",
        "1. What are the three types of Callables in Python?\n",
        "2. What does the `reverse` parameter do in both Sort and Sorted?\n",
        "3. What makes an object Sortable?\n",
        "\n",
        "## 3. Sorting Un-sortable Class Objects\n",
        "For this example we will sort a list of random Monsters. Each Monster has these fields: Level and Name, both fields are randomly generated. For this example we'll use a Lambda Callable for our `key` parameter, but it works the same way as if it was a function. The Callable may take a Sortable or Un-sortable object as input and returns a Sortable object as output. The sort procedure then uses this new Sortable object to do the sorting and produce the final order.\n",
        "\n",
        "### See `code/monster_sort.py` for the code\n",
        "\n",
        "### Check for Understanding\n",
        "1. Is it possible to sort a list of un-sortable class objects without altering the class definition?\n",
        "2. Is it possible to lexicographically sort a list on more than two fields?\n",
        "3. True or False: If you have a list of un-sortable objects you must use the Sort method and not the Sorted function to sort those objects.\n",
        "\n",
        "## 4. Sortable Custom Class\n",
        "To make a custom class Sortable all we need to do is implement the \"less-than\" dunder method. This method should take one input (typically another object like the one being defined) and return a boolean that indicates if this one is less than the other one. This works with polymorphic hierarchies of classes not just exact matches.\n",
        "\n",
        "*Talk a bit about Polymorphism if there are folks in the audience that need a refresher. You should also mention the many other magic methods that Python has to offer, and encourage them to dig deeper - designing magic methods is a valuable skill. You can also hint at an upcoming DS Workshop called Algebraic Data Types where we deep dive on why and how magic methods can be particularly useful for modeling mathematical data objects. One such object type that everyone should be familiar with is Python's `int` type. Explain how writing a Sortable Class is halfway to creating an Algebraic Data Type.*\n",
        "\n",
        "### See `code/sortable_type.py` for the code\n",
        "\n",
        "### Check for Understanding\n",
        "1. How can we alter a custom class to make its instance objects Sortable.\n",
        "2. Is it possible to sort a list containing more than one type?\n",
        "3. What is the hallmark of an Algebraic Data Type?"
      ],
      "metadata": {
        "id": "LWRDJEsJjW5R"
      }
    },
    {
      "cell_type": "markdown",
      "source": [
        "\n",
        "\n",
        "---\n",
        "\n",
        "\n",
        "\n",
        "---\n",
        "\n",
        "\n",
        "\n",
        "---\n",
        "\n",
        "\n",
        "\n",
        "---\n",
        "\n",
        "\n",
        "\n",
        "---\n",
        "\n",
        "\n",
        "\n",
        "---\n",
        "\n"
      ],
      "metadata": {
        "id": "a0Lia31KjyfV"
      }
    },
    {
      "cell_type": "markdown",
      "source": [
        "# Check For Understanding - Answers\n",
        "\n",
        "### 1. CFU Answers\n",
        "1. Sort and Sorted will both sort a list. They both support the `key` parameter. Both are built into Python and don't have dependencies. Both are faster than what we could write ourselves due to their low level implementation in C.\n",
        "2. Sort is a method on the List object, where Sorted is a free function. Sort is destructive and Sorted is not. Sort can only be used on Lists, but Sorted can be used on any Iterable. The Sorted function generally uses more memory than the Sort method due to the fact that Sorted makes a copy of the data.\n",
        "3. No, \"destructive\" does not mean items might be removed. It simply refers to rearranging the items in the list. Nothing is deleted - but in the end, it's not exactly the same list.\n",
        "\n",
        "### 2. CFU Answers\n",
        "1. Function, Method, Lambda\n",
        "2. The `reverse` parameter, when set to True, reverses the order of a sort procedure in a more efficient way than reversing the order after running the sort procedure. This is only partially true due to Python's awesome handling of iterators. But that's a story for another time!\n",
        "3. A Sortable object implements the \"less-than\" operator: `def __lt__(self, other) -> bool`. This means that the builtin `<` operator will work as it does with numbers or strings.\n",
        "\n",
        "### 3. CFU Answers\n",
        "1. Yes. One way is to define the `key` parameter with either of the sort procedures.\n",
        "2. Yes. There is no hard limit to the number of fields used.\n",
        "3. False. Both Sort and Sorted have the ability to support the `key` parameter.\n",
        "\n",
        "### 4. CFU Answers\n",
        "1. You can define the \"less-than\" magic method on the custom class. This method takes another object like this one as input and must return a boolean to indicate if this one should come first (True) or not (False).\n",
        "2. Yes, but the objects must be polymorphic, and it should seem logical and feel natural to do this sorting. Just because we can, doesn't mean we should.\n",
        "3. An object that supports Python's builtin mathematical operators such as +, -, *, /, //, % etc."
      ],
      "metadata": {
        "id": "4VRqIYLkjvB5"
      }
    },
    {
      "cell_type": "markdown",
      "source": [
        "# ***Intro.py***"
      ],
      "metadata": {
        "id": "CLWHUyLIj8pp"
      }
    },
    {
      "cell_type": "code",
      "execution_count": null,
      "metadata": {
        "id": "_Cq11wkTjUmY"
      },
      "outputs": [],
      "source": [
        "\"\"\" Fancy Sort\n",
        "Method: List.sort() - Modifies the list (Destructive)\n",
        "Function: sorted(List) - Returns a new sorted list (Non-destructive)\n",
        "\"\"\"\n",
        "\n",
        "arr_1 = [2, 9, 1, 8, 3, 7, 4, 6, 5]\n",
        "arr_1.sort()\n",
        "print(f\"Same list with new order: {arr_1=}\")\n",
        "# The equals sign after the variable name will change the way it prints\n",
        "# It adds the variable name to the printout: `arr_1=[1, 2, 3, 4, 5, 6, 7, 8, 9]`\n",
        "\n",
        "arr_2 = [2, 9, 1, 8, 3, 7, 4, 6, 5]\n",
        "arr_3 = sorted(arr_2)\n",
        "print(f\"Original list with old order: {arr_2=}\")\n",
        "print(f\"New list with new order: {arr_3=}\")"
      ]
    },
    {
      "cell_type": "markdown",
      "source": [
        "# ***Monster_Sort.py***"
      ],
      "metadata": {
        "id": "74zLya--kIkD"
      }
    },
    {
      "cell_type": "code",
      "source": [
        "from random import randint, choice\n",
        "\n",
        "\n",
        "class Monster:\n",
        "    monster_names = (\n",
        "        \"Goblin\",\n",
        "        \"Troll\",\n",
        "        \"Ogre\",\n",
        "        \"Giant\",\n",
        "        \"Vampire\",\n",
        "        \"Dragon\",\n",
        "    )\n",
        "\n",
        "    def __init__(self):\n",
        "        self.name = choice(self.monster_names)\n",
        "        self.level = randint(1, 10)\n",
        "\n",
        "    def __repr__(self):\n",
        "        return f\"Monster({self.name}, {self.level})\"\n",
        "\n",
        "\n",
        "if __name__ == '__main__':\n",
        "    # How can we sort this list of random Monsters?\n",
        "    monsters = [Monster() for _ in range(10)]\n",
        "    print(\"Unsorted:\")\n",
        "    print(monsters)\n",
        "    # print(sorted(monsters))  # Note: this doesn't work!\n",
        "\n",
        "    print(\"Sorted by Level:\")\n",
        "    print(sorted(monsters, key=lambda x: x.level))\n",
        "    print(\"Sorted by Name:\")\n",
        "    print(sorted(monsters, key=lambda x: x.name))\n",
        "\n",
        "    # What if we want to sort first by level then within each level sort by name?\n",
        "    print(\"Sorted by Level then Name:\")\n",
        "    print(sorted(monsters, key=lambda x: (x.level, x.name)))\n",
        "    # The above example demonstrates that tuples are lexicographically sortable\n",
        "    # The key parameter simply packages a tuple for us on the fly"
      ],
      "metadata": {
        "id": "TnRy5hu3kMaI"
      },
      "execution_count": null,
      "outputs": []
    },
    {
      "cell_type": "markdown",
      "source": [
        "# ***Odd_Before_Even.py***"
      ],
      "metadata": {
        "id": "2FtV8DaEkSPg"
      }
    },
    {
      "cell_type": "code",
      "source": [
        "def odd_before_even(value: int) -> bool:\n",
        "    \"\"\" Returns False if the value is odd, and True if it is even. We can\n",
        "    count on the natural ordering of Booleans to use this as a `key` parameter\n",
        "    in either of the sort procedures. False is like 0, and True is like 1, so\n",
        "    this means odd numbers will be placed at the front of the list. \"\"\"\n",
        "    return value % 2 == 0\n",
        "\n",
        "\n",
        "arr_4 = [2, 9, 1, 8, 3, 7, 4, 6, 5]\n",
        "arr_4.sort(key=odd_before_even)\n",
        "print(arr_4)\n",
        "\n",
        "\"\"\" If we want even numbers to be up front, then we have two choices. \n",
        "Either we can write a new function `even_before_odd` where we invert the logic,\n",
        "or we can use `odd_before_even` with the `reverse=True` parameter \"\"\"\n",
        "\n",
        "\n",
        "def even_before_odd(value: int) -> bool:\n",
        "    \"\"\" Returns True if the value is odd, and False if it is even. We can\n",
        "    count on the natural ordering of Booleans to use this as a `key` parameter\n",
        "    in either of the sort procedures. False is like 0, and True is like 1, so\n",
        "    this means even numbers will be placed at the front of the list. \"\"\"\n",
        "    return value % 2 != 0\n",
        "\n",
        "\n",
        "arr_4.sort(key=even_before_odd)\n",
        "print(arr_4)\n",
        "\n",
        "arr_4.sort(key=odd_before_even, reverse=True)\n",
        "print(arr_4)"
      ],
      "metadata": {
        "id": "YnxMDUf7kUpk"
      },
      "execution_count": null,
      "outputs": []
    },
    {
      "cell_type": "markdown",
      "source": [
        "# ***Sortable_type.py***"
      ],
      "metadata": {
        "id": "J_nOakv-kaKJ"
      }
    },
    {
      "cell_type": "code",
      "source": [
        "%%capture\n",
        "!pip install Fortuna"
      ],
      "metadata": {
        "id": "t610pK-3OdgH"
      },
      "execution_count": 6,
      "outputs": []
    },
    {
      "cell_type": "code",
      "source": [
        "from Fortuna import shuffle\n",
        "\n",
        "\n",
        "class ValueType:\n",
        "\n",
        "    def __init__(self, value):\n",
        "        self.value = value\n",
        "\n",
        "    def __lt__(self, other):\n",
        "        return self.value < other.value\n",
        "\n",
        "    def __repr__(self):\n",
        "        return f\"Value({self.value})\"\n",
        "\n",
        "\n",
        "class OtherValueType(ValueType):\n",
        "\n",
        "    def __repr__(self):\n",
        "        return f\"OtherValueType({self.value})\"\n",
        "\n",
        "\n",
        "if __name__ == '__main__':\n",
        "    print(\"Sorting Sortable Values\")\n",
        "    arr = [ValueType(i) for i in range(10)]\n",
        "    shuffle(arr)\n",
        "    sorted_arr = sorted(arr)\n",
        "    print(arr)\n",
        "    print(sorted_arr)\n",
        "    print()\n",
        "    print(\"Mixing Polymorphic Types\")\n",
        "    arr.append(OtherValueType(0))\n",
        "    sorted_arr = sorted(arr)\n",
        "    print(arr)\n",
        "    print(sorted_arr)"
      ],
      "metadata": {
        "colab": {
          "base_uri": "https://localhost:8080/"
        },
        "id": "fqqez9fskcWP",
        "outputId": "53313287-2fd6-4045-8d83-af5d664c52ec"
      },
      "execution_count": 9,
      "outputs": [
        {
          "output_type": "stream",
          "name": "stdout",
          "text": [
            "Sorting Sortable Values\n",
            "[Value(4), Value(3), Value(5), Value(2), Value(0), Value(8), Value(1), Value(9), Value(6), Value(7)]\n",
            "[Value(0), Value(1), Value(2), Value(3), Value(4), Value(5), Value(6), Value(7), Value(8), Value(9)]\n",
            "\n",
            "Mixing Polymorphic Types\n",
            "[Value(4), Value(3), Value(5), Value(2), Value(0), Value(8), Value(1), Value(9), Value(6), Value(7), OtherValueType(0)]\n",
            "[Value(0), OtherValueType(0), Value(1), Value(2), Value(3), Value(4), Value(5), Value(6), Value(7), Value(8), Value(9)]\n"
          ]
        }
      ]
    },
    {
      "cell_type": "markdown",
      "source": [
        "# Follow Along"
      ],
      "metadata": {
        "id": "Y2EM3CXTmBkQ"
      }
    },
    {
      "cell_type": "code",
      "source": [
        "arr = [(3, 2, 1), (2, 1, 3), (3, 1, 2)]\n",
        "arr.sort()"
      ],
      "metadata": {
        "id": "nOM1FNpZmDhJ"
      },
      "execution_count": 1,
      "outputs": []
    },
    {
      "cell_type": "markdown",
      "source": [
        "Lexographical Sorting"
      ],
      "metadata": {
        "id": "L3aPah4Jmjsw"
      }
    },
    {
      "cell_type": "code",
      "source": [
        "arr.sort()\n",
        "arr"
      ],
      "metadata": {
        "colab": {
          "base_uri": "https://localhost:8080/"
        },
        "id": "QqeGycUGmJYo",
        "outputId": "9828b1ce-36e7-421e-e274-d3d30c3e96e0"
      },
      "execution_count": 3,
      "outputs": [
        {
          "output_type": "execute_result",
          "data": {
            "text/plain": [
              "[(2, 1, 3), (3, 1, 2), (3, 2, 1)]"
            ]
          },
          "metadata": {},
          "execution_count": 3
        }
      ]
    },
    {
      "cell_type": "code",
      "source": [
        "def odd_before_even(n):\n",
        "    return n % 2 == 0\n",
        "\n",
        "arr_4 = [2, 9, 1, 8, 3, 7, 4, 6, 5]\n",
        "arr_4.sort(key=odd_before_even)\n",
        "print(arr_4)"
      ],
      "metadata": {
        "colab": {
          "base_uri": "https://localhost:8080/"
        },
        "id": "huKLuiO0mYVX",
        "outputId": "48a409d4-c679-42f4-acd0-6851d3ecdf8d"
      },
      "execution_count": 4,
      "outputs": [
        {
          "output_type": "stream",
          "name": "stdout",
          "text": [
            "[9, 1, 3, 7, 5, 2, 8, 4, 6]\n"
          ]
        }
      ]
    },
    {
      "cell_type": "code",
      "source": [
        "def even_before_odd(n):\n",
        "    return n % 2 != 0\n",
        "\n",
        "arr_5 = [2, 9, 1, 8, 3, 7, 4, 6, 5]\n",
        "arr_5.sort(key=even_before_odd)\n",
        "print(arr_5)"
      ],
      "metadata": {
        "colab": {
          "base_uri": "https://localhost:8080/"
        },
        "id": "SsUPSZyqnQqp",
        "outputId": "24312851-5ba0-43cd-b649-30d3c91887ac"
      },
      "execution_count": 6,
      "outputs": [
        {
          "output_type": "stream",
          "name": "stdout",
          "text": [
            "[2, 8, 4, 6, 9, 1, 3, 7, 5]\n"
          ]
        }
      ]
    },
    {
      "cell_type": "code",
      "source": [
        "from random import randint, choice\n",
        "\n",
        "class Monster:\n",
        "    monster_name = (\n",
        "        \"Goblin\",\n",
        "        \"Dragon\",\n",
        "        \"Vampire\",\n",
        "        \"Werewolf\",\n",
        "        \"Chupakabra\",\n",
        "        \"SlenderMan\",\n",
        "    )\n",
        "\n",
        "    def __init__(self):\n",
        "        self.name = choice(self.monster_name)\n",
        "        self.level = randint(1, 100)\n",
        "\n",
        "    def __repr__(self):\n",
        "        return f\"Monster({self.name}, {self.level})\"\n",
        "\n",
        "\n",
        "# arr = sorted([Monster() for _ in range(10)](key=lambda m: m.name))\n",
        "\n",
        "# OR #\n",
        "\n",
        "arr = [Monster() for _ in range(10)]\n",
        "arr.sort(key=lambda m: (m.level, m.name))\n",
        "\n",
        "arr     "
      ],
      "metadata": {
        "colab": {
          "base_uri": "https://localhost:8080/"
        },
        "id": "ERl4MSGqnkcN",
        "outputId": "d465a97a-7525-4945-b55c-cb4285f54d15"
      },
      "execution_count": 4,
      "outputs": [
        {
          "output_type": "execute_result",
          "data": {
            "text/plain": [
              "[Monster(Werewolf, 8),\n",
              " Monster(Werewolf, 10),\n",
              " Monster(SlenderMan, 14),\n",
              " Monster(Dragon, 18),\n",
              " Monster(Vampire, 24),\n",
              " Monster(Dragon, 49),\n",
              " Monster(Dragon, 72),\n",
              " Monster(Goblin, 80),\n",
              " Monster(SlenderMan, 80),\n",
              " Monster(SlenderMan, 95)]"
            ]
          },
          "metadata": {},
          "execution_count": 4
        }
      ]
    },
    {
      "cell_type": "code",
      "source": [
        "class SortableType:\n",
        "\n",
        "    def __init__(self, value):\n",
        "        self.value = value\n",
        "\n",
        "    def __lt__(self, other):\n",
        "        return self.value < other.value\n",
        "\n",
        "    def __repr__(self):\n",
        "        return f\"Value({self.value})\"\n",
        "\n",
        "\n",
        "s = [SortableType(i) for i in range(10)]\n",
        "shuffle(s)\n",
        "s.sort()\n",
        "print(s)"
      ],
      "metadata": {
        "colab": {
          "base_uri": "https://localhost:8080/"
        },
        "id": "b7oSeIP2Nd42",
        "outputId": "cb4c1402-011a-4509-9771-1bc004818af8"
      },
      "execution_count": 10,
      "outputs": [
        {
          "output_type": "stream",
          "name": "stdout",
          "text": [
            "[Value(0), Value(1), Value(2), Value(3), Value(4), Value(5), Value(6), Value(7), Value(8), Value(9)]\n"
          ]
        }
      ]
    },
    {
      "cell_type": "code",
      "source": [],
      "metadata": {
        "id": "pnemcl2gPB1l"
      },
      "execution_count": null,
      "outputs": []
    }
  ]
}