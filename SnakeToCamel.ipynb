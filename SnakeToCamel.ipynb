{
  "nbformat": 4,
  "nbformat_minor": 0,
  "metadata": {
    "colab": {
      "provenance": [],
      "collapsed_sections": [],
      "authorship_tag": "ABX9TyMa70YBM/qlqa2GqorQkaWX",
      "include_colab_link": true
    },
    "kernelspec": {
      "name": "python3",
      "display_name": "Python 3"
    },
    "language_info": {
      "name": "python"
    }
  },
  "cells": [
    {
      "cell_type": "markdown",
      "metadata": {
        "id": "view-in-github",
        "colab_type": "text"
      },
      "source": [
        "<a href=\"https://colab.research.google.com/github/stevenhastings/DS_Workshops/blob/main/SnakeToCamel.ipynb\" target=\"_parent\"><img src=\"https://colab.research.google.com/assets/colab-badge.svg\" alt=\"Open In Colab\"/></a>"
      ]
    },
    {
      "cell_type": "markdown",
      "source": [
        "# ***README.md***\n",
        "\n",
        "# Labs Data Science Workshop: Test Driven Development \n",
        "## Project: Snakes to Camels\n",
        "\n",
        "### Objective:\n",
        "- Design a function to transform snake-case names to camel-case names.\n",
        "- No more than one consecutive underscore will appear in the input.\n",
        "- Improve the design of our code by designing it from the outside in using TDD.\n",
        "\n",
        "### Key Topics:\n",
        "- Test Driven Development\n",
        "- Unit Tests vs Integration Tests\n",
        "- Problem-Solving Skills\n",
        "- DocTest vs Others\n",
        "- Iterators & Iterator Tools\n",
        "\n",
        "### TDD Loop\n",
        "1. Write a failing test\n",
        "2. Make the test pass in the most simple way possible\n",
        "3. Refactor your code\n",
        "4. Repeat as needed"
      ],
      "metadata": {
        "id": "0faJtxv65mob"
      }
    },
    {
      "cell_type": "markdown",
      "source": [
        "# ***start.py***"
      ],
      "metadata": {
        "id": "Vka9Q3pQ56ip"
      }
    },
    {
      "cell_type": "code",
      "source": [
        "\"\"\" Labs Data Science Workshop: snake_case to camelCase\n",
        "Objective:\n",
        "Design a function to transform snake-case names to camel-case names.\n",
        "No more than one consecutive underscore will appear in the input.\n",
        "Key Topics:\n",
        "- Test Driven Development\n",
        "- Problem-Solving Skills\n",
        "- Loops vs Iterators\n",
        "What are we building?\n",
        "Why are we building it?\n",
        "How do we build it?\n",
        "\"\"\""
      ],
      "metadata": {
        "colab": {
          "base_uri": "https://localhost:8080/",
          "height": 52
        },
        "id": "Qcmdlrjk6C4X",
        "outputId": "3f3848e8-b92e-4afe-fdc5-6204696bd619"
      },
      "execution_count": 1,
      "outputs": [
        {
          "output_type": "execute_result",
          "data": {
            "text/plain": [
              "' Labs Data Science Workshop: snake_case to camelCase\\nObjective:\\nDesign a function to transform snake-case names to camel-case names.\\nNo more than one consecutive underscore will appear in the input.\\nKey Topics:\\n- Test Driven Development\\n- Problem-Solving Skills\\n- Loops vs Iterators\\nWhat are we building?\\nWhy are we building it?\\nHow do we build it?\\n'"
            ],
            "application/vnd.google.colaboratory.intrinsic+json": {
              "type": "string"
            }
          },
          "metadata": {},
          "execution_count": 1
        }
      ]
    },
    {
      "cell_type": "markdown",
      "source": [
        "# ***working.py***"
      ],
      "metadata": {
        "id": "olAixus96DYs"
      }
    },
    {
      "cell_type": "code",
      "source": [
        "def snake_to_camel(text: str) -> str:\n",
        "    pass"
      ],
      "metadata": {
        "id": "F__ZrXYW6IzF"
      },
      "execution_count": 2,
      "outputs": []
    },
    {
      "cell_type": "markdown",
      "source": [
        "# ***final.py***"
      ],
      "metadata": {
        "id": "s4GAIhGQ6Jsv"
      }
    },
    {
      "cell_type": "code",
      "source": [
        "def snake_to_camel(text: str) -> str:\n",
        "    \"\"\"\n",
        "    DocTest\n",
        "    >>> snake_to_camel(\"\")\n",
        "    ''\n",
        "    >>> snake_to_camel(\"text\")\n",
        "    'text'\n",
        "    >>> snake_to_camel(\"some_text\")\n",
        "    'someText'\n",
        "    >>> snake_to_camel(\"this_other_text\")\n",
        "    'thisOtherText'\n",
        "    \"\"\"\n",
        "    char_gen = iter(text)\n",
        "    return \"\".join(\n",
        "        char if char != \"_\" else next(char_gen).title()\n",
        "        for char in char_gen\n",
        "    )\n",
        "\n",
        "\n",
        "if __name__ == \"__main__\":\n",
        "    import doctest\n",
        "    doctest.testmod(verbose=True)"
      ],
      "metadata": {
        "colab": {
          "base_uri": "https://localhost:8080/"
        },
        "id": "TKgXdmSR6SHH",
        "outputId": "071a4821-1aaf-43e6-e655-49be89cd88f1"
      },
      "execution_count": 3,
      "outputs": [
        {
          "output_type": "stream",
          "name": "stderr",
          "text": [
            "\n",
            "PYDEV DEBUGGER WARNING:\n",
            "sys.settrace() should not be used when the debugger is being used.\n",
            "This may cause the debugger to stop working correctly.\n",
            "If this is needed, please check: \n",
            "http://pydev.blogspot.com/2007/06/why-cant-pydev-debugger-work-with.html\n",
            "to see how to restore the debug tracing back correctly.\n",
            "Call Location:\n",
            "  File \"/usr/lib/python3.7/doctest.py\", line 1487, in run\n",
            "    sys.settrace(save_trace)\n",
            "\n"
          ]
        },
        {
          "output_type": "stream",
          "name": "stdout",
          "text": [
            "Trying:\n",
            "    snake_to_camel(\"\")\n",
            "Expecting:\n",
            "    ''\n",
            "ok\n",
            "Trying:\n",
            "    snake_to_camel(\"text\")\n",
            "Expecting:\n",
            "    'text'\n",
            "ok\n",
            "Trying:\n",
            "    snake_to_camel(\"some_text\")\n",
            "Expecting:\n",
            "    'someText'\n",
            "ok\n",
            "Trying:\n",
            "    snake_to_camel(\"this_other_text\")\n",
            "Expecting:\n",
            "    'thisOtherText'\n",
            "ok\n",
            "1 items had no tests:\n",
            "    __main__\n",
            "1 items passed all tests:\n",
            "   4 tests in __main__.snake_to_camel\n",
            "4 tests in 2 items.\n",
            "4 passed and 0 failed.\n",
            "Test passed.\n"
          ]
        }
      ]
    },
    {
      "cell_type": "code",
      "source": [
        "!pip install pypdf2"
      ],
      "metadata": {
        "colab": {
          "base_uri": "https://localhost:8080/"
        },
        "id": "4UtHK4LO-ZD5",
        "outputId": "c45a7bef-bf5e-44e3-bbf2-f9ef297594d2"
      },
      "execution_count": 7,
      "outputs": [
        {
          "output_type": "stream",
          "name": "stdout",
          "text": [
            "Looking in indexes: https://pypi.org/simple, https://us-python.pkg.dev/colab-wheels/public/simple/\n",
            "Collecting pypdf2\n",
            "  Downloading PyPDF2-2.11.1-py3-none-any.whl (220 kB)\n",
            "\u001b[K     |████████████████████████████████| 220 kB 7.1 MB/s \n",
            "\u001b[?25hRequirement already satisfied: typing-extensions>=3.10.0.0 in /usr/local/lib/python3.7/dist-packages (from pypdf2) (4.1.1)\n",
            "Installing collected packages: pypdf2\n",
            "Successfully installed pypdf2-2.11.1\n"
          ]
        }
      ]
    },
    {
      "cell_type": "code",
      "source": [
        "import pandas as pd \n",
        "from PyPDF2 import PdfFileReader"
      ],
      "metadata": {
        "id": "5gr06U1U6SiC"
      },
      "execution_count": 9,
      "outputs": []
    },
    {
      "cell_type": "code",
      "source": [
        "def extract_information(pdf_path):\n",
        "    with open(pdf_path, 'rb') as f:\n",
        "        pdf = PdFileReader(f)\n",
        "        information = pdf.getDocumentInfo()\n",
        "        number_of_pages = pdf.getNumPages()\n",
        "\n",
        "    txt = f\"\"\"\n",
        "    Information about {pdf_path}:\n",
        "\n",
        "    Author: {information.author}\n",
        "    Creator: {}"
      ],
      "metadata": {
        "id": "eqlTnvYJ9ylq"
      },
      "execution_count": null,
      "outputs": []
    }
  ]
}