{
  "nbformat": 4,
  "nbformat_minor": 0,
  "metadata": {
    "colab": {
      "provenance": [],
      "collapsed_sections": [],
      "authorship_tag": "ABX9TyNmSrG35pdF09tv3rxqGsCE",
      "include_colab_link": true
    },
    "kernelspec": {
      "name": "python3",
      "display_name": "Python 3"
    },
    "language_info": {
      "name": "python"
    }
  },
  "cells": [
    {
      "cell_type": "markdown",
      "metadata": {
        "id": "view-in-github",
        "colab_type": "text"
      },
      "source": [
        "<a href=\"https://colab.research.google.com/github/stevenhastings/DS_Workshops/blob/main/Generating_Mock_Data.ipynb\" target=\"_parent\"><img src=\"https://colab.research.google.com/assets/colab-badge.svg\" alt=\"Open In Colab\"/></a>"
      ]
    },
    {
      "cell_type": "code",
      "execution_count": 1,
      "metadata": {
        "colab": {
          "base_uri": "https://localhost:8080/"
        },
        "id": "bk6ENR0qK7XK",
        "outputId": "c51a188a-758e-4821-f78c-c671aa276e15"
      },
      "outputs": [
        {
          "output_type": "stream",
          "name": "stdout",
          "text": [
            "Looking in indexes: https://pypi.org/simple, https://us-python.pkg.dev/colab-wheels/public/simple/\n",
            "Collecting Fortuna\n",
            "  Downloading Fortuna-5.0.5.tar.gz (210 kB)\n",
            "\u001b[K     |████████████████████████████████| 210 kB 5.1 MB/s \n",
            "\u001b[?25h  Installing build dependencies ... \u001b[?25l\u001b[?25hdone\n",
            "  Getting requirements to build wheel ... \u001b[?25l\u001b[?25hdone\n",
            "    Preparing wheel metadata ... \u001b[?25l\u001b[?25hdone\n",
            "Building wheels for collected packages: Fortuna\n",
            "  Building wheel for Fortuna (PEP 517) ... \u001b[?25l\u001b[?25hdone\n",
            "  Created wheel for Fortuna: filename=Fortuna-5.0.5-cp37-cp37m-linux_x86_64.whl size=572230 sha256=be0451f8641dd68a76a534b82b953b617dcae623cc06bfb8cb7d39b2452e9a78\n",
            "  Stored in directory: /root/.cache/pip/wheels/09/05/4d/b9c9962f5bda56d159938d1ac335afdb2bbc47b5bcad6eca04\n",
            "Successfully built Fortuna\n",
            "Installing collected packages: Fortuna\n",
            "Successfully installed Fortuna-5.0.5\n"
          ]
        }
      ],
      "source": [
        "!pip install Fortuna"
      ]
    },
    {
      "cell_type": "code",
      "source": [
        "!pip install MonkeyScope"
      ],
      "metadata": {
        "colab": {
          "base_uri": "https://localhost:8080/"
        },
        "id": "4s2G-tQHLhMW",
        "outputId": "8053bfda-862c-438d-abc6-bace182f2e1a"
      },
      "execution_count": 2,
      "outputs": [
        {
          "output_type": "stream",
          "name": "stdout",
          "text": [
            "Looking in indexes: https://pypi.org/simple, https://us-python.pkg.dev/colab-wheels/public/simple/\n",
            "Collecting MonkeyScope\n",
            "  Downloading MonkeyScope-1.4.4.tar.gz (64 kB)\n",
            "\u001b[K     |████████████████████████████████| 64 kB 2.0 MB/s \n",
            "\u001b[?25h  Installing build dependencies ... \u001b[?25l\u001b[?25hdone\n",
            "  Getting requirements to build wheel ... \u001b[?25l\u001b[?25hdone\n",
            "    Preparing wheel metadata ... \u001b[?25l\u001b[?25hdone\n",
            "Building wheels for collected packages: MonkeyScope\n",
            "  Building wheel for MonkeyScope (PEP 517) ... \u001b[?25l\u001b[?25hdone\n",
            "  Created wheel for MonkeyScope: filename=MonkeyScope-1.4.4-cp37-cp37m-linux_x86_64.whl size=164678 sha256=875d42bc53ae1c05fc123c892a84f816eaf5e64ed050a94400c19713bcc5fc4d\n",
            "  Stored in directory: /root/.cache/pip/wheels/94/16/b2/f5362876169718becdaa85b6de728271fcfbfff898b135009b\n",
            "Successfully built MonkeyScope\n",
            "Installing collected packages: MonkeyScope\n",
            "Successfully installed MonkeyScope-1.4.4\n"
          ]
        }
      ]
    },
    {
      "cell_type": "code",
      "source": [
        "from Fortuna import random_int, percent_true"
      ],
      "metadata": {
        "id": "jUbPEQULLCBu"
      },
      "execution_count": 3,
      "outputs": []
    },
    {
      "cell_type": "code",
      "source": [
        "random_int(1, 20)"
      ],
      "metadata": {
        "colab": {
          "base_uri": "https://localhost:8080/"
        },
        "id": "weE9jRfFLE8Q",
        "outputId": "917d9f76-d210-4f8b-86c6-6b61514ac2fe"
      },
      "execution_count": 4,
      "outputs": [
        {
          "output_type": "execute_result",
          "data": {
            "text/plain": [
              "13"
            ]
          },
          "metadata": {},
          "execution_count": 4
        }
      ]
    },
    {
      "cell_type": "code",
      "source": [
        "random_track = lambda: \"Web\" if percent_true(80) else \"DS\""
      ],
      "metadata": {
        "id": "ct9SM7aULGjZ"
      },
      "execution_count": 5,
      "outputs": []
    },
    {
      "cell_type": "code",
      "source": [
        "random_track()"
      ],
      "metadata": {
        "colab": {
          "base_uri": "https://localhost:8080/",
          "height": 35
        },
        "id": "fRNx7ALaLX3S",
        "outputId": "5ade78fc-070f-49b2-9f1f-9f49cc46382b"
      },
      "execution_count": 6,
      "outputs": [
        {
          "output_type": "execute_result",
          "data": {
            "text/plain": [
              "'Web'"
            ],
            "application/vnd.google.colaboratory.intrinsic+json": {
              "type": "string"
            }
          },
          "metadata": {},
          "execution_count": 6
        }
      ]
    },
    {
      "cell_type": "code",
      "source": [
        "from MonkeyScope import distribution"
      ],
      "metadata": {
        "id": "4aaWLyLRLaDO"
      },
      "execution_count": 7,
      "outputs": []
    },
    {
      "cell_type": "code",
      "source": [
        "distribution(random_track)"
      ],
      "metadata": {
        "colab": {
          "base_uri": "https://localhost:8080/"
        },
        "id": "5ETIFnjOLpVi",
        "outputId": "d3ec0b6f-b3c7-465d-f69b-946a59103f52"
      },
      "execution_count": 8,
      "outputs": [
        {
          "output_type": "stream",
          "name": "stdout",
          "text": [
            "Distribution of 1000000 samples:\n",
            " DS: 19.9809%\n",
            " Web: 80.0191%\n"
          ]
        }
      ]
    },
    {
      "cell_type": "code",
      "source": [
        "random_gender = lambda: \"Male\" if percent_true(80) else \"Female\" if percent_true(90) else \"Non-binary\""
      ],
      "metadata": {
        "id": "MOv3LVJuLq4b"
      },
      "execution_count": 9,
      "outputs": []
    },
    {
      "cell_type": "code",
      "source": [
        "distribution(random_gender)"
      ],
      "metadata": {
        "colab": {
          "base_uri": "https://localhost:8080/"
        },
        "id": "3UtWAR27MCdm",
        "outputId": "09380adb-93f4-4622-94bf-5789fdc5459c"
      },
      "execution_count": 10,
      "outputs": [
        {
          "output_type": "stream",
          "name": "stdout",
          "text": [
            "Distribution of 1000000 samples:\n",
            " Female: 18.0469%\n",
            " Male: 79.9677%\n",
            " Non-binary: 1.9854%\n"
          ]
        }
      ]
    },
    {
      "cell_type": "code",
      "source": [
        "from Fortuna import front_poisson, RandomValue"
      ],
      "metadata": {
        "id": "UAKq3ONyMDqP"
      },
      "execution_count": 11,
      "outputs": []
    },
    {
      "cell_type": "code",
      "source": [
        "distribution(front_poisson, 20)"
      ],
      "metadata": {
        "colab": {
          "base_uri": "https://localhost:8080/"
        },
        "id": "GPO_gADoMgw2",
        "outputId": "55a81b0d-4a88-40ea-f757-00548da22194"
      },
      "execution_count": 12,
      "outputs": [
        {
          "output_type": "stream",
          "name": "stdout",
          "text": [
            "Statistics of 1000 samples:\n",
            " Minimum: 0\n",
            " Median: 5\n",
            " Maximum: 15\n",
            " Mean: 4.991\n",
            " Std Deviation: 2.27905969933065\n",
            "Distribution of 1000000 samples:\n",
            " 0: 0.6595%\n",
            " 1: 3.4016%\n",
            " 2: 8.4094%\n",
            " 3: 14.0487%\n",
            " 4: 17.5641%\n",
            " 5: 17.5714%\n",
            " 6: 14.6456%\n",
            " 7: 10.4281%\n",
            " 8: 6.5263%\n",
            " 9: 3.5884%\n",
            " 10: 1.7731%\n",
            " 11: 0.8261%\n",
            " 12: 0.3539%\n",
            " 13: 0.1333%\n",
            " 14: 0.049%\n",
            " 15: 0.0157%\n",
            " 16: 0.0037%\n",
            " 17: 0.0016%\n",
            " 18: 0.0003%\n",
            " 19: 0.0002%\n"
          ]
        }
      ]
    },
    {
      "cell_type": "code",
      "source": [
        "random_age = RandomValue(range(18, 61), front_poisson)"
      ],
      "metadata": {
        "id": "sRRjC2YPMiOm"
      },
      "execution_count": 13,
      "outputs": []
    },
    {
      "cell_type": "code",
      "source": [
        "random_age()"
      ],
      "metadata": {
        "colab": {
          "base_uri": "https://localhost:8080/"
        },
        "id": "SRE5XlwXMvXi",
        "outputId": "f8543c63-2401-42a2-8e77-c7901ce494bf"
      },
      "execution_count": 14,
      "outputs": [
        {
          "output_type": "execute_result",
          "data": {
            "text/plain": [
              "26"
            ]
          },
          "metadata": {},
          "execution_count": 14
        }
      ]
    },
    {
      "cell_type": "code",
      "source": [
        "distribution(random_age)"
      ],
      "metadata": {
        "colab": {
          "base_uri": "https://localhost:8080/"
        },
        "id": "JuVSVdsMM2hm",
        "outputId": "a0fe722f-5613-452f-92be-3e6a49970dd3"
      },
      "execution_count": 15,
      "outputs": [
        {
          "output_type": "stream",
          "name": "stdout",
          "text": [
            "Statistics of 1000 samples:\n",
            " Minimum: 20\n",
            " Median: 29\n",
            " Maximum: 39\n",
            " Mean: 28.879\n",
            " Std Deviation: 3.2941175161506018\n",
            "Distribution of 1000000 samples:\n",
            " 18: 0.0024%\n",
            " 19: 0.0238%\n",
            " 20: 0.1163%\n",
            " 21: 0.4392%\n",
            " 22: 1.2061%\n",
            " 23: 2.5756%\n",
            " 24: 4.621%\n",
            " 25: 7.0563%\n",
            " 26: 9.4917%\n",
            " 27: 11.34%\n",
            " 28: 12.1524%\n",
            " 29: 11.9016%\n",
            " 30: 10.6124%\n",
            " 31: 8.8215%\n",
            " 32: 6.7808%\n",
            " 33: 4.844%\n",
            " 34: 3.2611%\n",
            " 35: 2.0729%\n",
            " 36: 1.2502%\n",
            " 37: 0.696%\n",
            " 38: 0.3819%\n",
            " 39: 0.186%\n",
            " 40: 0.09%\n",
            " 41: 0.0445%\n",
            " 42: 0.0179%\n",
            " 43: 0.0091%\n",
            " 44: 0.0035%\n",
            " 45: 0.0011%\n",
            " 46: 0.0003%\n",
            " 47: 0.0002%\n",
            " 48: 0.0001%\n",
            " 49: 0.0001%\n"
          ]
        }
      ]
    },
    {
      "cell_type": "code",
      "source": [
        "from Fortuna import CumulativeWeightedChoice, RelativeWeightedChoice"
      ],
      "metadata": {
        "id": "D5L53_F1M4d9"
      },
      "execution_count": 16,
      "outputs": []
    },
    {
      "cell_type": "code",
      "source": [
        "class RandomUser:\n",
        "    # CLASS METHODS\n",
        "    random_age = RandomValue(\n",
        "        range(18, 60),\n",
        "        front_poisson,\n",
        "    )\n",
        "    # CLASS METHOD\n",
        "    random_track = CumulativeWeightedChoice((\n",
        "        (80, \"Web\"),\n",
        "        (100, \"DS\"),\n",
        "    ))\n",
        "    # CLASS METHOD\n",
        "    random_gender = RelativeWeightedChoice((\n",
        "        (80, \"Male\"),\n",
        "        (18, \"Female\"),\n",
        "        (2, \"Non-binary\")\n",
        "    ))\n",
        "\n",
        "    def __init__(self):\n",
        "        self.age = self.random_age()\n",
        "        self.track = self.random_track()\n",
        "        self.gender = self.random_gender()\n",
        "        \n",
        "    # Dunder/Magic Method\n",
        "    def __repr__(self):\n",
        "        output = (\n",
        "            f\"Track: {self.track}\",\n",
        "            f\"Age: {self.age}\",\n",
        "            f\"Gender: {self.gender}\",\n",
        "        )\n",
        "        return \"\\n\".join(output)\n",
        "\n",
        "    # Instance Method\n",
        "    def to_dict(self):\n",
        "        return {\n",
        "            \"Track\": self.track,\n",
        "            \"Age\": self.age,\n",
        "            \"Gender\": self.gender,\n",
        "        }"
      ],
      "metadata": {
        "id": "CJsjGzZBNM6g"
      },
      "execution_count": 17,
      "outputs": []
    },
    {
      "cell_type": "code",
      "source": [
        "user = RandomUser()\n",
        "user"
      ],
      "metadata": {
        "id": "7niYJl4LObaJ"
      },
      "execution_count": 17,
      "outputs": []
    },
    {
      "cell_type": "code",
      "source": [
        "import pandas as pd"
      ],
      "metadata": {
        "id": "-eeuYs4TS4Wl"
      },
      "execution_count": 18,
      "outputs": []
    },
    {
      "cell_type": "code",
      "source": [
        "df = pd.DataFrame(RandomUser().to_dict() for _ in range(10000000))\n",
        "\n",
        "df"
      ],
      "metadata": {
        "colab": {
          "base_uri": "https://localhost:8080/",
          "height": 424
        },
        "id": "lPhwAWnyS5-n",
        "outputId": "6190a003-1f50-4d86-e9d9-ba8c473ee07e"
      },
      "execution_count": 19,
      "outputs": [
        {
          "output_type": "execute_result",
          "data": {
            "text/plain": [
              "        Track  Age  Gender\n",
              "0         Web   28    Male\n",
              "1          DS   31    Male\n",
              "2         Web   29    Male\n",
              "3         Web   23    Male\n",
              "4         Web   33    Male\n",
              "...       ...  ...     ...\n",
              "9999995   Web   33    Male\n",
              "9999996   Web   31  Female\n",
              "9999997   Web   28  Female\n",
              "9999998    DS   26    Male\n",
              "9999999   Web   25    Male\n",
              "\n",
              "[10000000 rows x 3 columns]"
            ],
            "text/html": [
              "\n",
              "  <div id=\"df-f9f790f6-8467-41ac-b623-18feb237326e\">\n",
              "    <div class=\"colab-df-container\">\n",
              "      <div>\n",
              "<style scoped>\n",
              "    .dataframe tbody tr th:only-of-type {\n",
              "        vertical-align: middle;\n",
              "    }\n",
              "\n",
              "    .dataframe tbody tr th {\n",
              "        vertical-align: top;\n",
              "    }\n",
              "\n",
              "    .dataframe thead th {\n",
              "        text-align: right;\n",
              "    }\n",
              "</style>\n",
              "<table border=\"1\" class=\"dataframe\">\n",
              "  <thead>\n",
              "    <tr style=\"text-align: right;\">\n",
              "      <th></th>\n",
              "      <th>Track</th>\n",
              "      <th>Age</th>\n",
              "      <th>Gender</th>\n",
              "    </tr>\n",
              "  </thead>\n",
              "  <tbody>\n",
              "    <tr>\n",
              "      <th>0</th>\n",
              "      <td>Web</td>\n",
              "      <td>28</td>\n",
              "      <td>Male</td>\n",
              "    </tr>\n",
              "    <tr>\n",
              "      <th>1</th>\n",
              "      <td>DS</td>\n",
              "      <td>31</td>\n",
              "      <td>Male</td>\n",
              "    </tr>\n",
              "    <tr>\n",
              "      <th>2</th>\n",
              "      <td>Web</td>\n",
              "      <td>29</td>\n",
              "      <td>Male</td>\n",
              "    </tr>\n",
              "    <tr>\n",
              "      <th>3</th>\n",
              "      <td>Web</td>\n",
              "      <td>23</td>\n",
              "      <td>Male</td>\n",
              "    </tr>\n",
              "    <tr>\n",
              "      <th>4</th>\n",
              "      <td>Web</td>\n",
              "      <td>33</td>\n",
              "      <td>Male</td>\n",
              "    </tr>\n",
              "    <tr>\n",
              "      <th>...</th>\n",
              "      <td>...</td>\n",
              "      <td>...</td>\n",
              "      <td>...</td>\n",
              "    </tr>\n",
              "    <tr>\n",
              "      <th>9999995</th>\n",
              "      <td>Web</td>\n",
              "      <td>33</td>\n",
              "      <td>Male</td>\n",
              "    </tr>\n",
              "    <tr>\n",
              "      <th>9999996</th>\n",
              "      <td>Web</td>\n",
              "      <td>31</td>\n",
              "      <td>Female</td>\n",
              "    </tr>\n",
              "    <tr>\n",
              "      <th>9999997</th>\n",
              "      <td>Web</td>\n",
              "      <td>28</td>\n",
              "      <td>Female</td>\n",
              "    </tr>\n",
              "    <tr>\n",
              "      <th>9999998</th>\n",
              "      <td>DS</td>\n",
              "      <td>26</td>\n",
              "      <td>Male</td>\n",
              "    </tr>\n",
              "    <tr>\n",
              "      <th>9999999</th>\n",
              "      <td>Web</td>\n",
              "      <td>25</td>\n",
              "      <td>Male</td>\n",
              "    </tr>\n",
              "  </tbody>\n",
              "</table>\n",
              "<p>10000000 rows × 3 columns</p>\n",
              "</div>\n",
              "      <button class=\"colab-df-convert\" onclick=\"convertToInteractive('df-f9f790f6-8467-41ac-b623-18feb237326e')\"\n",
              "              title=\"Convert this dataframe to an interactive table.\"\n",
              "              style=\"display:none;\">\n",
              "        \n",
              "  <svg xmlns=\"http://www.w3.org/2000/svg\" height=\"24px\"viewBox=\"0 0 24 24\"\n",
              "       width=\"24px\">\n",
              "    <path d=\"M0 0h24v24H0V0z\" fill=\"none\"/>\n",
              "    <path d=\"M18.56 5.44l.94 2.06.94-2.06 2.06-.94-2.06-.94-.94-2.06-.94 2.06-2.06.94zm-11 1L8.5 8.5l.94-2.06 2.06-.94-2.06-.94L8.5 2.5l-.94 2.06-2.06.94zm10 10l.94 2.06.94-2.06 2.06-.94-2.06-.94-.94-2.06-.94 2.06-2.06.94z\"/><path d=\"M17.41 7.96l-1.37-1.37c-.4-.4-.92-.59-1.43-.59-.52 0-1.04.2-1.43.59L10.3 9.45l-7.72 7.72c-.78.78-.78 2.05 0 2.83L4 21.41c.39.39.9.59 1.41.59.51 0 1.02-.2 1.41-.59l7.78-7.78 2.81-2.81c.8-.78.8-2.07 0-2.86zM5.41 20L4 18.59l7.72-7.72 1.47 1.35L5.41 20z\"/>\n",
              "  </svg>\n",
              "      </button>\n",
              "      \n",
              "  <style>\n",
              "    .colab-df-container {\n",
              "      display:flex;\n",
              "      flex-wrap:wrap;\n",
              "      gap: 12px;\n",
              "    }\n",
              "\n",
              "    .colab-df-convert {\n",
              "      background-color: #E8F0FE;\n",
              "      border: none;\n",
              "      border-radius: 50%;\n",
              "      cursor: pointer;\n",
              "      display: none;\n",
              "      fill: #1967D2;\n",
              "      height: 32px;\n",
              "      padding: 0 0 0 0;\n",
              "      width: 32px;\n",
              "    }\n",
              "\n",
              "    .colab-df-convert:hover {\n",
              "      background-color: #E2EBFA;\n",
              "      box-shadow: 0px 1px 2px rgba(60, 64, 67, 0.3), 0px 1px 3px 1px rgba(60, 64, 67, 0.15);\n",
              "      fill: #174EA6;\n",
              "    }\n",
              "\n",
              "    [theme=dark] .colab-df-convert {\n",
              "      background-color: #3B4455;\n",
              "      fill: #D2E3FC;\n",
              "    }\n",
              "\n",
              "    [theme=dark] .colab-df-convert:hover {\n",
              "      background-color: #434B5C;\n",
              "      box-shadow: 0px 1px 3px 1px rgba(0, 0, 0, 0.15);\n",
              "      filter: drop-shadow(0px 1px 2px rgba(0, 0, 0, 0.3));\n",
              "      fill: #FFFFFF;\n",
              "    }\n",
              "  </style>\n",
              "\n",
              "      <script>\n",
              "        const buttonEl =\n",
              "          document.querySelector('#df-f9f790f6-8467-41ac-b623-18feb237326e button.colab-df-convert');\n",
              "        buttonEl.style.display =\n",
              "          google.colab.kernel.accessAllowed ? 'block' : 'none';\n",
              "\n",
              "        async function convertToInteractive(key) {\n",
              "          const element = document.querySelector('#df-f9f790f6-8467-41ac-b623-18feb237326e');\n",
              "          const dataTable =\n",
              "            await google.colab.kernel.invokeFunction('convertToInteractive',\n",
              "                                                     [key], {});\n",
              "          if (!dataTable) return;\n",
              "\n",
              "          const docLinkHtml = 'Like what you see? Visit the ' +\n",
              "            '<a target=\"_blank\" href=https://colab.research.google.com/notebooks/data_table.ipynb>data table notebook</a>'\n",
              "            + ' to learn more about interactive tables.';\n",
              "          element.innerHTML = '';\n",
              "          dataTable['output_type'] = 'display_data';\n",
              "          await google.colab.output.renderOutput(dataTable, element);\n",
              "          const docLink = document.createElement('div');\n",
              "          docLink.innerHTML = docLinkHtml;\n",
              "          element.appendChild(docLink);\n",
              "        }\n",
              "      </script>\n",
              "    </div>\n",
              "  </div>\n",
              "  "
            ]
          },
          "metadata": {},
          "execution_count": 19
        }
      ]
    },
    {
      "cell_type": "code",
      "source": [
        "from Fortuna import FlexCat"
      ],
      "metadata": {
        "id": "2AYasUEdTFyf"
      },
      "execution_count": 20,
      "outputs": []
    },
    {
      "cell_type": "code",
      "source": [
        "random_name = FlexCat({\n",
        "    \"male\": (\"John\", \"Paul\", \"George\", \"Ringo\"),\n",
        "    \"female\": (\"Mary\", \"Jane\", \"April\", \"Andrea\"),\n",
        "    \"non-binary\": (\"Pat\", \"Jaime\", \"Jessie\", \"Riley\"),\n",
        "}, key_bias=\"front_linear\", val_bias=\"truffle_shuffle\")"
      ],
      "metadata": {
        "id": "CAJ8xW9aU9NZ"
      },
      "execution_count": 21,
      "outputs": []
    },
    {
      "cell_type": "code",
      "source": [
        "random_name(\"male\")"
      ],
      "metadata": {
        "colab": {
          "base_uri": "https://localhost:8080/",
          "height": 35
        },
        "id": "NCsfzZ0wVcJc",
        "outputId": "01219082-eae1-47f7-a2f4-4b99b2016beb"
      },
      "execution_count": 22,
      "outputs": [
        {
          "output_type": "execute_result",
          "data": {
            "text/plain": [
              "'Paul'"
            ],
            "application/vnd.google.colaboratory.intrinsic+json": {
              "type": "string"
            }
          },
          "metadata": {},
          "execution_count": 22
        }
      ]
    },
    {
      "cell_type": "code",
      "source": [
        "random_name()"
      ],
      "metadata": {
        "colab": {
          "base_uri": "https://localhost:8080/",
          "height": 35
        },
        "id": "6Ie4MqZHVeo4",
        "outputId": "041bd125-fef2-4ccb-c53b-07dcf5d0a23a"
      },
      "execution_count": 23,
      "outputs": [
        {
          "output_type": "execute_result",
          "data": {
            "text/plain": [
              "'John'"
            ],
            "application/vnd.google.colaboratory.intrinsic+json": {
              "type": "string"
            }
          },
          "metadata": {},
          "execution_count": 23
        }
      ]
    },
    {
      "cell_type": "code",
      "source": [
        "flat_dist = RandomValue((\n",
        "    'Red',\n",
        "    'Orange',\n",
        "    'Yellow',\n",
        "    'Green',\n",
        "    'Blue',\n",
        "    'Purple',\n",
        "))"
      ],
      "metadata": {
        "id": "aJyDW1vVVoAb"
      },
      "execution_count": 24,
      "outputs": []
    },
    {
      "cell_type": "code",
      "source": [
        "distribution(flat_dist)"
      ],
      "metadata": {
        "colab": {
          "base_uri": "https://localhost:8080/"
        },
        "id": "5rzBJ8qpV0hi",
        "outputId": "ead5e445-2a69-4353-82b3-2a98693e6734"
      },
      "execution_count": 25,
      "outputs": [
        {
          "output_type": "stream",
          "name": "stdout",
          "text": [
            "Distribution of 1000000 samples:\n",
            " Blue: 16.6587%\n",
            " Green: 16.6775%\n",
            " Orange: 16.6288%\n",
            " Purple: 16.6713%\n",
            " Red: 16.6741%\n",
            " Yellow: 16.6896%\n"
          ]
        }
      ]
    },
    {
      "cell_type": "code",
      "source": [
        "from Fortuna import TruffleShuffle"
      ],
      "metadata": {
        "id": "IMnAnjvPWFtt"
      },
      "execution_count": 26,
      "outputs": []
    },
    {
      "cell_type": "code",
      "source": [
        "wide_dist = TruffleShuffle((\n",
        "    'Red',\n",
        "    'Orange',\n",
        "    'Yellow',\n",
        "    'Green',\n",
        "    'Blue',\n",
        "    'Purple',\n",
        "))"
      ],
      "metadata": {
        "id": "chEer5EOV2yI"
      },
      "execution_count": 27,
      "outputs": []
    },
    {
      "cell_type": "code",
      "source": [
        "distribution(wide_dist)"
      ],
      "metadata": {
        "colab": {
          "base_uri": "https://localhost:8080/"
        },
        "id": "hSoS9KFrWISN",
        "outputId": "978bdf3f-5073-448c-8ce3-2bd44ddd8818"
      },
      "execution_count": 28,
      "outputs": [
        {
          "output_type": "stream",
          "name": "stdout",
          "text": [
            "Distribution of 1000000 samples:\n",
            " Blue: 16.6736%\n",
            " Green: 16.6379%\n",
            " Orange: 16.6773%\n",
            " Purple: 16.6617%\n",
            " Red: 16.6608%\n",
            " Yellow: 16.6887%\n"
          ]
        }
      ]
    },
    {
      "cell_type": "markdown",
      "source": [
        "### ***A flat uniform distribution is likely to give us streaks of the same value. Wheras a wide distribution \"can't\".***"
      ],
      "metadata": {
        "id": "TcvszCu0WJhP"
      }
    },
    {
      "cell_type": "code",
      "source": [
        "for _ in range(10):\n",
        "    print(wide_dist())"
      ],
      "metadata": {
        "colab": {
          "base_uri": "https://localhost:8080/"
        },
        "id": "ejtErO-5Wags",
        "outputId": "a82cf58b-fe4c-4a59-d764-048c20900446"
      },
      "execution_count": 39,
      "outputs": [
        {
          "output_type": "stream",
          "name": "stdout",
          "text": [
            "Orange\n",
            "Red\n",
            "Purple\n",
            "Blue\n",
            "Yellow\n",
            "Orange\n",
            "Red\n",
            "Purple\n",
            "Green\n",
            "Yellow\n"
          ]
        }
      ]
    },
    {
      "cell_type": "code",
      "source": [
        "for _ in range(10):\n",
        "    print(flat_dist())"
      ],
      "metadata": {
        "colab": {
          "base_uri": "https://localhost:8080/"
        },
        "id": "u1g_M47rWeYN",
        "outputId": "07267453-3991-4524-c765-e88a28f918b1"
      },
      "execution_count": 36,
      "outputs": [
        {
          "output_type": "stream",
          "name": "stdout",
          "text": [
            "Orange\n",
            "Blue\n",
            "Blue\n",
            "Yellow\n",
            "Green\n",
            "Yellow\n",
            "Yellow\n",
            "Orange\n",
            "Green\n",
            "Red\n"
          ]
        }
      ]
    },
    {
      "cell_type": "code",
      "source": [
        "from MonkeyScope import timer\n",
        "from Fortuna import shuffle, fisher_yates, knuth_a\n",
        "from random import shuffle as r_shuffle"
      ],
      "metadata": {
        "id": "NeL7lNG1WjOS"
      },
      "execution_count": 40,
      "outputs": []
    },
    {
      "cell_type": "code",
      "source": [
        "n = 10000\n",
        "cycles = 10"
      ],
      "metadata": {
        "id": "xZu96YfrYWTl"
      },
      "execution_count": 41,
      "outputs": []
    },
    {
      "cell_type": "markdown",
      "source": [
        "## Fortuna's Fisher Yates"
      ],
      "metadata": {
        "id": "sG4TPHgXaHMH"
      }
    },
    {
      "cell_type": "code",
      "source": [
        "from Fortuna import random_below"
      ],
      "metadata": {
        "id": "paYWi4DEannb"
      },
      "execution_count": 45,
      "outputs": []
    },
    {
      "cell_type": "code",
      "source": [
        "array = list(range(0,10000))\n",
        "\n",
        "for i in reversed(range(1, len(array))):\n",
        "    j = random_below(i + 1)\n",
        "    array[i], array[j] = array[j], array[i]"
      ],
      "metadata": {
        "id": "rIuVMv1yaMpj"
      },
      "execution_count": 46,
      "outputs": []
    },
    {
      "cell_type": "code",
      "source": [
        "arr = list(range(n))\n",
        "timer(r_shuffle, arr, cycles=cycles)"
      ],
      "metadata": {
        "colab": {
          "base_uri": "https://localhost:8080/"
        },
        "id": "ppiXi9bqYYWV",
        "outputId": "79769b2a-4acc-454b-b3f0-706610d51b34"
      },
      "execution_count": 42,
      "outputs": [
        {
          "output_type": "stream",
          "name": "stdout",
          "text": [
            "Typical Timing: 6921711 ± 228594 ns\n"
          ]
        }
      ]
    },
    {
      "cell_type": "markdown",
      "source": [
        "## Fortuna's Knuth B, Default Shuffle"
      ],
      "metadata": {
        "id": "UdQn6DDeYi0b"
      }
    },
    {
      "cell_type": "code",
      "source": [
        "size = len(array) - 1\n",
        "for i in reversed(range(size)):\n",
        "    j = random_int(i, size)\n",
        "    array[i], array[j] = array[j], array[i]\n",
        "    "
      ],
      "metadata": {
        "id": "qpqvFzUjawxG"
      },
      "execution_count": 47,
      "outputs": []
    },
    {
      "cell_type": "code",
      "source": [
        "arr = list(range(n))\n",
        "\n",
        "timer(shuffle, arr, cycles=cycles)"
      ],
      "metadata": {
        "colab": {
          "base_uri": "https://localhost:8080/"
        },
        "id": "iMfN7lzQa77A",
        "outputId": "bf89451f-030a-4d12-bcaf-48b81fbcb304"
      },
      "execution_count": 48,
      "outputs": [
        {
          "output_type": "stream",
          "name": "stdout",
          "text": [
            "Typical Timing: 863240 ± 9033 ns\n"
          ]
        }
      ]
    },
    {
      "cell_type": "code",
      "source": [],
      "metadata": {
        "id": "zp7QBzxGa_qT"
      },
      "execution_count": null,
      "outputs": []
    }
  ]
}