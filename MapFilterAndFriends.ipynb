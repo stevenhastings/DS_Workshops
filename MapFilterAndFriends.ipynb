{
  "nbformat": 4,
  "nbformat_minor": 0,
  "metadata": {
    "colab": {
      "provenance": [],
      "collapsed_sections": [],
      "authorship_tag": "ABX9TyOZzBj71qKgPSSS/hPpaMW0",
      "include_colab_link": true
    },
    "kernelspec": {
      "name": "python3",
      "display_name": "Python 3"
    },
    "language_info": {
      "name": "python"
    }
  },
  "cells": [
    {
      "cell_type": "markdown",
      "metadata": {
        "id": "view-in-github",
        "colab_type": "text"
      },
      "source": [
        "<a href=\"https://colab.research.google.com/github/stevenhastings/DS_Workshops/blob/main/MapFilterAndFriends.ipynb\" target=\"_parent\"><img src=\"https://colab.research.google.com/assets/colab-badge.svg\" alt=\"Open In Colab\"/></a>"
      ]
    },
    {
      "cell_type": "markdown",
      "source": [
        "# DS Workshop: Map, Filter and Friends\n",
        "\n",
        "1. implementation.py\n",
        " * Shows possible implementations for map and filter. This is here to help us understand the signatures of these builtin functions. This code is not intended to be used in production.\n",
        "\n",
        "2. main.py\n",
        " * This is a basic introduction to how to use map and filter with helper functions. These helper functions are used throughout the Workshop. Other functions would typically be used in production. This is just a contrived example of how to use map and filter.\n",
        "\n",
        "3. mapping.py\n",
        " * This shows 4 flavors of mapping in Python, some good and some not so good.\n",
        "\n",
        "4. filtering.py\n",
        " * This shows 4 flavors of filtering in Python, some good and some not so good.\n",
        "\n",
        "5. real_world.py\n",
        " * This is a real world example of mapping and filtering together with more complex data and a tangible goal. This is more like real world code you might see in the wild."
      ],
      "metadata": {
        "id": "U_KAeGmIhmHT"
      }
    },
    {
      "cell_type": "markdown",
      "source": [
        "# Implementations.py"
      ],
      "metadata": {
        "id": "rFvJNqKVhK-J"
      }
    },
    {
      "cell_type": "code",
      "source": [
        "\"\"\" This file shows possible implementations for map and filter.\n",
        "These are not the actual implementations, but they give us a good idea of how to\n",
        "think about them. In reality these are implemented in c or c++ for Python.\n",
        "Do not use this code in your projects. Use the real deal instead. \"\"\"\n",
        "from typing import Iterator, Iterable, Callable, Any\n",
        "\n",
        "\n",
        "def my_map(transform: Callable[[Any], Any],\n",
        "           iterable: Iterable[Any]) -> Iterator[Any]:\n",
        "    return (transform(n) for n in iterable)\n",
        "\n",
        "\n",
        "def my_filter(predicate: Callable[[Any], bool],\n",
        "              iterable: Iterable[Any]) -> Iterator[Any]:\n",
        "    return (n for n in iterable if predicate(n))"
      ],
      "metadata": {
        "id": "k6G-TROGgze7"
      },
      "execution_count": null,
      "outputs": []
    },
    {
      "cell_type": "markdown",
      "source": [
        "# Main.py"
      ],
      "metadata": {
        "id": "biy5EQYGhASe"
      }
    },
    {
      "cell_type": "code",
      "source": [
        "\"\"\" Introduction to map and filter - contrived examples \"\"\"\n",
        "\n",
        "\n",
        "def add_one(n: int) -> int:\n",
        "    \"\"\" Transformer to be used with map \"\"\"\n",
        "    return n + 1\n",
        "\n",
        "\n",
        "def is_odd(n: int) -> bool:\n",
        "    \"\"\" Predicate for use with filter \"\"\"\n",
        "    return n % 2 != 0\n",
        "\n",
        "\n",
        "if __name__ == '__main__':\n",
        "    print(\"\\noriginal array\")\n",
        "    arr = list(range(10))\n",
        "    print(arr)\n",
        "\n",
        "    print(\"\\nmapped array (add_one)\")\n",
        "    print(list(map(add_one, arr)))\n",
        "\n",
        "    print(\"\\nfiltered array (is_odd)\")\n",
        "    print(list(filter(is_odd, arr)))v"
      ],
      "metadata": {
        "colab": {
          "base_uri": "https://localhost:8080/",
          "height": 132
        },
        "id": "ltX3U0EGhBvz",
        "outputId": "f4a9ea0f-f472-48a1-f1b4-94d2c1d228c4"
      },
      "execution_count": 87,
      "outputs": [
        {
          "output_type": "error",
          "ename": "SyntaxError",
          "evalue": "ignored",
          "traceback": [
            "\u001b[0;36m  File \u001b[0;32m\"<ipython-input-87-6dd98d657ed4>\"\u001b[0;36m, line \u001b[0;32m23\u001b[0m\n\u001b[0;31m    print(list(filter(is_odd, arr)))v\u001b[0m\n\u001b[0m                                    ^\u001b[0m\n\u001b[0;31mSyntaxError\u001b[0m\u001b[0;31m:\u001b[0m invalid syntax\n"
          ]
        }
      ]
    },
    {
      "cell_type": "markdown",
      "source": [
        "# Mapping.py"
      ],
      "metadata": {
        "id": "5wqEtGGcgxnN"
      }
    },
    {
      "cell_type": "code",
      "source": [
        "\"\"\" Four flavors of map\n",
        "All 4 produce the exact same output.\n",
        "The first two are ugly and considered by most to be non-Pythonic. \"\"\"\n",
        "from main import add_one\n",
        "\n",
        "arr = list(range(10))\n",
        "print(arr)\n",
        "\n",
        "# 1. This is particularly ugly - don't do this, avoid indexing when you can\n",
        "looped_arr = []\n",
        "for i in range(len(arr)):\n",
        "    looped_arr.append(add_one(arr[i]))\n",
        "print(looped_arr)\n",
        "\n",
        "# 2. This is slightly less ugly - don't do this either, unless you have to\n",
        "looped_arr2 = []\n",
        "for val in arr:\n",
        "    looped_arr2.append(add_one(val))\n",
        "print(looped_arr2)\n",
        "\n",
        "# 3. This is beautiful and what most hiring managers want to see\n",
        "mapped_arr = list(map(add_one, arr))\n",
        "print(mapped_arr)\n",
        "\n",
        "# 4. This is very beautiful and my preferred methodology\n",
        "comp_arr = [add_one(val) for val in arr]\n",
        "print(comp_arr)"
      ],
      "metadata": {
        "id": "baF5QYOCZtXe"
      },
      "execution_count": null,
      "outputs": []
    },
    {
      "cell_type": "markdown",
      "source": [
        "# Filtering.py"
      ],
      "metadata": {
        "id": "RY1Oedl5hRYu"
      }
    },
    {
      "cell_type": "code",
      "source": [
        "\"\"\" Three flavors of filter\n",
        "All 3 produce the exact same output.\n",
        "The first one is ugly and considered by most to be non-Pythonic. \"\"\"\n",
        "from main import is_odd\n",
        "\n",
        "arr = list(range(10))\n",
        "print(arr)\n",
        "\n",
        "# 1. This is particularly ugly - don't do this, always avoid indexing\n",
        "looped_arr = []\n",
        "for i in range(len(arr)):\n",
        "    if is_odd(arr[i]):\n",
        "        looped_arr.append(arr[i])\n",
        "print(looped_arr)\n",
        "\n",
        "# 2. This is slightly less ugly - don't do this either\n",
        "looped_arr2 = []\n",
        "for val in arr:\n",
        "    if is_odd(val):\n",
        "        looped_arr2.append(val)\n",
        "print(looped_arr2)\n",
        "\n",
        "# 3. This is beautiful and what most hiring managers want to see\n",
        "filtered_arr = list(filter(is_odd, arr))\n",
        "print(filtered_arr)\n",
        "\n",
        "# 4. This is very beautiful and my preferred methodology\n",
        "comp_arr = [val for val in arr if is_odd(val)]\n",
        "print(comp_arr)"
      ],
      "metadata": {
        "id": "fbVAX0lChSit"
      },
      "execution_count": null,
      "outputs": []
    },
    {
      "cell_type": "markdown",
      "source": [
        "# Follow Along"
      ],
      "metadata": {
        "id": "m8LOMe1piciZ"
      }
    },
    {
      "cell_type": "code",
      "source": [
        "\"\"\" Objective:\n",
        "Tally the discount totals for each team.\n",
        "The output format should match the input format: List[Dict]\n",
        "For this we'll use a generator expression inside a dictionary comprehension\n",
        "inside a list comprehension. \"\"\"\n",
        "\n",
        "teams = [\n",
        "    {\"TeamId\": 1, \"Name\": \"Awakening\"},\n",
        "    {\"TeamId\": 2, \"Name\": \"Symphony of Blades\"},\n",
        "    {\"TeamId\": 3, \"Name\": \"Team Cupcake\"},\n",
        "]\n",
        "discounts = [\n",
        "    {\"TeamId\": 2, \"Discount\": 1.00},\n",
        "    {\"TeamId\": 3, \"Discount\": 2.50},\n",
        "    {\"TeamId\": 1, \"Discount\": 0.25},\n",
        "    {\"TeamId\": 3, \"Discount\": 8.00},\n",
        "    {\"TeamId\": 1, \"Discount\": 5.00},\n",
        "]\n",
        "\n",
        "team_discounts = [\n",
        "    {\n",
        "        \"TeamId\": team[\"TeamId\"],\n",
        "        \"Name\": team[\"Name\"],\n",
        "        \"Discount\": sum(\n",
        "            discount[\"Discount\"]\n",
        "            for discount in discounts\n",
        "            if discount[\"TeamId\"] == team[\"TeamId\"]\n",
        "        )\n",
        "    } for team in teams\n",
        "]\n",
        "\n",
        "print(team_discounts)"
      ],
      "metadata": {
        "colab": {
          "base_uri": "https://localhost:8080/"
        },
        "id": "Z_9_egMKP-5D",
        "outputId": "605a87bf-df0e-4ccf-b71f-5c5611995796"
      },
      "execution_count": 74,
      "outputs": [
        {
          "output_type": "stream",
          "name": "stdout",
          "text": [
            "[{'TeamId': 1, 'Name': 'Awakening', 'Discount': 5.25}, {'TeamId': 2, 'Name': 'Symphony of Blades', 'Discount': 1.0}, {'TeamId': 3, 'Name': 'Team Cupcake', 'Discount': 10.5}]\n"
          ]
        }
      ]
    },
    {
      "cell_type": "code",
      "source": [
        "team_discounts = [\n",
        "    {\n",
        "        \"TeamID\": team[\"TeamId\"],\n",
        "        \"Name\": team[\"Name\"],\n",
        "        \"Discount\": sum(\n",
        "            discount[\"Discount\"]\n",
        "            for discount in discounts\n",
        "            if discount[\"TeamId\"] == team[\"TeamId\"]\n",
        "        )\n",
        "    } for team in teams\n",
        "]\n",
        "team_discounts"
      ],
      "metadata": {
        "colab": {
          "base_uri": "https://localhost:8080/"
        },
        "id": "f7mqP0N4drfR",
        "outputId": "bb35ec6f-935a-4125-eba2-1bbf382cb44a"
      },
      "execution_count": 85,
      "outputs": [
        {
          "output_type": "execute_result",
          "data": {
            "text/plain": [
              "[{'TeamID': 1, 'Name': 'Awakening', 'Discount': 5.25},\n",
              " {'TeamID': 2, 'Name': 'Symphony of Blades', 'Discount': 1.0},\n",
              " {'TeamID': 3, 'Name': 'Team Cupcake', 'Discount': 10.5}]"
            ]
          },
          "metadata": {},
          "execution_count": 85
        }
      ]
    },
    {
      "cell_type": "code",
      "source": [
        "def my_map(transform, iterable):\n",
        "    return (transform(item) for item in iterable)\n",
        "\n",
        "def my_filter(predicate, iterable):\n",
        "    return (item for item in iterable if predicate(item))\n",
        "\n",
        "arr = range(10)\n",
        "print(list(my_map(lambda n: n+1, arr)))"
      ],
      "metadata": {
        "colab": {
          "base_uri": "https://localhost:8080/"
        },
        "id": "Qqc-kC79USZ4",
        "outputId": "865c52e8-a3ab-4770-b3a9-f0f5bd8f6c27"
      },
      "execution_count": 72,
      "outputs": [
        {
          "output_type": "stream",
          "name": "stdout",
          "text": [
            "[1, 2, 3, 4, 5, 6, 7, 8, 9, 10]\n"
          ]
        }
      ]
    }
  ]
}